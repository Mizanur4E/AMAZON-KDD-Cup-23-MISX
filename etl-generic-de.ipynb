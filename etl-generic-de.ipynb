{
 "cells": [
  {
   "cell_type": "code",
   "execution_count": 1,
   "id": "6200af05",
   "metadata": {
    "_cell_guid": "b1076dfc-b9ad-4769-8c92-a6c4dae69d19",
    "_uuid": "8f2839f25d086af736a60e9eeb907d3b93b6e0e5",
    "execution": {
     "iopub.execute_input": "2023-06-06T04:11:20.107957Z",
     "iopub.status.busy": "2023-06-06T04:11:20.107052Z",
     "iopub.status.idle": "2023-06-06T04:11:20.122357Z",
     "shell.execute_reply": "2023-06-06T04:11:20.121565Z"
    },
    "papermill": {
     "duration": 0.052094,
     "end_time": "2023-06-06T04:11:20.124686",
     "exception": false,
     "start_time": "2023-06-06T04:11:20.072592",
     "status": "completed"
    },
    "tags": []
   },
   "outputs": [],
   "source": [
    "# This Python 3 environment comes with many helpful analytics libraries installed\n",
    "# It is defined by the kaggle/python Docker image: https://github.com/kaggle/docker-python\n",
    "# For example, here's several helpful packages to load\n",
    "\n",
    "import numpy as np # linear algebra\n",
    "import pandas as pd # data processing, CSV file I/O (e.g. pd.read_csv)\n",
    "\n",
    "# Input data files are available in the read-only \"../input/\" directory\n",
    "# For example, running this (by clicking run or pressing Shift+Enter) will list all files under the input directory\n",
    "\n",
    "import os\n",
    "for dirname, _, filenames in os.walk('/kaggle/input'):\n",
    "    for filename in filenames:\n",
    "        print(os.path.join(dirname, filename))\n",
    "\n",
    "# You can write up to 20GB to the current directory (/kaggle/working/) that gets preserved as output when you create a version using \"Save & Run All\" \n",
    "# You can also write temporary files to /kaggle/temp/, but they won't be saved outside of the current session"
   ]
  },
  {
   "cell_type": "code",
   "execution_count": 2,
   "id": "a8290b92",
   "metadata": {
    "collapsed": true,
    "execution": {
     "iopub.execute_input": "2023-06-06T04:11:20.190556Z",
     "iopub.status.busy": "2023-06-06T04:11:20.189491Z",
     "iopub.status.idle": "2023-06-06T04:12:10.557374Z",
     "shell.execute_reply": "2023-06-06T04:12:10.556051Z"
    },
    "jupyter": {
     "outputs_hidden": true
    },
    "papermill": {
     "duration": 50.40368,
     "end_time": "2023-06-06T04:12:10.560317",
     "exception": false,
     "start_time": "2023-06-06T04:11:20.156637",
     "status": "completed"
    },
    "tags": []
   },
   "outputs": [
    {
     "name": "stdout",
     "output_type": "stream",
     "text": [
      "Collecting aicrowd-cli\r\n",
      "  Downloading aicrowd_cli-0.1.15-py3-none-any.whl (51 kB)\r\n",
      "\u001b[2K     \u001b[90m━━━━━━━━━━━━━━━━━━━━━━━━━━━━━━━━━━━━━━━━\u001b[0m \u001b[32m51.1/51.1 kB\u001b[0m \u001b[31m2.2 MB/s\u001b[0m eta \u001b[36m0:00:00\u001b[0m\r\n",
      "\u001b[?25hRequirement already satisfied: pyarrow in /opt/conda/lib/python3.10/site-packages (9.0.0)\r\n",
      "Collecting click<8,>=7.1.2 (from aicrowd-cli)\r\n",
      "  Downloading click-7.1.2-py2.py3-none-any.whl (82 kB)\r\n",
      "\u001b[2K     \u001b[90m━━━━━━━━━━━━━━━━━━━━━━━━━━━━━━━━━━━━━━━━\u001b[0m \u001b[32m82.8/82.8 kB\u001b[0m \u001b[31m3.8 MB/s\u001b[0m eta \u001b[36m0:00:00\u001b[0m\r\n",
      "\u001b[?25hCollecting GitPython==3.1.18 (from aicrowd-cli)\r\n",
      "  Downloading GitPython-3.1.18-py3-none-any.whl (170 kB)\r\n",
      "\u001b[2K     \u001b[90m━━━━━━━━━━━━━━━━━━━━━━━━━━━━━━━━━━━━━━━\u001b[0m \u001b[32m170.1/170.1 kB\u001b[0m \u001b[31m8.4 MB/s\u001b[0m eta \u001b[36m0:00:00\u001b[0m\r\n",
      "\u001b[?25hRequirement already satisfied: requests<3,>=2.25.1 in /opt/conda/lib/python3.10/site-packages (from aicrowd-cli) (2.28.2)\r\n",
      "Requirement already satisfied: requests-toolbelt<1,>=0.9.1 in /opt/conda/lib/python3.10/site-packages (from aicrowd-cli) (0.10.1)\r\n",
      "Collecting rich<11,>=10.0.0 (from aicrowd-cli)\r\n",
      "  Downloading rich-10.16.2-py3-none-any.whl (214 kB)\r\n",
      "\u001b[2K     \u001b[90m━━━━━━━━━━━━━━━━━━━━━━━━━━━━━━━━━━━━━━\u001b[0m \u001b[32m214.4/214.4 kB\u001b[0m \u001b[31m17.8 MB/s\u001b[0m eta \u001b[36m0:00:00\u001b[0m\r\n",
      "\u001b[?25hRequirement already satisfied: toml<1,>=0.10.2 in /opt/conda/lib/python3.10/site-packages (from aicrowd-cli) (0.10.2)\r\n",
      "Requirement already satisfied: tqdm<5,>=4.56.0 in /opt/conda/lib/python3.10/site-packages (from aicrowd-cli) (4.64.1)\r\n",
      "Collecting pyzmq==22.1.0 (from aicrowd-cli)\r\n",
      "  Downloading pyzmq-22.1.0.tar.gz (1.2 MB)\r\n",
      "\u001b[2K     \u001b[90m━━━━━━━━━━━━━━━━━━━━━━━━━━━━━━━━━━━━━━━━\u001b[0m \u001b[32m1.2/1.2 MB\u001b[0m \u001b[31m37.8 MB/s\u001b[0m eta \u001b[36m0:00:00\u001b[0m\r\n",
      "\u001b[?25h  Installing build dependencies ... \u001b[?25l-\b \b\\\b \b|\b \b/\b \b-\b \bdone\r\n",
      "\u001b[?25h  Getting requirements to build wheel ... \u001b[?25ldone\r\n",
      "\u001b[?25h  Preparing metadata (pyproject.toml) ... \u001b[?25l-\b \b\\\b \b|\b \b/\b \bdone\r\n",
      "\u001b[?25hCollecting python-slugify<6,>=5.0.0 (from aicrowd-cli)\r\n",
      "  Downloading python_slugify-5.0.2-py2.py3-none-any.whl (6.7 kB)\r\n",
      "Collecting semver<3,>=2.13.0 (from aicrowd-cli)\r\n",
      "  Downloading semver-2.13.0-py2.py3-none-any.whl (12 kB)\r\n",
      "Requirement already satisfied: gitdb<5,>=4.0.1 in /opt/conda/lib/python3.10/site-packages (from GitPython==3.1.18->aicrowd-cli) (4.0.10)\r\n",
      "Requirement already satisfied: numpy>=1.16.6 in /opt/conda/lib/python3.10/site-packages (from pyarrow) (1.23.5)\r\n",
      "Requirement already satisfied: text-unidecode>=1.3 in /opt/conda/lib/python3.10/site-packages (from python-slugify<6,>=5.0.0->aicrowd-cli) (1.3)\r\n",
      "Requirement already satisfied: charset-normalizer<4,>=2 in /opt/conda/lib/python3.10/site-packages (from requests<3,>=2.25.1->aicrowd-cli) (2.1.1)\r\n",
      "Requirement already satisfied: idna<4,>=2.5 in /opt/conda/lib/python3.10/site-packages (from requests<3,>=2.25.1->aicrowd-cli) (3.4)\r\n",
      "Requirement already satisfied: urllib3<1.27,>=1.21.1 in /opt/conda/lib/python3.10/site-packages (from requests<3,>=2.25.1->aicrowd-cli) (1.26.15)\r\n",
      "Requirement already satisfied: certifi>=2017.4.17 in /opt/conda/lib/python3.10/site-packages (from requests<3,>=2.25.1->aicrowd-cli) (2023.5.7)\r\n",
      "Requirement already satisfied: colorama<0.5.0,>=0.4.0 in /opt/conda/lib/python3.10/site-packages (from rich<11,>=10.0.0->aicrowd-cli) (0.4.6)\r\n",
      "Collecting commonmark<0.10.0,>=0.9.0 (from rich<11,>=10.0.0->aicrowd-cli)\r\n",
      "  Downloading commonmark-0.9.1-py2.py3-none-any.whl (51 kB)\r\n",
      "\u001b[2K     \u001b[90m━━━━━━━━━━━━━━━━━━━━━━━━━━━━━━━━━━━━━━━━\u001b[0m \u001b[32m51.1/51.1 kB\u001b[0m \u001b[31m4.0 MB/s\u001b[0m eta \u001b[36m0:00:00\u001b[0m\r\n",
      "\u001b[?25hRequirement already satisfied: pygments<3.0.0,>=2.6.0 in /opt/conda/lib/python3.10/site-packages (from rich<11,>=10.0.0->aicrowd-cli) (2.15.1)\r\n",
      "Requirement already satisfied: smmap<6,>=3.0.1 in /opt/conda/lib/python3.10/site-packages (from gitdb<5,>=4.0.1->GitPython==3.1.18->aicrowd-cli) (5.0.0)\r\n",
      "Building wheels for collected packages: pyzmq\r\n",
      "  Building wheel for pyzmq (pyproject.toml) ... \u001b[?25l-\b \b\\\b \b|\b \b/\b \b-\b \b\\\b \b|\b \b/\b \b-\b \b\\\b \b|\b \b/\b \b-\b \b\\\b \b|\b \b/\b \b-\b \b\\\b \bdone\r\n",
      "\u001b[?25h  Created wheel for pyzmq: filename=pyzmq-22.1.0-cp310-cp310-linux_x86_64.whl size=538912 sha256=11b271ffa9b394f928d5871fbca59b92d56d5e33322080bdac0506dbc0b6e471\r\n",
      "  Stored in directory: /root/.cache/pip/wheels/2d/e1/f6/45f17238de3475af44fca25559ef8d2f70f2b230d941da499e\r\n",
      "Successfully built pyzmq\r\n",
      "Installing collected packages: commonmark, semver, rich, pyzmq, python-slugify, click, GitPython, aicrowd-cli\r\n",
      "  Attempting uninstall: semver\r\n",
      "    Found existing installation: semver 3.0.0\r\n",
      "    Uninstalling semver-3.0.0:\r\n",
      "      Successfully uninstalled semver-3.0.0\r\n",
      "  Attempting uninstall: rich\r\n",
      "    Found existing installation: rich 13.3.5\r\n",
      "    Uninstalling rich-13.3.5:\r\n",
      "      Successfully uninstalled rich-13.3.5\r\n",
      "  Attempting uninstall: pyzmq\r\n",
      "    Found existing installation: pyzmq 25.0.2\r\n",
      "    Uninstalling pyzmq-25.0.2:\r\n",
      "      Successfully uninstalled pyzmq-25.0.2\r\n",
      "  Attempting uninstall: python-slugify\r\n",
      "    Found existing installation: python-slugify 8.0.1\r\n",
      "    Uninstalling python-slugify-8.0.1:\r\n",
      "      Successfully uninstalled python-slugify-8.0.1\r\n",
      "  Attempting uninstall: click\r\n",
      "    Found existing installation: click 8.1.3\r\n",
      "    Uninstalling click-8.1.3:\r\n",
      "      Successfully uninstalled click-8.1.3\r\n",
      "  Attempting uninstall: GitPython\r\n",
      "    Found existing installation: GitPython 3.1.31\r\n",
      "    Uninstalling GitPython-3.1.31:\r\n",
      "      Successfully uninstalled GitPython-3.1.31\r\n",
      "\u001b[31mERROR: pip's dependency resolver does not currently take into account all the packages that are installed. This behaviour is the source of the following dependency conflicts.\r\n",
      "flask 2.3.2 requires click>=8.1.3, but you have click 7.1.2 which is incompatible.\r\n",
      "dask 2023.5.0 requires click>=8.0, but you have click 7.1.2 which is incompatible.\r\n",
      "distributed 2023.5.0 requires click>=8.0, but you have click 7.1.2 which is incompatible.\r\n",
      "flax 0.6.10 requires rich>=11.1, but you have rich 10.16.2 which is incompatible.\r\n",
      "ibis-framework 5.1.0 requires rich<14,>=12.4.4, but you have rich 10.16.2 which is incompatible.\r\n",
      "jupyter-client 7.4.9 requires pyzmq>=23.0, but you have pyzmq 22.1.0 which is incompatible.\r\n",
      "jupyter-server 2.5.0 requires pyzmq>=24, but you have pyzmq 22.1.0 which is incompatible.\r\n",
      "jupyterlab-lsp 4.1.0 requires jupyter-lsp>=2.0.0, but you have jupyter-lsp 1.5.1 which is incompatible.\r\n",
      "kfp 1.8.21 requires google-api-python-client<2,>=1.7.8, but you have google-api-python-client 2.86.0 which is incompatible.\r\n",
      "momepy 0.6.0 requires shapely>=2, but you have shapely 1.8.5.post1 which is incompatible.\r\n",
      "pymc3 3.11.5 requires numpy<1.22.2,>=1.15.0, but you have numpy 1.23.5 which is incompatible.\r\n",
      "pymc3 3.11.5 requires scipy<1.8.0,>=1.7.3, but you have scipy 1.10.1 which is incompatible.\u001b[0m\u001b[31m\r\n",
      "\u001b[0mSuccessfully installed GitPython-3.1.18 aicrowd-cli-0.1.15 click-7.1.2 commonmark-0.9.1 python-slugify-5.0.2 pyzmq-22.1.0 rich-10.16.2 semver-2.13.0\r\n",
      "\u001b[33mWARNING: Running pip as the 'root' user can result in broken permissions and conflicting behaviour with the system package manager. It is recommended to use a virtual environment instead: https://pip.pypa.io/warnings/venv\u001b[0m\u001b[33m\r\n",
      "\u001b[0m"
     ]
    }
   ],
   "source": [
    "!pip install aicrowd-cli pyarrow"
   ]
  },
  {
   "cell_type": "code",
   "execution_count": 3,
   "id": "93bf2dc6",
   "metadata": {
    "execution": {
     "iopub.execute_input": "2023-06-06T04:12:10.637009Z",
     "iopub.status.busy": "2023-06-06T04:12:10.636176Z",
     "iopub.status.idle": "2023-06-06T04:12:33.122849Z",
     "shell.execute_reply": "2023-06-06T04:12:33.121659Z"
    },
    "papermill": {
     "duration": 22.528126,
     "end_time": "2023-06-06T04:12:33.125499",
     "exception": false,
     "start_time": "2023-06-06T04:12:10.597373",
     "status": "completed"
    },
    "tags": []
   },
   "outputs": [
    {
     "name": "stdout",
     "output_type": "stream",
     "text": [
      "Please login here: \u001b[34m\u001b[1m\u001b[4mhttps://api.aicrowd.com/auth/-8XbvqqjrSDnZNVFiQU7P0zTU-bTQEQhb5atU5lEAac\u001b[0m\r\n",
      "/usr/bin/xdg-open: 869: www-browser: not found\r\n",
      "/usr/bin/xdg-open: 869: links2: not found\r\n",
      "/usr/bin/xdg-open: 869: elinks: not found\r\n",
      "/usr/bin/xdg-open: 869: links: not found\r\n",
      "/usr/bin/xdg-open: 869: lynx: not found\r\n",
      "/usr/bin/xdg-open: 869: w3m: not found\r\n",
      "xdg-open: no method available for opening 'https://api.aicrowd.com/auth/-8XbvqqjrSDnZNVFiQU7P0zTU-bTQEQhb5atU5lEAac'\r\n",
      "\u001b[32mAPI Key valid\u001b[0m\r\n",
      "\u001b[32mGitlab access token valid\u001b[0m\r\n",
      "\u001b[32mSaved details successfully!\u001b[0m\r\n"
     ]
    }
   ],
   "source": [
    "!aicrowd login"
   ]
  },
  {
   "cell_type": "code",
   "execution_count": 4,
   "id": "866c8d48",
   "metadata": {
    "execution": {
     "iopub.execute_input": "2023-06-06T04:12:33.202036Z",
     "iopub.status.busy": "2023-06-06T04:12:33.201557Z",
     "iopub.status.idle": "2023-06-06T04:14:33.902129Z",
     "shell.execute_reply": "2023-06-06T04:14:33.900496Z"
    },
    "papermill": {
     "duration": 120.742557,
     "end_time": "2023-06-06T04:14:33.905189",
     "exception": false,
     "start_time": "2023-06-06T04:12:33.162632",
     "status": "completed"
    },
    "tags": []
   },
   "outputs": [
    {
     "name": "stdout",
     "output_type": "stream",
     "text": [
      "sessions_test_task1_phase1.csv:   0%|               | 0.00/19.4M [00:00<?, ?B/s]\r\n",
      "sessions_test_task1_phase1.csv:  22%|█▎    | 4.19M/19.4M [00:01<00:02, 5.16MB/s]\r\n",
      "sessions_test_task1_phase1.csv:  38%|██▎   | 7.34M/19.4M [00:01<00:01, 8.91MB/s]\r\n",
      "sessions_test_task2_phase1.csv: 100%|██████| 1.92M/1.92M [00:00<00:00, 1.98MB/s]\r\n",
      "sessions_test_task1_phase1.csv:  70%|████▏ | 13.6M/19.4M [00:02<00:00, 9.34MB/s]\r\n",
      "sessions_test_task3_phase1.csv:   0%|               | 0.00/2.67M [00:00<?, ?B/s]\u001b[A\r\n",
      "sessions_test_task3_phase1.csv:  39%|██▎   | 1.05M/2.67M [00:00<00:01, 1.24MB/s]\u001b[A\r\n",
      "sessions_test_task3_phase1.csv: 100%|██████| 2.67M/2.67M [00:01<00:00, 2.56MB/s]\r\n",
      "sessions_test_task1_phase1.csv: 100%|██████| 19.4M/19.4M [00:03<00:00, 5.41MB/s]\r\n",
      "sessions_test_task1.csv:   0%|                      | 0.00/19.3M [00:00<?, ?B/s]\r\n",
      "sessions_test_task1.csv:  11%|█▍           | 2.10M/19.3M [00:01<00:10, 1.65MB/s]\r\n",
      "sessions_test_task2.csv:  55%|███████      | 1.05M/1.91M [00:00<00:00, 1.21MB/s]\u001b[A\r\n",
      "sessions_test_task2.csv: 100%|█████████████| 1.91M/1.91M [00:01<00:00, 1.91MB/s]\r\n",
      "sessions_test_task1.csv:  49%|██████▎      | 9.44M/19.3M [00:02<00:01, 5.30MB/s]\r\n",
      "sessions_test_task1.csv:  76%|█████████▉   | 14.7M/19.3M [00:03<00:00, 5.69MB/s]\r\n",
      "sessions_test_task3.csv:  39%|█████        | 1.05M/2.67M [00:00<00:01, 1.29MB/s]\u001b[A\r\n",
      "sessions_test_task3.csv: 100%|█████████████| 2.67M/2.67M [00:01<00:00, 2.63MB/s]\r\n",
      "sessions_test_task1.csv: 100%|█████████████| 19.3M/19.3M [00:04<00:00, 4.80MB/s]\r\n",
      "products_train.csv:   0%|                            | 0.00/589M [00:00<?, ?B/s]\r\n",
      "products_train.csv:   1%|▏                  | 6.29M/589M [00:01<01:18, 7.39MB/s]\r\n",
      "sessions_train.csv:   0%|                    | 1.05M/259M [00:01<04:34, 939kB/s]\u001b[A\r\n",
      "products_train.csv:   2%|▍                  | 13.6M/589M [00:02<01:31, 6.25MB/s]\r\n",
      "sessions_train.csv:   1%|▏                  | 3.15M/259M [00:02<02:59, 1.43MB/s]\u001b[A\r\n",
      "sessions_train.csv:   2%|▎                  | 4.19M/259M [00:02<02:18, 1.84MB/s]\u001b[A\r\n",
      "sessions_train.csv:   2%|▍                  | 5.24M/259M [00:02<01:49, 2.32MB/s]\u001b[A\r\n",
      "sessions_train.csv:   2%|▍                  | 6.29M/259M [00:03<01:37, 2.61MB/s]\u001b[A\r\n",
      "sessions_train.csv:   3%|▌                  | 7.34M/259M [00:03<01:28, 2.84MB/s]\u001b[A\r\n",
      "sessions_train.csv:   3%|▌                  | 8.39M/259M [00:03<01:33, 2.69MB/s]\u001b[A\r\n",
      "products_train.csv:   4%|▋                  | 22.0M/589M [00:05<01:49, 5.20MB/s]\r\n",
      "sessions_train.csv:   4%|▊                  | 10.5M/259M [00:04<01:26, 2.88MB/s]\u001b[A\r\n",
      "sessions_train.csv:   4%|▊                  | 11.5M/259M [00:04<01:21, 3.02MB/s]\u001b[A\r\n",
      "products_train.csv:   5%|▉                  | 27.3M/589M [00:06<01:32, 6.09MB/s]\r\n",
      "products_train.csv:   5%|▉                  | 30.4M/589M [00:06<01:09, 8.08MB/s]\r\n",
      "products_train.csv:   6%|█                  | 33.6M/589M [00:06<01:16, 7.29MB/s]\r\n",
      "products_train.csv:   7%|█▎                 | 38.8M/589M [00:07<00:53, 10.3MB/s]\r\n",
      "sessions_train.csv:   6%|█▏                 | 16.8M/259M [00:07<02:01, 2.00MB/s]\u001b[A\r\n",
      "sessions_train.csv:   7%|█▎                 | 17.8M/259M [00:07<01:44, 2.32MB/s]\u001b[A\r\n",
      "products_train.csv:   7%|█▎                 | 41.9M/589M [00:08<01:48, 5.03MB/s]\r\n",
      "products_train.csv:   8%|█▌                 | 47.2M/589M [00:08<01:13, 7.39MB/s]\r\n",
      "sessions_train.csv:   8%|█▌                 | 21.0M/259M [00:08<01:25, 2.79MB/s]\u001b[A\r\n",
      "sessions_train.csv:   8%|█▌                 | 22.0M/259M [00:08<01:09, 3.43MB/s]\u001b[A\r\n",
      "sessions_train.csv:   9%|█▋                 | 23.1M/259M [00:08<00:58, 4.03MB/s]\u001b[A\r\n",
      "products_train.csv:   9%|█▌                 | 50.3M/589M [00:10<02:15, 3.96MB/s]\r\n",
      "products_train.csv:   9%|█▋                 | 52.4M/589M [00:10<02:00, 4.46MB/s]\r\n",
      "products_train.csv:   9%|█▊                 | 55.6M/589M [00:10<01:28, 6.01MB/s]\r\n",
      "sessions_train.csv:  11%|█▉                 | 27.3M/259M [00:10<01:34, 2.46MB/s]\u001b[A\r\n",
      "products_train.csv:  11%|█▉                 | 61.9M/589M [00:11<01:17, 6.82MB/s]\r\n",
      "products_train.csv:  11%|██                 | 64.0M/589M [00:11<01:04, 8.08MB/s]\r\n",
      "sessions_train.csv:  12%|██▏                | 30.4M/259M [00:11<01:02, 3.67MB/s]\u001b[A\r\n",
      "sessions_train.csv:  12%|██▎                | 31.5M/259M [00:11<00:56, 4.05MB/s]\u001b[A\r\n",
      "sessions_train.csv:  13%|██▍                | 32.5M/259M [00:11<00:46, 4.92MB/s]\u001b[A\r\n",
      "sessions_train.csv:  13%|██▍                | 33.6M/259M [00:12<01:48, 2.08MB/s]\u001b[A\r\n",
      "products_train.csv:  12%|██▏                | 69.2M/589M [00:13<02:03, 4.22MB/s]\r\n",
      "products_train.csv:  12%|██▎                | 72.4M/589M [00:14<01:30, 5.73MB/s]\r\n",
      "sessions_train.csv:  14%|██▋                | 36.7M/259M [00:13<01:10, 3.14MB/s]\u001b[A\r\n",
      "sessions_train.csv:  15%|██▊                | 37.7M/259M [00:13<00:56, 3.92MB/s]\u001b[A\r\n",
      "sessions_train.csv:  15%|██▊                | 38.8M/259M [00:13<00:45, 4.80MB/s]\u001b[A\r\n",
      "sessions_train.csv:  15%|██▉                | 39.8M/259M [00:13<00:42, 5.13MB/s]\u001b[A\r\n",
      "products_train.csv:  15%|██▉                | 89.1M/589M [00:16<00:52, 9.48MB/s]\r\n",
      "sessions_train.csv:  16%|███                | 41.9M/259M [00:15<02:17, 1.58MB/s]\u001b[A\r\n",
      "sessions_train.csv:  17%|███▏               | 43.0M/259M [00:15<01:48, 1.99MB/s]\u001b[A\r\n",
      "sessions_train.csv:  17%|███▏               | 44.0M/259M [00:16<01:38, 2.18MB/s]\u001b[A\r\n",
      "sessions_train.csv:  17%|███▎               | 45.1M/259M [00:16<01:21, 2.62MB/s]\u001b[A\r\n",
      "sessions_train.csv:  18%|███▍               | 46.1M/259M [00:16<01:07, 3.17MB/s]\u001b[A\r\n",
      "sessions_train.csv:  19%|███▌               | 48.2M/259M [00:16<00:44, 4.74MB/s]\u001b[A\r\n",
      "products_train.csv:  17%|███▏               | 97.5M/589M [00:18<01:18, 6.22MB/s]\r\n",
      "sessions_train.csv:  19%|███▋               | 50.3M/259M [00:18<01:43, 2.01MB/s]\u001b[A\r\n",
      "sessions_train.csv:  20%|███▊               | 51.4M/259M [00:18<01:22, 2.51MB/s]\u001b[A\r\n",
      "sessions_train.csv:  20%|███▊               | 52.4M/259M [00:18<01:13, 2.81MB/s]\u001b[A\r\n",
      "sessions_train.csv:  21%|███▉               | 53.5M/259M [00:18<00:59, 3.46MB/s]\u001b[A\r\n",
      "products_train.csv:  17%|███▍                | 101M/589M [00:20<02:06, 3.86MB/s]\r\n",
      "products_train.csv:  17%|███▍                | 103M/589M [00:20<01:46, 4.56MB/s]\r\n",
      "products_train.csv:  18%|███▌                | 106M/589M [00:20<01:18, 6.19MB/s]\r\n",
      "products_train.csv:  19%|███▋                | 109M/589M [00:21<01:46, 4.52MB/s]\r\n",
      "products_train.csv:  19%|███▊                | 111M/589M [00:21<01:31, 5.23MB/s]\r\n",
      "products_train.csv:  19%|███▉                | 114M/589M [00:21<01:07, 7.00MB/s]\r\n",
      "sessions_train.csv:  24%|████▌              | 62.9M/259M [00:21<00:42, 4.59MB/s]\u001b[A\r\n",
      "sessions_train.csv:  25%|████▋              | 64.0M/259M [00:21<00:38, 5.05MB/s]\u001b[A\r\n",
      "sessions_train.csv:  25%|████▊              | 65.0M/259M [00:21<00:34, 5.68MB/s]\u001b[A\r\n",
      "products_train.csv:  20%|███▉                | 117M/589M [00:23<02:09, 3.63MB/s]\r\n",
      "products_train.csv:  20%|████                | 120M/589M [00:23<01:48, 4.31MB/s]\r\n",
      "products_train.csv:  21%|████▏               | 123M/589M [00:23<01:19, 5.89MB/s]\r\n",
      "sessions_train.csv:  27%|█████              | 69.2M/259M [00:23<01:17, 2.46MB/s]\u001b[A\r\n",
      "sessions_train.csv:  27%|█████▏             | 70.3M/259M [00:23<01:03, 2.97MB/s]\u001b[A\r\n",
      "sessions_train.csv:  28%|█████▏             | 71.3M/259M [00:23<00:57, 3.25MB/s]\u001b[A\r\n",
      "products_train.csv:  21%|████▎               | 126M/589M [00:25<01:51, 4.14MB/s]\r\n",
      "products_train.csv:  22%|████▎               | 128M/589M [00:25<01:32, 5.00MB/s]\r\n",
      "products_train.csv:  24%|████▋               | 139M/589M [00:26<00:55, 8.16MB/s]\r\n",
      "sessions_train.csv:  29%|█████▌             | 75.5M/259M [00:25<01:43, 1.78MB/s]\u001b[A\r\n",
      "sessions_train.csv:  30%|█████▌             | 76.5M/259M [00:26<01:18, 2.33MB/s]\u001b[A\r\n",
      "sessions_train.csv:  30%|█████▋             | 77.6M/259M [00:26<01:13, 2.46MB/s]\u001b[A\r\n",
      "sessions_train.csv:  30%|█████▊             | 78.6M/259M [00:26<01:00, 2.99MB/s]\u001b[A\r\n",
      "sessions_train.csv:  31%|█████▊             | 79.7M/259M [00:26<00:47, 3.77MB/s]\u001b[A\r\n",
      "sessions_train.csv:  31%|█████▉             | 80.7M/259M [00:26<00:41, 4.35MB/s]\u001b[A\r\n",
      "products_train.csv:  24%|████▊               | 143M/589M [00:27<01:42, 4.35MB/s]\r\n",
      "products_train.csv:  27%|█████▎              | 156M/589M [00:29<00:51, 8.44MB/s]\r\n",
      "sessions_train.csv:  32%|██████▏            | 83.9M/259M [00:28<01:47, 1.63MB/s]\u001b[A\r\n",
      "sessions_train.csv:  33%|██████▏            | 84.9M/259M [00:29<01:30, 1.92MB/s]\u001b[A\r\n",
      "sessions_train.csv:  33%|██████▎            | 86.0M/259M [00:29<01:30, 1.91MB/s]\u001b[A\r\n",
      "products_train.csv:  27%|█████▍              | 159M/589M [00:30<01:39, 4.31MB/s]\r\n",
      "products_train.csv:  27%|█████▍              | 161M/589M [00:30<01:23, 5.09MB/s]\r\n",
      "products_train.csv:  28%|█████▌              | 165M/589M [00:31<01:02, 6.83MB/s]\r\n",
      "products_train.csv:  28%|█████▋              | 167M/589M [00:31<00:51, 8.15MB/s]\r\n",
      "products_train.csv:  29%|█████▉              | 173M/589M [00:32<01:05, 6.35MB/s]\r\n",
      "sessions_train.csv:  36%|██████▊            | 92.3M/259M [00:32<01:46, 1.57MB/s]\u001b[A\r\n",
      "sessions_train.csv:  36%|██████▊            | 93.3M/259M [00:32<01:21, 2.03MB/s]\u001b[A\r\n",
      "sessions_train.csv:  36%|██████▉            | 94.4M/259M [00:32<01:14, 2.22MB/s]\u001b[A\r\n",
      "products_train.csv:  30%|█████▉              | 176M/589M [00:33<01:32, 4.48MB/s]\r\n",
      "products_train.csv:  31%|██████▏             | 181M/589M [00:34<00:54, 7.51MB/s]\r\n",
      "products_train.csv:  31%|██████▏             | 184M/589M [00:34<00:45, 8.83MB/s]\r\n",
      "sessions_train.csv:  38%|███████▎           | 99.6M/259M [00:33<00:31, 5.05MB/s]\u001b[A\r\n",
      "products_train.csv:  32%|██████▎             | 186M/589M [00:35<01:34, 4.27MB/s]\r\n",
      "sessions_train.csv:  39%|███████▊            | 102M/259M [00:34<00:48, 3.24MB/s]\u001b[A\r\n",
      "products_train.csv:  32%|██████▍             | 188M/589M [00:35<01:28, 4.53MB/s]\r\n",
      "products_train.csv:  33%|██████▌             | 192M/589M [00:36<00:57, 6.88MB/s]\r\n",
      "sessions_train.csv:  41%|████████▏           | 106M/259M [00:35<00:30, 5.08MB/s]\u001b[A\r\n",
      "sessions_train.csv:  41%|████████▎           | 107M/259M [00:35<00:26, 5.64MB/s]\u001b[A\r\n",
      "products_train.csv:  34%|██████▋             | 198M/589M [00:37<00:53, 7.36MB/s]\r\n",
      "sessions_train.csv:  42%|████████▍           | 109M/259M [00:36<00:53, 2.83MB/s]\u001b[A\r\n",
      "sessions_train.csv:  42%|████████▍           | 110M/259M [00:36<00:46, 3.24MB/s]\u001b[A\r\n",
      "products_train.csv:  34%|██████▊             | 201M/589M [00:37<01:00, 6.36MB/s]\r\n",
      "products_train.csv:  35%|██████▉             | 203M/589M [00:37<00:55, 6.89MB/s]\r\n",
      "products_train.csv:  35%|███████             | 207M/589M [00:38<00:41, 9.11MB/s]\r\n",
      "sessions_train.csv:  44%|████████▉           | 115M/259M [00:37<00:23, 6.05MB/s]\u001b[A\r\n",
      "products_train.csv:  37%|███████▎            | 215M/589M [00:39<00:38, 9.83MB/s]\r\n",
      "sessions_train.csv:  45%|█████████           | 117M/259M [00:38<00:47, 2.96MB/s]\u001b[A\r\n",
      "sessions_train.csv:  46%|█████████▏          | 118M/259M [00:38<00:42, 3.30MB/s]\u001b[A\r\n",
      "sessions_train.csv:  46%|█████████▏          | 120M/259M [00:38<00:35, 3.91MB/s]\u001b[A\r\n",
      "products_train.csv:  37%|███████▍            | 218M/589M [00:39<00:55, 6.68MB/s]\r\n",
      "products_train.csv:  37%|███████▍            | 220M/589M [00:40<00:49, 7.47MB/s]\r\n",
      "products_train.csv:  39%|███████▉            | 232M/589M [00:41<00:42, 8.42MB/s]\r\n",
      "sessions_train.csv:  49%|█████████▋          | 126M/259M [00:40<00:53, 2.48MB/s]\u001b[A\r\n",
      "sessions_train.csv:  49%|█████████▊          | 128M/259M [00:41<00:44, 2.96MB/s]\u001b[A\r\n",
      "sessions_train.csv:  50%|█████████▉          | 129M/259M [00:41<00:41, 3.13MB/s]\u001b[A\r\n",
      "sessions_train.csv:  50%|██████████          | 130M/259M [00:41<00:37, 3.44MB/s]\u001b[A\r\n",
      "products_train.csv:  40%|████████            | 237M/589M [00:42<01:03, 5.54MB/s]\r\n",
      "products_train.csv:  42%|████████▍           | 249M/589M [00:44<00:37, 9.07MB/s]\r\n",
      "sessions_train.csv:  52%|██████████▎         | 134M/259M [00:43<01:00, 2.05MB/s]\u001b[A\r\n",
      "products_train.csv:  43%|████████▌           | 254M/589M [00:44<00:41, 8.09MB/s]\r\n",
      "products_train.csv:  44%|████████▋           | 257M/589M [00:45<00:32, 10.2MB/s]\r\n",
      "sessions_train.csv:  53%|██████████▌         | 137M/259M [00:44<00:40, 3.04MB/s]\u001b[A\r\n",
      "sessions_train.csv:  53%|██████████▋         | 138M/259M [00:44<00:37, 3.18MB/s]\u001b[A\r\n",
      "sessions_train.csv:  54%|██████████▊         | 139M/259M [00:44<00:31, 3.85MB/s]\u001b[A\r\n",
      "products_train.csv:  45%|█████████           | 265M/589M [00:46<00:34, 9.42MB/s]\r\n",
      "products_train.csv:  45%|█████████           | 267M/589M [00:46<00:30, 10.6MB/s]\r\n",
      "sessions_train.csv:  55%|███████████         | 144M/259M [00:45<00:29, 3.95MB/s]\u001b[A\r\n",
      "sessions_train.csv:  56%|███████████▏        | 145M/259M [00:45<00:26, 4.31MB/s]\u001b[A\r\n",
      "sessions_train.csv:  57%|███████████▎        | 147M/259M [00:46<00:19, 5.74MB/s]\u001b[A\r\n",
      "sessions_train.csv:  57%|███████████▍        | 148M/259M [00:46<00:18, 6.03MB/s]\u001b[A\r\n",
      "sessions_train.csv:  58%|███████████▌        | 150M/259M [00:46<00:14, 7.68MB/s]\u001b[A\r\n",
      "products_train.csv:  46%|█████████▏          | 269M/589M [00:48<01:28, 3.61MB/s]\r\n",
      "products_train.csv:  46%|█████████▏          | 272M/589M [00:48<01:10, 4.49MB/s]\r\n",
      "products_train.csv:  47%|█████████▎          | 274M/589M [00:48<00:55, 5.71MB/s]\r\n",
      "sessions_train.csv:  59%|███████████▉        | 154M/259M [00:47<00:19, 5.37MB/s]\u001b[A\r\n",
      "sessions_train.csv:  60%|████████████        | 156M/259M [00:47<00:13, 7.39MB/s]\u001b[A\r\n",
      "sessions_train.csv:  61%|████████████▏       | 158M/259M [00:47<00:13, 7.62MB/s]\u001b[A\r\n",
      "sessions_train.csv:  61%|████████████▎       | 159M/259M [00:48<00:22, 4.39MB/s]\u001b[A\r\n",
      "sessions_train.csv:  62%|████████████▍       | 160M/259M [00:48<00:21, 4.55MB/s]\u001b[A\r\n",
      "products_train.csv:  47%|█████████▍          | 277M/589M [00:49<01:37, 3.19MB/s]\r\n",
      "products_train.csv:  47%|█████████▍          | 279M/589M [00:50<01:19, 3.91MB/s]\r\n",
      "sessions_train.csv:  63%|████████████▌       | 164M/259M [00:49<00:19, 4.83MB/s]\u001b[A\r\n",
      "products_train.csv:  48%|█████████▌          | 282M/589M [00:50<00:56, 5.46MB/s]\r\n",
      "sessions_train.csv:  64%|████████████▊       | 167M/259M [00:49<00:17, 5.44MB/s]\u001b[A\r\n",
      "sessions_train.csv:  65%|████████████▉       | 168M/259M [00:50<00:32, 2.77MB/s]\u001b[A\r\n",
      "products_train.csv:  49%|█████████▊          | 290M/589M [00:52<00:53, 5.54MB/s]\r\n",
      "sessions_train.csv:  66%|█████████████       | 170M/259M [00:52<00:56, 1.59MB/s]\u001b[A\r\n",
      "sessions_train.csv:  66%|█████████████▏      | 171M/259M [00:52<00:45, 1.94MB/s]\u001b[A\r\n",
      "sessions_train.csv:  66%|█████████████▎      | 172M/259M [00:52<00:35, 2.46MB/s]\u001b[A\r\n",
      "sessions_train.csv:  67%|█████████████▎      | 173M/259M [00:53<00:27, 3.16MB/s]\u001b[A\r\n",
      "products_train.csv:  50%|█████████▉          | 294M/589M [00:54<01:31, 3.24MB/s]\r\n",
      "products_train.csv:  52%|██████████▎         | 305M/589M [00:55<00:42, 6.60MB/s]\r\n",
      "products_train.csv:  52%|██████████▍         | 307M/589M [00:55<00:35, 7.99MB/s]\r\n",
      "sessions_train.csv:  68%|█████████████▋      | 177M/259M [00:54<00:34, 2.39MB/s]\u001b[A\r\n",
      "products_train.csv:  53%|██████████▌         | 312M/589M [00:56<00:33, 8.19MB/s]\r\n",
      "products_train.csv:  54%|██████████▊         | 317M/589M [00:56<00:23, 11.3MB/s]\r\n",
      "sessions_train.csv:  70%|█████████████▉      | 180M/259M [00:55<00:26, 3.03MB/s]\u001b[A\r\n",
      "sessions_train.csv:  70%|█████████████▉      | 181M/259M [00:55<00:21, 3.67MB/s]\u001b[A\r\n",
      "sessions_train.csv:  70%|██████████████      | 182M/259M [00:55<00:17, 4.36MB/s]\u001b[A\r\n",
      "products_train.csv:  55%|██████████▉         | 321M/589M [00:57<00:45, 5.92MB/s]\r\n",
      "products_train.csv:  55%|███████████         | 326M/589M [00:57<00:27, 9.64MB/s]\r\n",
      "products_train.csv:  56%|███████████▏        | 328M/589M [00:58<00:34, 7.64MB/s]\r\n",
      "products_train.csv:  56%|███████████▏        | 330M/589M [00:58<00:29, 8.66MB/s]\r\n",
      "products_train.csv:  56%|███████████▎        | 332M/589M [00:58<00:24, 10.3MB/s]\r\n",
      "sessions_train.csv:  73%|██████████████▋     | 190M/259M [00:57<00:13, 4.97MB/s]\u001b[A\r\n",
      "sessions_train.csv:  74%|██████████████▋     | 191M/259M [00:58<00:14, 4.76MB/s]\u001b[A\r\n",
      "products_train.csv:  59%|███████████▊        | 349M/589M [01:01<00:30, 7.89MB/s]\r\n",
      "sessions_train.csv:  74%|██████████████▉     | 193M/259M [01:00<00:56, 1.18MB/s]\u001b[A\r\n",
      "sessions_train.csv:  75%|██████████████▉     | 194M/259M [01:01<00:44, 1.46MB/s]\u001b[A\r\n",
      "sessions_train.csv:  75%|███████████████     | 195M/259M [01:01<00:34, 1.84MB/s]\u001b[A\r\n",
      "sessions_train.csv:  76%|███████████████▏    | 196M/259M [01:01<00:27, 2.29MB/s]\u001b[A\r\n",
      "sessions_train.csv:  76%|███████████████▏    | 197M/259M [01:01<00:21, 2.90MB/s]\u001b[A\r\n",
      "sessions_train.csv:  76%|███████████████▎    | 198M/259M [01:01<00:18, 3.25MB/s]\u001b[A\r\n",
      "sessions_train.csv:  77%|███████████████▎    | 199M/259M [01:02<00:15, 3.81MB/s]\u001b[A\r\n",
      "products_train.csv:  61%|████████████▏       | 360M/589M [01:03<00:32, 6.98MB/s]\r\n",
      "sessions_train.csv:  78%|███████████████▌    | 201M/259M [01:03<00:32, 1.76MB/s]\u001b[A\r\n",
      "products_train.csv:  61%|████████████▎       | 362M/589M [01:04<00:56, 4.03MB/s]\r\n",
      "products_train.csv:  62%|████████████▎       | 364M/589M [01:05<00:45, 4.97MB/s]\r\n",
      "products_train.csv:  62%|████████████▍       | 366M/589M [01:05<00:35, 6.19MB/s]\r\n",
      "sessions_train.csv:  80%|███████████████▉    | 207M/259M [01:04<00:11, 4.56MB/s]\u001b[A\r\n",
      "sessions_train.csv:  80%|████████████████    | 208M/259M [01:04<00:09, 5.21MB/s]\u001b[A\r\n",
      "sessions_train.csv:  80%|████████████████    | 209M/259M [01:04<00:08, 5.69MB/s]\u001b[A\r\n",
      "products_train.csv:  63%|████████████▌       | 371M/589M [01:06<00:44, 4.84MB/s]\r\n",
      "products_train.csv:  64%|████████████▊       | 376M/589M [01:06<00:26, 8.12MB/s]\r\n",
      "sessions_train.csv:  82%|████████████████▎   | 212M/259M [01:06<00:15, 3.07MB/s]\u001b[A\r\n",
      "sessions_train.csv:  82%|████████████████▍   | 213M/259M [01:06<00:13, 3.53MB/s]\u001b[A\r\n",
      "sessions_train.csv:  83%|████████████████▌   | 215M/259M [01:06<00:09, 4.83MB/s]\u001b[A\r\n",
      "products_train.csv:  66%|█████████████       | 386M/589M [01:09<00:41, 4.89MB/s]\r\n",
      "products_train.csv:  66%|█████████████▏      | 388M/589M [01:09<00:34, 5.78MB/s]\r\n",
      "products_train.csv:  66%|█████████████▎      | 391M/589M [01:09<00:25, 7.76MB/s]\r\n",
      "sessions_train.csv:  85%|████████████████▉   | 220M/259M [01:09<00:15, 2.57MB/s]\u001b[A\r\n",
      "sessions_train.csv:  85%|█████████████████   | 221M/259M [01:09<00:12, 3.09MB/s]\u001b[A\r\n",
      "sessions_train.csv:  86%|█████████████████▏  | 222M/259M [01:09<00:10, 3.41MB/s]\u001b[A\r\n",
      "products_train.csv:  67%|█████████████▍      | 394M/589M [01:10<00:43, 4.47MB/s]\r\n",
      "products_train.csv:  69%|█████████████▊      | 408M/589M [01:12<00:22, 8.06MB/s]\r\n",
      "products_train.csv:  70%|█████████████▉      | 411M/589M [01:12<00:25, 6.91MB/s]\r\n",
      "products_train.csv:  71%|██████████████      | 415M/589M [01:13<00:19, 8.76MB/s]\r\n",
      "products_train.csv:  71%|██████████████▏     | 417M/589M [01:13<00:16, 10.2MB/s]\r\n",
      "sessions_train.csv:  89%|█████████████████▊  | 231M/259M [01:12<00:08, 3.39MB/s]\u001b[A\r\n",
      "sessions_train.csv:  90%|█████████████████▉  | 233M/259M [01:12<00:05, 4.60MB/s]\u001b[A\r\n",
      "products_train.csv:  72%|██████████████▍     | 425M/589M [01:14<00:20, 8.19MB/s]\r\n",
      "sessions_train.csv:  91%|██████████████████  | 235M/259M [01:14<00:09, 2.69MB/s]\u001b[A\r\n",
      "sessions_train.csv:  91%|██████████████████▏ | 236M/259M [01:14<00:08, 2.90MB/s]\u001b[A\r\n",
      "products_train.csv:  73%|██████████████▋     | 432M/589M [01:15<00:16, 9.36MB/s]\r\n",
      "products_train.csv:  74%|██████████████▊     | 434M/589M [01:15<00:14, 10.9MB/s]\r\n",
      "sessions_train.csv:  92%|██████████████████▍ | 239M/259M [01:14<00:05, 3.97MB/s]\u001b[A\r\n",
      "sessions_train.csv:  93%|██████████████████▌ | 240M/259M [01:15<00:04, 4.41MB/s]\u001b[A\r\n",
      "sessions_train.csv:  93%|██████████████████▌ | 241M/259M [01:15<00:03, 4.62MB/s]\u001b[A\r\n",
      "products_train.csv:  75%|███████████████     | 441M/589M [01:17<00:20, 7.32MB/s]\r\n",
      "sessions_train.csv:  94%|██████████████████▊ | 243M/259M [01:17<00:09, 1.70MB/s]\u001b[A\r\n",
      "products_train.csv:  76%|███████████████     | 445M/589M [01:18<00:32, 4.42MB/s]\r\n",
      "products_train.csv:  76%|███████████████▏    | 447M/589M [01:18<00:28, 5.05MB/s]\r\n",
      "sessions_train.csv:  95%|███████████████████ | 246M/259M [01:17<00:04, 2.85MB/s]\u001b[A\r\n",
      "products_train.csv:  77%|███████████████▎    | 452M/589M [01:19<00:17, 7.99MB/s]\r\n",
      "sessions_train.csv:  96%|███████████████████▎| 250M/259M [01:18<00:01, 5.09MB/s]\u001b[A\r\n",
      "products_train.csv:  77%|███████████████▍    | 454M/589M [01:20<00:31, 4.33MB/s]\r\n",
      "products_train.csv:  78%|███████████████▌    | 459M/589M [01:20<00:20, 6.41MB/s]\r\n",
      "sessions_train.csv:  98%|███████████████████▌| 254M/259M [01:20<00:02, 2.26MB/s]\u001b[A\r\n",
      "sessions_train.csv:  98%|███████████████████▋| 255M/259M [01:20<00:01, 2.70MB/s]\u001b[A\r\n",
      "sessions_train.csv:  99%|███████████████████▊| 257M/259M [01:20<00:00, 3.83MB/s]\u001b[A\r\n",
      "sessions_train.csv: 100%|███████████████████▉| 258M/259M [01:20<00:00, 4.41MB/s]\u001b[A\r\n",
      "sessions_train.csv: 100%|████████████████████| 259M/259M [01:21<00:00, 3.19MB/s]\r\n",
      "products_train.csv: 100%|████████████████████| 589M/589M [01:41<00:00, 5.79MB/s]\r\n"
     ]
    }
   ],
   "source": [
    "!aicrowd dataset download --challenge task-1-next-product-recommendation"
   ]
  },
  {
   "cell_type": "code",
   "execution_count": 5,
   "id": "ad7cc765",
   "metadata": {
    "execution": {
     "iopub.execute_input": "2023-06-06T04:14:34.064948Z",
     "iopub.status.busy": "2023-06-06T04:14:34.064442Z",
     "iopub.status.idle": "2023-06-06T04:14:34.070936Z",
     "shell.execute_reply": "2023-06-06T04:14:34.069932Z"
    },
    "papermill": {
     "duration": 0.089106,
     "end_time": "2023-06-06T04:14:34.073559",
     "exception": false,
     "start_time": "2023-06-06T04:14:33.984453",
     "status": "completed"
    },
    "tags": []
   },
   "outputs": [],
   "source": [
    "import os\n",
    "import numpy as np\n",
    "import pandas as pd\n",
    "from functools import lru_cache"
   ]
  },
  {
   "cell_type": "code",
   "execution_count": 6,
   "id": "d35aa2db",
   "metadata": {
    "execution": {
     "iopub.execute_input": "2023-06-06T04:14:34.233618Z",
     "iopub.status.busy": "2023-06-06T04:14:34.233226Z",
     "iopub.status.idle": "2023-06-06T04:14:34.238341Z",
     "shell.execute_reply": "2023-06-06T04:14:34.237132Z"
    },
    "papermill": {
     "duration": 0.088863,
     "end_time": "2023-06-06T04:14:34.240873",
     "exception": false,
     "start_time": "2023-06-06T04:14:34.152010",
     "status": "completed"
    },
    "tags": []
   },
   "outputs": [],
   "source": [
    "train_data_dir = '.'\n",
    "test_data_dir = '.'\n",
    "task = 'task1'\n",
    "PREDS_PER_SESSION = 100"
   ]
  },
  {
   "cell_type": "code",
   "execution_count": 7,
   "id": "dd30ddea",
   "metadata": {
    "execution": {
     "iopub.execute_input": "2023-06-06T04:14:34.400136Z",
     "iopub.status.busy": "2023-06-06T04:14:34.399687Z",
     "iopub.status.idle": "2023-06-06T04:14:34.406256Z",
     "shell.execute_reply": "2023-06-06T04:14:34.405069Z"
    },
    "papermill": {
     "duration": 0.088045,
     "end_time": "2023-06-06T04:14:34.408599",
     "exception": false,
     "start_time": "2023-06-06T04:14:34.320554",
     "status": "completed"
    },
    "tags": []
   },
   "outputs": [],
   "source": [
    "def read_product_data():\n",
    "    return pd.read_csv(os.path.join(train_data_dir, 'products_train.csv'))\n",
    "def read_train_data():\n",
    "    return pd.read_csv(os.path.join(train_data_dir, 'sessions_train.csv'))\n",
    "def read_test_data(task):\n",
    "    return pd.read_csv(os.path.join(test_data_dir, f'sessions_test_{task}.csv'))"
   ]
  },
  {
   "cell_type": "code",
   "execution_count": 8,
   "id": "7f8603cf",
   "metadata": {
    "execution": {
     "iopub.execute_input": "2023-06-06T04:14:34.567235Z",
     "iopub.status.busy": "2023-06-06T04:14:34.566799Z",
     "iopub.status.idle": "2023-06-06T04:14:51.533232Z",
     "shell.execute_reply": "2023-06-06T04:14:51.532133Z"
    },
    "papermill": {
     "duration": 17.04827,
     "end_time": "2023-06-06T04:14:51.535639",
     "exception": false,
     "start_time": "2023-06-06T04:14:34.487369",
     "status": "completed"
    },
    "tags": []
   },
   "outputs": [
    {
     "data": {
      "text/html": [
       "<div>\n",
       "<style scoped>\n",
       "    .dataframe tbody tr th:only-of-type {\n",
       "        vertical-align: middle;\n",
       "    }\n",
       "\n",
       "    .dataframe tbody tr th {\n",
       "        vertical-align: top;\n",
       "    }\n",
       "\n",
       "    .dataframe thead th {\n",
       "        text-align: right;\n",
       "    }\n",
       "</style>\n",
       "<table border=\"1\" class=\"dataframe\">\n",
       "  <thead>\n",
       "    <tr style=\"text-align: right;\">\n",
       "      <th></th>\n",
       "      <th>id</th>\n",
       "      <th>locale</th>\n",
       "      <th>title</th>\n",
       "      <th>price</th>\n",
       "      <th>brand</th>\n",
       "      <th>color</th>\n",
       "      <th>size</th>\n",
       "      <th>model</th>\n",
       "      <th>material</th>\n",
       "      <th>author</th>\n",
       "      <th>desc</th>\n",
       "    </tr>\n",
       "  </thead>\n",
       "  <tbody>\n",
       "    <tr>\n",
       "      <th>1178693</th>\n",
       "      <td>B01G2GFIXY</td>\n",
       "      <td>UK</td>\n",
       "      <td>Dudu N Girlie Fitted Cot Bed Sheets | Cot Shee...</td>\n",
       "      <td>6.85</td>\n",
       "      <td>DUDU N GIRLIE</td>\n",
       "      <td>Pink</td>\n",
       "      <td>60x120 cm (Pack of 1)</td>\n",
       "      <td>B01G2GFIXY</td>\n",
       "      <td>100% Cotton</td>\n",
       "      <td>NaN</td>\n",
       "      <td>ALL-NIGHT SUPPORT - Travel Cot Sheets 120x60 F...</td>\n",
       "    </tr>\n",
       "    <tr>\n",
       "      <th>128643</th>\n",
       "      <td>B00EMGLQS8</td>\n",
       "      <td>DE</td>\n",
       "      <td>Ketozolin 2% Shampoo bei seborrhoischer Dermat...</td>\n",
       "      <td>16.49</td>\n",
       "      <td>DERMAPHARM AG</td>\n",
       "      <td>NaN</td>\n",
       "      <td>120 ml (1er Pack)</td>\n",
       "      <td>Y4</td>\n",
       "      <td>NaN</td>\n",
       "      <td>NaN</td>\n",
       "      <td>DERMAPHARM AG Arzneimittel, Deutschland</td>\n",
       "    </tr>\n",
       "    <tr>\n",
       "      <th>1437195</th>\n",
       "      <td>B09R1STXZJ</td>\n",
       "      <td>ES</td>\n",
       "      <td>Finocam - Agenda 2022 2023 Secundaria Semana V...</td>\n",
       "      <td>3.69</td>\n",
       "      <td>Cabero Group 1916, S.A</td>\n",
       "      <td>Imposible</td>\n",
       "      <td>PEQUEÑO - 8º - 120x164 mm</td>\n",
       "      <td>1</td>\n",
       "      <td>Papel</td>\n",
       "      <td>NaN</td>\n",
       "      <td>Contenido: La anualidad incluye la información...</td>\n",
       "    </tr>\n",
       "    <tr>\n",
       "      <th>246940</th>\n",
       "      <td>B095PQ354G</td>\n",
       "      <td>DE</td>\n",
       "      <td>SAUBA LOOWY | Toilettenbürste ohne Borsten, Se...</td>\n",
       "      <td>25.90</td>\n",
       "      <td>SAUBA</td>\n",
       "      <td>Schwarz/Grau-schwarz</td>\n",
       "      <td>NaN</td>\n",
       "      <td>schwarz matt</td>\n",
       "      <td>NaN</td>\n",
       "      <td>NaN</td>\n",
       "      <td>Antibakterielle Wirkung des Bürstenkopfes (TÜV...</td>\n",
       "    </tr>\n",
       "    <tr>\n",
       "      <th>429663</th>\n",
       "      <td>B09Z6Z6PM8</td>\n",
       "      <td>DE</td>\n",
       "      <td>NatureMark Basic Bettlaken - weiches und pfleg...</td>\n",
       "      <td>11.99</td>\n",
       "      <td>NatureMark</td>\n",
       "      <td>Weiß</td>\n",
       "      <td>140 x 200 cm</td>\n",
       "      <td>NaN</td>\n",
       "      <td>100% Baumwolle</td>\n",
       "      <td>NaN</td>\n",
       "      <td>Ein Markenprodukt von NatureMark vielseitig ve...</td>\n",
       "    </tr>\n",
       "  </tbody>\n",
       "</table>\n",
       "</div>"
      ],
      "text/plain": [
       "                 id locale                                              title  \\\n",
       "1178693  B01G2GFIXY     UK  Dudu N Girlie Fitted Cot Bed Sheets | Cot Shee...   \n",
       "128643   B00EMGLQS8     DE  Ketozolin 2% Shampoo bei seborrhoischer Dermat...   \n",
       "1437195  B09R1STXZJ     ES  Finocam - Agenda 2022 2023 Secundaria Semana V...   \n",
       "246940   B095PQ354G     DE  SAUBA LOOWY | Toilettenbürste ohne Borsten, Se...   \n",
       "429663   B09Z6Z6PM8     DE  NatureMark Basic Bettlaken - weiches und pfleg...   \n",
       "\n",
       "         price                   brand                 color  \\\n",
       "1178693   6.85           DUDU N GIRLIE                  Pink   \n",
       "128643   16.49           DERMAPHARM AG                   NaN   \n",
       "1437195   3.69  Cabero Group 1916, S.A             Imposible   \n",
       "246940   25.90                   SAUBA  Schwarz/Grau-schwarz   \n",
       "429663   11.99              NatureMark                  Weiß   \n",
       "\n",
       "                              size         model        material author  \\\n",
       "1178693      60x120 cm (Pack of 1)    B01G2GFIXY     100% Cotton    NaN   \n",
       "128643           120 ml (1er Pack)            Y4             NaN    NaN   \n",
       "1437195  PEQUEÑO - 8º - 120x164 mm             1           Papel    NaN   \n",
       "246940                         NaN  schwarz matt             NaN    NaN   \n",
       "429663                140 x 200 cm           NaN  100% Baumwolle    NaN   \n",
       "\n",
       "                                                      desc  \n",
       "1178693  ALL-NIGHT SUPPORT - Travel Cot Sheets 120x60 F...  \n",
       "128643             DERMAPHARM AG Arzneimittel, Deutschland  \n",
       "1437195  Contenido: La anualidad incluye la información...  \n",
       "246940   Antibakterielle Wirkung des Bürstenkopfes (TÜV...  \n",
       "429663   Ein Markenprodukt von NatureMark vielseitig ve...  "
      ]
     },
     "execution_count": 8,
     "metadata": {},
     "output_type": "execute_result"
    }
   ],
   "source": [
    "products = read_product_data()\n",
    "products.sample(5)"
   ]
  },
  {
   "cell_type": "code",
   "execution_count": 9,
   "id": "1fe84c73",
   "metadata": {
    "execution": {
     "iopub.execute_input": "2023-06-06T04:14:51.692517Z",
     "iopub.status.busy": "2023-06-06T04:14:51.692162Z",
     "iopub.status.idle": "2023-06-06T04:14:58.084215Z",
     "shell.execute_reply": "2023-06-06T04:14:58.083361Z"
    },
    "papermill": {
     "duration": 6.473802,
     "end_time": "2023-06-06T04:14:58.087437",
     "exception": false,
     "start_time": "2023-06-06T04:14:51.613635",
     "status": "completed"
    },
    "tags": []
   },
   "outputs": [
    {
     "data": {
      "text/html": [
       "<div>\n",
       "<style scoped>\n",
       "    .dataframe tbody tr th:only-of-type {\n",
       "        vertical-align: middle;\n",
       "    }\n",
       "\n",
       "    .dataframe tbody tr th {\n",
       "        vertical-align: top;\n",
       "    }\n",
       "\n",
       "    .dataframe thead th {\n",
       "        text-align: right;\n",
       "    }\n",
       "</style>\n",
       "<table border=\"1\" class=\"dataframe\">\n",
       "  <thead>\n",
       "    <tr style=\"text-align: right;\">\n",
       "      <th></th>\n",
       "      <th>prev_items</th>\n",
       "      <th>next_item</th>\n",
       "      <th>locale</th>\n",
       "    </tr>\n",
       "  </thead>\n",
       "  <tbody>\n",
       "    <tr>\n",
       "      <th>0</th>\n",
       "      <td>['B09W9FND7K' 'B09JSPLN1M']</td>\n",
       "      <td>B09M7GY217</td>\n",
       "      <td>DE</td>\n",
       "    </tr>\n",
       "    <tr>\n",
       "      <th>1</th>\n",
       "      <td>['B076THCGSG' 'B007MO8IME' 'B08MF65MLV' 'B001B...</td>\n",
       "      <td>B001B4THSA</td>\n",
       "      <td>DE</td>\n",
       "    </tr>\n",
       "    <tr>\n",
       "      <th>2</th>\n",
       "      <td>['B0B1LGXWDS' 'B00AZYORS2' 'B0B1LGXWDS' 'B00AZ...</td>\n",
       "      <td>B0767DTG2Q</td>\n",
       "      <td>DE</td>\n",
       "    </tr>\n",
       "    <tr>\n",
       "      <th>3</th>\n",
       "      <td>['B09XMTWDVT' 'B0B4MZZ8MB' 'B0B7HZ2GWX' 'B09XM...</td>\n",
       "      <td>B0B4R9NN4B</td>\n",
       "      <td>DE</td>\n",
       "    </tr>\n",
       "    <tr>\n",
       "      <th>4</th>\n",
       "      <td>['B09Y5CSL3T' 'B09Y5DPTXN' 'B09FKD61R8']</td>\n",
       "      <td>B0BGVBKWGZ</td>\n",
       "      <td>DE</td>\n",
       "    </tr>\n",
       "  </tbody>\n",
       "</table>\n",
       "</div>"
      ],
      "text/plain": [
       "                                          prev_items   next_item locale\n",
       "0                        ['B09W9FND7K' 'B09JSPLN1M']  B09M7GY217     DE\n",
       "1  ['B076THCGSG' 'B007MO8IME' 'B08MF65MLV' 'B001B...  B001B4THSA     DE\n",
       "2  ['B0B1LGXWDS' 'B00AZYORS2' 'B0B1LGXWDS' 'B00AZ...  B0767DTG2Q     DE\n",
       "3  ['B09XMTWDVT' 'B0B4MZZ8MB' 'B0B7HZ2GWX' 'B09XM...  B0B4R9NN4B     DE\n",
       "4           ['B09Y5CSL3T' 'B09Y5DPTXN' 'B09FKD61R8']  B0BGVBKWGZ     DE"
      ]
     },
     "execution_count": 9,
     "metadata": {},
     "output_type": "execute_result"
    }
   ],
   "source": [
    "train_sessions = read_train_data()\n",
    "train_sessions.head(5)"
   ]
  },
  {
   "cell_type": "code",
   "execution_count": 10,
   "id": "a91a817d",
   "metadata": {
    "execution": {
     "iopub.execute_input": "2023-06-06T04:14:58.245647Z",
     "iopub.status.busy": "2023-06-06T04:14:58.244993Z",
     "iopub.status.idle": "2023-06-06T04:14:58.657159Z",
     "shell.execute_reply": "2023-06-06T04:14:58.655894Z"
    },
    "papermill": {
     "duration": 0.493317,
     "end_time": "2023-06-06T04:14:58.659669",
     "exception": false,
     "start_time": "2023-06-06T04:14:58.166352",
     "status": "completed"
    },
    "tags": []
   },
   "outputs": [
    {
     "data": {
      "text/html": [
       "<div>\n",
       "<style scoped>\n",
       "    .dataframe tbody tr th:only-of-type {\n",
       "        vertical-align: middle;\n",
       "    }\n",
       "\n",
       "    .dataframe tbody tr th {\n",
       "        vertical-align: top;\n",
       "    }\n",
       "\n",
       "    .dataframe thead th {\n",
       "        text-align: right;\n",
       "    }\n",
       "</style>\n",
       "<table border=\"1\" class=\"dataframe\">\n",
       "  <thead>\n",
       "    <tr style=\"text-align: right;\">\n",
       "      <th></th>\n",
       "      <th>prev_items</th>\n",
       "      <th>locale</th>\n",
       "    </tr>\n",
       "  </thead>\n",
       "  <tbody>\n",
       "    <tr>\n",
       "      <th>0</th>\n",
       "      <td>['B087VLP2RT' 'B09BRQSHYH' 'B099KW4ZLV']</td>\n",
       "      <td>DE</td>\n",
       "    </tr>\n",
       "    <tr>\n",
       "      <th>1</th>\n",
       "      <td>['B08XW4W667' 'B096VMCJYF' 'B096VMCJYF']</td>\n",
       "      <td>DE</td>\n",
       "    </tr>\n",
       "    <tr>\n",
       "      <th>2</th>\n",
       "      <td>['B09Z4T2GJ3' 'B09Z3FBXMB' 'B0936K9LTJ' 'B09Z4...</td>\n",
       "      <td>DE</td>\n",
       "    </tr>\n",
       "    <tr>\n",
       "      <th>3</th>\n",
       "      <td>['B07T6Y2HG7' 'B07T2NBLX9' 'B07Y1G5F3Y']</td>\n",
       "      <td>DE</td>\n",
       "    </tr>\n",
       "    <tr>\n",
       "      <th>4</th>\n",
       "      <td>['B0B2DRKZ6X' 'B0B2DRKZ6X' 'B0B2DRKZ6X']</td>\n",
       "      <td>DE</td>\n",
       "    </tr>\n",
       "  </tbody>\n",
       "</table>\n",
       "</div>"
      ],
      "text/plain": [
       "                                          prev_items locale\n",
       "0           ['B087VLP2RT' 'B09BRQSHYH' 'B099KW4ZLV']     DE\n",
       "1           ['B08XW4W667' 'B096VMCJYF' 'B096VMCJYF']     DE\n",
       "2  ['B09Z4T2GJ3' 'B09Z3FBXMB' 'B0936K9LTJ' 'B09Z4...     DE\n",
       "3           ['B07T6Y2HG7' 'B07T2NBLX9' 'B07Y1G5F3Y']     DE\n",
       "4           ['B0B2DRKZ6X' 'B0B2DRKZ6X' 'B0B2DRKZ6X']     DE"
      ]
     },
     "execution_count": 10,
     "metadata": {},
     "output_type": "execute_result"
    }
   ],
   "source": [
    "test_sessions = read_test_data(task)\n",
    "test_sessions.head(5)"
   ]
  },
  {
   "cell_type": "code",
   "execution_count": 11,
   "id": "f37cbd0c",
   "metadata": {
    "execution": {
     "iopub.execute_input": "2023-06-06T04:14:58.816979Z",
     "iopub.status.busy": "2023-06-06T04:14:58.816551Z",
     "iopub.status.idle": "2023-06-06T04:14:58.821955Z",
     "shell.execute_reply": "2023-06-06T04:14:58.820930Z"
    },
    "papermill": {
     "duration": 0.085782,
     "end_time": "2023-06-06T04:14:58.824120",
     "exception": false,
     "start_time": "2023-06-06T04:14:58.738338",
     "status": "completed"
    },
    "tags": []
   },
   "outputs": [],
   "source": [
    "test_sessions_UK = pd.DataFrame()\n",
    "products_UK = pd.DataFrame()"
   ]
  },
  {
   "cell_type": "code",
   "execution_count": 12,
   "id": "95542623",
   "metadata": {
    "execution": {
     "iopub.execute_input": "2023-06-06T04:14:58.981055Z",
     "iopub.status.busy": "2023-06-06T04:14:58.980674Z",
     "iopub.status.idle": "2023-06-06T04:14:58.985938Z",
     "shell.execute_reply": "2023-06-06T04:14:58.984877Z"
    },
    "papermill": {
     "duration": 0.08649,
     "end_time": "2023-06-06T04:14:58.988199",
     "exception": false,
     "start_time": "2023-06-06T04:14:58.901709",
     "status": "completed"
    },
    "tags": []
   },
   "outputs": [],
   "source": [
    "train_sessions_UK = pd.DataFrame()\n",
    "products_UK = pd.DataFrame()"
   ]
  },
  {
   "cell_type": "code",
   "execution_count": 13,
   "id": "0300107d",
   "metadata": {
    "execution": {
     "iopub.execute_input": "2023-06-06T04:14:59.146300Z",
     "iopub.status.busy": "2023-06-06T04:14:59.145913Z",
     "iopub.status.idle": "2023-06-06T04:14:59.880750Z",
     "shell.execute_reply": "2023-06-06T04:14:59.879601Z"
    },
    "papermill": {
     "duration": 0.817661,
     "end_time": "2023-06-06T04:14:59.883673",
     "exception": false,
     "start_time": "2023-06-06T04:14:59.066012",
     "status": "completed"
    },
    "tags": []
   },
   "outputs": [],
   "source": [
    "# Filter train_sessions for rows with locale='UK'\n",
    "train_sessions_UK = train_sessions[train_sessions['locale'] == 'DE']"
   ]
  },
  {
   "cell_type": "code",
   "execution_count": 14,
   "id": "d929d73c",
   "metadata": {
    "execution": {
     "iopub.execute_input": "2023-06-06T04:15:00.041158Z",
     "iopub.status.busy": "2023-06-06T04:15:00.040305Z",
     "iopub.status.idle": "2023-06-06T04:15:00.046973Z",
     "shell.execute_reply": "2023-06-06T04:15:00.045895Z"
    },
    "papermill": {
     "duration": 0.08725,
     "end_time": "2023-06-06T04:15:00.049142",
     "exception": false,
     "start_time": "2023-06-06T04:14:59.961892",
     "status": "completed"
    },
    "tags": []
   },
   "outputs": [
    {
     "data": {
      "text/plain": [
       "(0, 0)"
      ]
     },
     "execution_count": 14,
     "metadata": {},
     "output_type": "execute_result"
    }
   ],
   "source": [
    "test_sessions_UK.shape"
   ]
  },
  {
   "cell_type": "code",
   "execution_count": 15,
   "id": "3915c9fc",
   "metadata": {
    "execution": {
     "iopub.execute_input": "2023-06-06T04:15:00.207090Z",
     "iopub.status.busy": "2023-06-06T04:15:00.206704Z",
     "iopub.status.idle": "2023-06-06T04:15:00.270717Z",
     "shell.execute_reply": "2023-06-06T04:15:00.269858Z"
    },
    "papermill": {
     "duration": 0.145728,
     "end_time": "2023-06-06T04:15:00.272934",
     "exception": false,
     "start_time": "2023-06-06T04:15:00.127206",
     "status": "completed"
    },
    "tags": []
   },
   "outputs": [],
   "source": [
    "test_sessions_UK = test_sessions[test_sessions['locale'] == 'DE']"
   ]
  },
  {
   "cell_type": "code",
   "execution_count": 16,
   "id": "f3b8e496",
   "metadata": {
    "execution": {
     "iopub.execute_input": "2023-06-06T04:15:00.431663Z",
     "iopub.status.busy": "2023-06-06T04:15:00.430617Z",
     "iopub.status.idle": "2023-06-06T04:15:00.807572Z",
     "shell.execute_reply": "2023-06-06T04:15:00.806493Z"
    },
    "papermill": {
     "duration": 0.459078,
     "end_time": "2023-06-06T04:15:00.810383",
     "exception": false,
     "start_time": "2023-06-06T04:15:00.351305",
     "status": "completed"
    },
    "tags": []
   },
   "outputs": [],
   "source": [
    "products_UK = products[products['locale'] == 'DE']"
   ]
  },
  {
   "cell_type": "code",
   "execution_count": 17,
   "id": "4413ca8b",
   "metadata": {
    "execution": {
     "iopub.execute_input": "2023-06-06T04:15:00.968926Z",
     "iopub.status.busy": "2023-06-06T04:15:00.968519Z",
     "iopub.status.idle": "2023-06-06T04:15:00.979204Z",
     "shell.execute_reply": "2023-06-06T04:15:00.978152Z"
    },
    "papermill": {
     "duration": 0.092234,
     "end_time": "2023-06-06T04:15:00.981495",
     "exception": false,
     "start_time": "2023-06-06T04:15:00.889261",
     "status": "completed"
    },
    "tags": []
   },
   "outputs": [
    {
     "data": {
      "text/html": [
       "<div>\n",
       "<style scoped>\n",
       "    .dataframe tbody tr th:only-of-type {\n",
       "        vertical-align: middle;\n",
       "    }\n",
       "\n",
       "    .dataframe tbody tr th {\n",
       "        vertical-align: top;\n",
       "    }\n",
       "\n",
       "    .dataframe thead th {\n",
       "        text-align: right;\n",
       "    }\n",
       "</style>\n",
       "<table border=\"1\" class=\"dataframe\">\n",
       "  <thead>\n",
       "    <tr style=\"text-align: right;\">\n",
       "      <th></th>\n",
       "      <th>prev_items</th>\n",
       "      <th>next_item</th>\n",
       "      <th>locale</th>\n",
       "    </tr>\n",
       "  </thead>\n",
       "  <tbody>\n",
       "    <tr>\n",
       "      <th>0</th>\n",
       "      <td>['B09W9FND7K' 'B09JSPLN1M']</td>\n",
       "      <td>B09M7GY217</td>\n",
       "      <td>DE</td>\n",
       "    </tr>\n",
       "    <tr>\n",
       "      <th>1</th>\n",
       "      <td>['B076THCGSG' 'B007MO8IME' 'B08MF65MLV' 'B001B...</td>\n",
       "      <td>B001B4THSA</td>\n",
       "      <td>DE</td>\n",
       "    </tr>\n",
       "    <tr>\n",
       "      <th>2</th>\n",
       "      <td>['B0B1LGXWDS' 'B00AZYORS2' 'B0B1LGXWDS' 'B00AZ...</td>\n",
       "      <td>B0767DTG2Q</td>\n",
       "      <td>DE</td>\n",
       "    </tr>\n",
       "    <tr>\n",
       "      <th>3</th>\n",
       "      <td>['B09XMTWDVT' 'B0B4MZZ8MB' 'B0B7HZ2GWX' 'B09XM...</td>\n",
       "      <td>B0B4R9NN4B</td>\n",
       "      <td>DE</td>\n",
       "    </tr>\n",
       "    <tr>\n",
       "      <th>4</th>\n",
       "      <td>['B09Y5CSL3T' 'B09Y5DPTXN' 'B09FKD61R8']</td>\n",
       "      <td>B0BGVBKWGZ</td>\n",
       "      <td>DE</td>\n",
       "    </tr>\n",
       "  </tbody>\n",
       "</table>\n",
       "</div>"
      ],
      "text/plain": [
       "                                          prev_items   next_item locale\n",
       "0                        ['B09W9FND7K' 'B09JSPLN1M']  B09M7GY217     DE\n",
       "1  ['B076THCGSG' 'B007MO8IME' 'B08MF65MLV' 'B001B...  B001B4THSA     DE\n",
       "2  ['B0B1LGXWDS' 'B00AZYORS2' 'B0B1LGXWDS' 'B00AZ...  B0767DTG2Q     DE\n",
       "3  ['B09XMTWDVT' 'B0B4MZZ8MB' 'B0B7HZ2GWX' 'B09XM...  B0B4R9NN4B     DE\n",
       "4           ['B09Y5CSL3T' 'B09Y5DPTXN' 'B09FKD61R8']  B0BGVBKWGZ     DE"
      ]
     },
     "execution_count": 17,
     "metadata": {},
     "output_type": "execute_result"
    }
   ],
   "source": [
    "train_sessions_UK.head()"
   ]
  },
  {
   "cell_type": "code",
   "execution_count": null,
   "id": "5e09292a",
   "metadata": {
    "papermill": {
     "duration": 0.077871,
     "end_time": "2023-06-06T04:15:01.137750",
     "exception": false,
     "start_time": "2023-06-06T04:15:01.059879",
     "status": "completed"
    },
    "tags": []
   },
   "outputs": [],
   "source": []
  },
  {
   "cell_type": "code",
   "execution_count": 18,
   "id": "2c50c783",
   "metadata": {
    "execution": {
     "iopub.execute_input": "2023-06-06T04:15:01.295079Z",
     "iopub.status.busy": "2023-06-06T04:15:01.294654Z",
     "iopub.status.idle": "2023-06-06T04:15:01.308083Z",
     "shell.execute_reply": "2023-06-06T04:15:01.307265Z"
    },
    "papermill": {
     "duration": 0.095031,
     "end_time": "2023-06-06T04:15:01.310148",
     "exception": false,
     "start_time": "2023-06-06T04:15:01.215117",
     "status": "completed"
    },
    "tags": []
   },
   "outputs": [
    {
     "data": {
      "text/html": [
       "<div>\n",
       "<style scoped>\n",
       "    .dataframe tbody tr th:only-of-type {\n",
       "        vertical-align: middle;\n",
       "    }\n",
       "\n",
       "    .dataframe tbody tr th {\n",
       "        vertical-align: top;\n",
       "    }\n",
       "\n",
       "    .dataframe thead th {\n",
       "        text-align: right;\n",
       "    }\n",
       "</style>\n",
       "<table border=\"1\" class=\"dataframe\">\n",
       "  <thead>\n",
       "    <tr style=\"text-align: right;\">\n",
       "      <th></th>\n",
       "      <th>prev_items</th>\n",
       "      <th>next_item</th>\n",
       "      <th>locale</th>\n",
       "    </tr>\n",
       "  </thead>\n",
       "  <tbody>\n",
       "    <tr>\n",
       "      <th>0</th>\n",
       "      <td>['B09W9FND7K' 'B09JSPLN1M']</td>\n",
       "      <td>B09M7GY217</td>\n",
       "      <td>DE</td>\n",
       "    </tr>\n",
       "    <tr>\n",
       "      <th>1</th>\n",
       "      <td>['B076THCGSG' 'B007MO8IME' 'B08MF65MLV' 'B001B...</td>\n",
       "      <td>B001B4THSA</td>\n",
       "      <td>DE</td>\n",
       "    </tr>\n",
       "    <tr>\n",
       "      <th>2</th>\n",
       "      <td>['B0B1LGXWDS' 'B00AZYORS2' 'B0B1LGXWDS' 'B00AZ...</td>\n",
       "      <td>B0767DTG2Q</td>\n",
       "      <td>DE</td>\n",
       "    </tr>\n",
       "    <tr>\n",
       "      <th>3</th>\n",
       "      <td>['B09XMTWDVT' 'B0B4MZZ8MB' 'B0B7HZ2GWX' 'B09XM...</td>\n",
       "      <td>B0B4R9NN4B</td>\n",
       "      <td>DE</td>\n",
       "    </tr>\n",
       "    <tr>\n",
       "      <th>4</th>\n",
       "      <td>['B09Y5CSL3T' 'B09Y5DPTXN' 'B09FKD61R8']</td>\n",
       "      <td>B0BGVBKWGZ</td>\n",
       "      <td>DE</td>\n",
       "    </tr>\n",
       "    <tr>\n",
       "      <th>...</th>\n",
       "      <td>...</td>\n",
       "      <td>...</td>\n",
       "      <td>...</td>\n",
       "    </tr>\n",
       "    <tr>\n",
       "      <th>1111411</th>\n",
       "      <td>['B06X9BB2D7' 'B09RWWGXZJ']</td>\n",
       "      <td>B09RWWWYGZ</td>\n",
       "      <td>DE</td>\n",
       "    </tr>\n",
       "    <tr>\n",
       "      <th>1111412</th>\n",
       "      <td>['B0BK2WGCN4' 'B08H93ZRLL' 'B0BK2WGCN4' 'B08H9...</td>\n",
       "      <td>B001BWJEXK</td>\n",
       "      <td>DE</td>\n",
       "    </tr>\n",
       "    <tr>\n",
       "      <th>1111413</th>\n",
       "      <td>['B08X1SDBLB' 'B06WVZRBJ1']</td>\n",
       "      <td>B09YRTCM8X</td>\n",
       "      <td>DE</td>\n",
       "    </tr>\n",
       "    <tr>\n",
       "      <th>1111414</th>\n",
       "      <td>['B0B8NNHR5N' 'B0BBCCB2S1' 'B09R222SDP' 'B0B5F...</td>\n",
       "      <td>B07XJ3H1RM</td>\n",
       "      <td>DE</td>\n",
       "    </tr>\n",
       "    <tr>\n",
       "      <th>1111415</th>\n",
       "      <td>['B09Y5SSN7R' '3731861860']</td>\n",
       "      <td>B0B87CNH9C</td>\n",
       "      <td>DE</td>\n",
       "    </tr>\n",
       "  </tbody>\n",
       "</table>\n",
       "<p>1111416 rows × 3 columns</p>\n",
       "</div>"
      ],
      "text/plain": [
       "                                                prev_items   next_item locale\n",
       "0                              ['B09W9FND7K' 'B09JSPLN1M']  B09M7GY217     DE\n",
       "1        ['B076THCGSG' 'B007MO8IME' 'B08MF65MLV' 'B001B...  B001B4THSA     DE\n",
       "2        ['B0B1LGXWDS' 'B00AZYORS2' 'B0B1LGXWDS' 'B00AZ...  B0767DTG2Q     DE\n",
       "3        ['B09XMTWDVT' 'B0B4MZZ8MB' 'B0B7HZ2GWX' 'B09XM...  B0B4R9NN4B     DE\n",
       "4                 ['B09Y5CSL3T' 'B09Y5DPTXN' 'B09FKD61R8']  B0BGVBKWGZ     DE\n",
       "...                                                    ...         ...    ...\n",
       "1111411                        ['B06X9BB2D7' 'B09RWWGXZJ']  B09RWWWYGZ     DE\n",
       "1111412  ['B0BK2WGCN4' 'B08H93ZRLL' 'B0BK2WGCN4' 'B08H9...  B001BWJEXK     DE\n",
       "1111413                        ['B08X1SDBLB' 'B06WVZRBJ1']  B09YRTCM8X     DE\n",
       "1111414  ['B0B8NNHR5N' 'B0BBCCB2S1' 'B09R222SDP' 'B0B5F...  B07XJ3H1RM     DE\n",
       "1111415                        ['B09Y5SSN7R' '3731861860']  B0B87CNH9C     DE\n",
       "\n",
       "[1111416 rows x 3 columns]"
      ]
     },
     "execution_count": 18,
     "metadata": {},
     "output_type": "execute_result"
    }
   ],
   "source": [
    "train_sessions_UK"
   ]
  },
  {
   "cell_type": "code",
   "execution_count": 19,
   "id": "ecf99527",
   "metadata": {
    "execution": {
     "iopub.execute_input": "2023-06-06T04:15:01.468761Z",
     "iopub.status.busy": "2023-06-06T04:15:01.468372Z",
     "iopub.status.idle": "2023-06-06T04:15:08.241032Z",
     "shell.execute_reply": "2023-06-06T04:15:08.239852Z"
    },
    "papermill": {
     "duration": 6.854945,
     "end_time": "2023-06-06T04:15:08.243703",
     "exception": false,
     "start_time": "2023-06-06T04:15:01.388758",
     "status": "completed"
    },
    "tags": []
   },
   "outputs": [
    {
     "name": "stderr",
     "output_type": "stream",
     "text": [
      "/tmp/ipykernel_20/239052266.py:23: SettingWithCopyWarning: \n",
      "A value is trying to be set on a copy of a slice from a DataFrame.\n",
      "Try using .loc[row_indexer,col_indexer] = value instead\n",
      "\n",
      "See the caveats in the documentation: https://pandas.pydata.org/pandas-docs/stable/user_guide/indexing.html#returning-a-view-versus-a-copy\n",
      "  train_sessions_UK['prev_items'] = cleaned_train\n",
      "/tmp/ipykernel_20/239052266.py:24: SettingWithCopyWarning: \n",
      "A value is trying to be set on a copy of a slice from a DataFrame.\n",
      "Try using .loc[row_indexer,col_indexer] = value instead\n",
      "\n",
      "See the caveats in the documentation: https://pandas.pydata.org/pandas-docs/stable/user_guide/indexing.html#returning-a-view-versus-a-copy\n",
      "  test_sessions_UK['prev_items'] = cleaned_test\n"
     ]
    }
   ],
   "source": [
    "dat_train = train_sessions_UK['prev_items'].tolist()\n",
    "dat_test = test_sessions_UK['prev_items'].tolist()\n",
    "\n",
    "def str2list(x):\n",
    "    x = x.replace('[', '').replace(']', '').replace(\"'\", '').replace('\\n', ' ').replace('\\r', ' ')\n",
    "    l = [i for i in x.split() if i]\n",
    "    return l\n",
    "\n",
    "cleaned_train = []\n",
    "for i in range(len(dat_train)):\n",
    "    \n",
    "    cleaned_train.append(str2list(dat_train[i]))\n",
    "#cleaned_train\n",
    "\n",
    "\n",
    "cleaned_test = []\n",
    "for i in range(len(dat_test)):\n",
    "    \n",
    "    cleaned_test.append(str2list(dat_test[i]))\n",
    "#cleaned_test\n",
    "\n",
    "\n",
    "train_sessions_UK['prev_items'] = cleaned_train\n",
    "test_sessions_UK['prev_items'] = cleaned_test"
   ]
  },
  {
   "cell_type": "code",
   "execution_count": 20,
   "id": "d65e63bd",
   "metadata": {
    "execution": {
     "iopub.execute_input": "2023-06-06T04:15:08.406902Z",
     "iopub.status.busy": "2023-06-06T04:15:08.406291Z",
     "iopub.status.idle": "2023-06-06T04:15:08.411368Z",
     "shell.execute_reply": "2023-06-06T04:15:08.410090Z"
    },
    "papermill": {
     "duration": 0.089085,
     "end_time": "2023-06-06T04:15:08.413643",
     "exception": false,
     "start_time": "2023-06-06T04:15:08.324558",
     "status": "completed"
    },
    "tags": []
   },
   "outputs": [],
   "source": [
    "# # Convert strings in 'prev_items' to lists\n",
    "# train_sessions_UK['prev_items'] = train_sessions_UK['prev_items'].apply(lambda x: x[1:-1].split(' '))\n",
    "# train_sessions_UK['prev_items'] = train_sessions_UK['prev_items'].apply(lambda x: [item.strip().strip(\"'\") for item in x])"
   ]
  },
  {
   "cell_type": "code",
   "execution_count": 21,
   "id": "005f9634",
   "metadata": {
    "execution": {
     "iopub.execute_input": "2023-06-06T04:15:08.577308Z",
     "iopub.status.busy": "2023-06-06T04:15:08.576938Z",
     "iopub.status.idle": "2023-06-06T04:15:08.580617Z",
     "shell.execute_reply": "2023-06-06T04:15:08.579907Z"
    },
    "papermill": {
     "duration": 0.089186,
     "end_time": "2023-06-06T04:15:08.582680",
     "exception": false,
     "start_time": "2023-06-06T04:15:08.493494",
     "status": "completed"
    },
    "tags": []
   },
   "outputs": [],
   "source": [
    "# # Convert strings in 'prev_items' to lists\n",
    "# test_sessions_UK['prev_items'] = test_sessions_UK['prev_items'].apply(lambda x: x[1:-1].split(' '))\n",
    "# test_sessions_UK['prev_items'] = test_sessions_UK['prev_items'].apply(lambda x: [item.strip().strip(\"'\") for item in x])"
   ]
  },
  {
   "cell_type": "code",
   "execution_count": 22,
   "id": "12990a40",
   "metadata": {
    "execution": {
     "iopub.execute_input": "2023-06-06T04:15:08.746018Z",
     "iopub.status.busy": "2023-06-06T04:15:08.745551Z",
     "iopub.status.idle": "2023-06-06T04:15:08.829774Z",
     "shell.execute_reply": "2023-06-06T04:15:08.828712Z"
    },
    "papermill": {
     "duration": 0.169878,
     "end_time": "2023-06-06T04:15:08.832582",
     "exception": false,
     "start_time": "2023-06-06T04:15:08.662704",
     "status": "completed"
    },
    "tags": []
   },
   "outputs": [],
   "source": [
    "min_count = test_sessions_UK['prev_items'].apply(lambda x: len(x)).min()\n"
   ]
  },
  {
   "cell_type": "code",
   "execution_count": 23,
   "id": "561c92c7",
   "metadata": {
    "execution": {
     "iopub.execute_input": "2023-06-06T04:15:08.993678Z",
     "iopub.status.busy": "2023-06-06T04:15:08.993288Z",
     "iopub.status.idle": "2023-06-06T04:15:30.861397Z",
     "shell.execute_reply": "2023-06-06T04:15:30.860036Z"
    },
    "papermill": {
     "duration": 21.952609,
     "end_time": "2023-06-06T04:15:30.864871",
     "exception": false,
     "start_time": "2023-06-06T04:15:08.912262",
     "status": "completed"
    },
    "tags": []
   },
   "outputs": [
    {
     "name": "stderr",
     "output_type": "stream",
     "text": [
      "/tmp/ipykernel_20/4290034151.py:1: SettingWithCopyWarning: \n",
      "A value is trying to be set on a copy of a slice from a DataFrame.\n",
      "Try using .loc[row_indexer,col_indexer] = value instead\n",
      "\n",
      "See the caveats in the documentation: https://pandas.pydata.org/pandas-docs/stable/user_guide/indexing.html#returning-a-view-versus-a-copy\n",
      "  train_sessions_UK['prev_items'] = train_sessions_UK.apply(lambda row: row['prev_items'] + [row['next_item']], axis=1)\n"
     ]
    }
   ],
   "source": [
    "train_sessions_UK['prev_items'] = train_sessions_UK.apply(lambda row: row['prev_items'] + [row['next_item']], axis=1)\n"
   ]
  },
  {
   "cell_type": "code",
   "execution_count": 24,
   "id": "9ff8d35e",
   "metadata": {
    "execution": {
     "iopub.execute_input": "2023-06-06T04:15:31.029541Z",
     "iopub.status.busy": "2023-06-06T04:15:31.028253Z",
     "iopub.status.idle": "2023-06-06T04:16:52.541549Z",
     "shell.execute_reply": "2023-06-06T04:16:52.540518Z"
    },
    "papermill": {
     "duration": 81.59761,
     "end_time": "2023-06-06T04:16:52.544452",
     "exception": false,
     "start_time": "2023-06-06T04:15:30.946842",
     "status": "completed"
    },
    "tags": []
   },
   "outputs": [
    {
     "name": "stdout",
     "output_type": "stream",
     "text": [
      "Collecting nvtabular\r\n",
      "  Downloading nvtabular-23.5.0-cp310-cp310-manylinux_2_17_x86_64.manylinux2014_x86_64.whl (305 kB)\r\n",
      "\u001b[2K     \u001b[90m━━━━━━━━━━━━━━━━━━━━━━━━━━━━━━━━━━━━━━━\u001b[0m \u001b[32m305.5/305.5 kB\u001b[0m \u001b[31m6.0 MB/s\u001b[0m eta \u001b[36m0:00:00\u001b[0m\r\n",
      "\u001b[?25hCollecting merlin-core>=23.4.0 (from nvtabular)\r\n",
      "  Downloading merlin-core-23.5.0.tar.gz (136 kB)\r\n",
      "\u001b[2K     \u001b[90m━━━━━━━━━━━━━━━━━━━━━━━━━━━━━━━━━━━━━━\u001b[0m \u001b[32m136.1/136.1 kB\u001b[0m \u001b[31m11.0 MB/s\u001b[0m eta \u001b[36m0:00:00\u001b[0m\r\n",
      "\u001b[?25h  Installing build dependencies ... \u001b[?25l-\b \b\\\b \b|\b \bdone\r\n",
      "\u001b[?25h  Getting requirements to build wheel ... \u001b[?25l-\b \bdone\r\n",
      "\u001b[?25h  Preparing metadata (pyproject.toml) ... \u001b[?25l-\b \bdone\r\n",
      "\u001b[?25hCollecting merlin-dataloader>=23.4.0 (from nvtabular)\r\n",
      "  Downloading merlin-dataloader-23.5.0.tar.gz (46 kB)\r\n",
      "\u001b[2K     \u001b[90m━━━━━━━━━━━━━━━━━━━━━━━━━━━━━━━━━━━━━━━━\u001b[0m \u001b[32m46.9/46.9 kB\u001b[0m \u001b[31m3.6 MB/s\u001b[0m eta \u001b[36m0:00:00\u001b[0m\r\n",
      "\u001b[?25h  Installing build dependencies ... \u001b[?25l-\b \b\\\b \b|\b \bdone\r\n",
      "\u001b[?25h  Getting requirements to build wheel ... \u001b[?25l-\b \bdone\r\n",
      "\u001b[?25h  Preparing metadata (pyproject.toml) ... \u001b[?25l-\b \bdone\r\n",
      "\u001b[?25hRequirement already satisfied: scipy in /opt/conda/lib/python3.10/site-packages (from nvtabular) (1.10.1)\r\n",
      "Requirement already satisfied: dask>=2022.11.1 in /opt/conda/lib/python3.10/site-packages (from merlin-core>=23.4.0->nvtabular) (2023.5.0)\r\n",
      "Collecting dask-cuda>=22.12.0 (from merlin-core>=23.4.0->nvtabular)\r\n",
      "  Downloading dask_cuda-23.4.0-py3-none-any.whl (125 kB)\r\n",
      "\u001b[2K     \u001b[90m━━━━━━━━━━━━━━━━━━━━━━━━━━━━━━━━━━━━━━\u001b[0m \u001b[32m125.3/125.3 kB\u001b[0m \u001b[31m10.2 MB/s\u001b[0m eta \u001b[36m0:00:00\u001b[0m\r\n",
      "\u001b[?25hRequirement already satisfied: distributed>=2022.11.1 in /opt/conda/lib/python3.10/site-packages (from merlin-core>=23.4.0->nvtabular) (2023.5.0)\r\n",
      "Requirement already satisfied: fsspec>=2022.7.1 in /opt/conda/lib/python3.10/site-packages (from merlin-core>=23.4.0->nvtabular) (2023.5.0)\r\n",
      "Requirement already satisfied: numpy>=1.22.0 in /opt/conda/lib/python3.10/site-packages (from merlin-core>=23.4.0->nvtabular) (1.23.5)\r\n",
      "Requirement already satisfied: pandas<1.6.0dev0,>=1.2.0 in /opt/conda/lib/python3.10/site-packages (from merlin-core>=23.4.0->nvtabular) (1.5.3)\r\n",
      "Requirement already satisfied: numba>=0.54 in /opt/conda/lib/python3.10/site-packages (from merlin-core>=23.4.0->nvtabular) (0.57.0)\r\n",
      "Requirement already satisfied: pyarrow>=5.0.0 in /opt/conda/lib/python3.10/site-packages (from merlin-core>=23.4.0->nvtabular) (9.0.0)\r\n",
      "Requirement already satisfied: protobuf>=3.0.0 in /opt/conda/lib/python3.10/site-packages (from merlin-core>=23.4.0->nvtabular) (3.20.3)\r\n",
      "Requirement already satisfied: tqdm>=4.0 in /opt/conda/lib/python3.10/site-packages (from merlin-core>=23.4.0->nvtabular) (4.64.1)\r\n",
      "Collecting tensorflow-metadata>=1.2.0 (from merlin-core>=23.4.0->nvtabular)\r\n",
      "  Downloading tensorflow_metadata-1.13.1-py3-none-any.whl (28 kB)\r\n",
      "Collecting betterproto<2.0.0 (from merlin-core>=23.4.0->nvtabular)\r\n",
      "  Downloading betterproto-1.2.5.tar.gz (26 kB)\r\n",
      "  Installing build dependencies ... \u001b[?25l-\b \b\\\b \b|\b \bdone\r\n",
      "\u001b[?25h  Getting requirements to build wheel ... \u001b[?25l-\b \bdone\r\n",
      "\u001b[?25h  Preparing metadata (pyproject.toml) ... \u001b[?25l-\b \bdone\r\n",
      "\u001b[?25hRequirement already satisfied: packaging in /opt/conda/lib/python3.10/site-packages (from merlin-core>=23.4.0->nvtabular) (21.3)\r\n",
      "Collecting pynvml<11.5,>=11.0.0 (from merlin-core>=23.4.0->nvtabular)\r\n",
      "  Downloading pynvml-11.4.1-py3-none-any.whl (46 kB)\r\n",
      "\u001b[2K     \u001b[90m━━━━━━━━━━━━━━━━━━━━━━━━━━━━━━━━━━━━━━━━\u001b[0m \u001b[32m47.0/47.0 kB\u001b[0m \u001b[31m3.8 MB/s\u001b[0m eta \u001b[36m0:00:00\u001b[0m\r\n",
      "\u001b[?25hCollecting grpclib (from betterproto<2.0.0->merlin-core>=23.4.0->nvtabular)\r\n",
      "  Downloading grpclib-0.4.4.tar.gz (62 kB)\r\n",
      "\u001b[2K     \u001b[90m━━━━━━━━━━━━━━━━━━━━━━━━━━━━━━━━━━━━━━━━\u001b[0m \u001b[32m62.2/62.2 kB\u001b[0m \u001b[31m5.4 MB/s\u001b[0m eta \u001b[36m0:00:00\u001b[0m\r\n",
      "\u001b[?25h  Installing build dependencies ... \u001b[?25l-\b \b\\\b \b|\b \b/\b \bdone\r\n",
      "\u001b[?25h  Getting requirements to build wheel ... \u001b[?25l-\b \bdone\r\n",
      "\u001b[?25h  Preparing metadata (pyproject.toml) ... \u001b[?25l-\b \bdone\r\n",
      "\u001b[?25hCollecting stringcase (from betterproto<2.0.0->merlin-core>=23.4.0->nvtabular)\r\n",
      "  Downloading stringcase-1.2.0.tar.gz (3.0 kB)\r\n",
      "  Preparing metadata (setup.py) ... \u001b[?25l-\b \b\\\b \bdone\r\n",
      "\u001b[?25hCollecting click>=8.0 (from dask>=2022.11.1->merlin-core>=23.4.0->nvtabular)\r\n",
      "  Downloading click-8.1.3-py3-none-any.whl (96 kB)\r\n",
      "\u001b[2K     \u001b[90m━━━━━━━━━━━━━━━━━━━━━━━━━━━━━━━━━━━━━━━━\u001b[0m \u001b[32m96.6/96.6 kB\u001b[0m \u001b[31m9.2 MB/s\u001b[0m eta \u001b[36m0:00:00\u001b[0m\r\n",
      "\u001b[?25hRequirement already satisfied: cloudpickle>=1.5.0 in /opt/conda/lib/python3.10/site-packages (from dask>=2022.11.1->merlin-core>=23.4.0->nvtabular) (2.2.1)\r\n",
      "Requirement already satisfied: partd>=1.2.0 in /opt/conda/lib/python3.10/site-packages (from dask>=2022.11.1->merlin-core>=23.4.0->nvtabular) (1.4.0)\r\n",
      "Requirement already satisfied: pyyaml>=5.3.1 in /opt/conda/lib/python3.10/site-packages (from dask>=2022.11.1->merlin-core>=23.4.0->nvtabular) (5.4.1)\r\n",
      "Requirement already satisfied: toolz>=0.10.0 in /opt/conda/lib/python3.10/site-packages (from dask>=2022.11.1->merlin-core>=23.4.0->nvtabular) (0.12.0)\r\n",
      "Requirement already satisfied: importlib-metadata>=4.13.0 in /opt/conda/lib/python3.10/site-packages (from dask>=2022.11.1->merlin-core>=23.4.0->nvtabular) (5.2.0)\r\n",
      "Collecting dask>=2022.11.1 (from merlin-core>=23.4.0->nvtabular)\r\n",
      "  Downloading dask-2023.3.2-py3-none-any.whl (1.2 MB)\r\n",
      "\u001b[2K     \u001b[90m━━━━━━━━━━━━━━━━━━━━━━━━━━━━━━━━━━━━━━━━\u001b[0m \u001b[32m1.2/1.2 MB\u001b[0m \u001b[31m28.0 MB/s\u001b[0m eta \u001b[36m0:00:00\u001b[0m\r\n",
      "\u001b[?25hCollecting distributed>=2022.11.1 (from merlin-core>=23.4.0->nvtabular)\r\n",
      "  Downloading distributed-2023.3.2.1-py3-none-any.whl (957 kB)\r\n",
      "\u001b[2K     \u001b[90m━━━━━━━━━━━━━━━━━━━━━━━━━━━━━━━━━━━━━━\u001b[0m \u001b[32m957.1/957.1 kB\u001b[0m \u001b[31m48.2 MB/s\u001b[0m eta \u001b[36m0:00:00\u001b[0m\r\n",
      "\u001b[?25hRequirement already satisfied: zict>=0.1.3 in /opt/conda/lib/python3.10/site-packages (from dask-cuda>=22.12.0->merlin-core>=23.4.0->nvtabular) (3.0.0)\r\n",
      "Requirement already satisfied: click>=7.0 in /opt/conda/lib/python3.10/site-packages (from dask>=2022.11.1->merlin-core>=23.4.0->nvtabular) (7.1.2)\r\n",
      "Requirement already satisfied: jinja2>=2.10.3 in /opt/conda/lib/python3.10/site-packages (from distributed>=2022.11.1->merlin-core>=23.4.0->nvtabular) (3.1.2)\r\n",
      "Requirement already satisfied: locket>=1.0.0 in /opt/conda/lib/python3.10/site-packages (from distributed>=2022.11.1->merlin-core>=23.4.0->nvtabular) (1.0.0)\r\n",
      "Requirement already satisfied: msgpack>=1.0.0 in /opt/conda/lib/python3.10/site-packages (from distributed>=2022.11.1->merlin-core>=23.4.0->nvtabular) (1.0.5)\r\n",
      "Requirement already satisfied: psutil>=5.7.0 in /opt/conda/lib/python3.10/site-packages (from distributed>=2022.11.1->merlin-core>=23.4.0->nvtabular) (5.9.3)\r\n",
      "Requirement already satisfied: sortedcontainers>=2.0.5 in /opt/conda/lib/python3.10/site-packages (from distributed>=2022.11.1->merlin-core>=23.4.0->nvtabular) (2.4.0)\r\n",
      "Requirement already satisfied: tblib>=1.6.0 in /opt/conda/lib/python3.10/site-packages (from distributed>=2022.11.1->merlin-core>=23.4.0->nvtabular) (1.7.0)\r\n",
      "Requirement already satisfied: tornado>=6.0.3 in /opt/conda/lib/python3.10/site-packages (from distributed>=2022.11.1->merlin-core>=23.4.0->nvtabular) (6.3.1)\r\n",
      "Requirement already satisfied: urllib3>=1.24.3 in /opt/conda/lib/python3.10/site-packages (from distributed>=2022.11.1->merlin-core>=23.4.0->nvtabular) (1.26.15)\r\n",
      "Requirement already satisfied: llvmlite<0.41,>=0.40.0dev0 in /opt/conda/lib/python3.10/site-packages (from numba>=0.54->merlin-core>=23.4.0->nvtabular) (0.40.0)\r\n",
      "Requirement already satisfied: pyparsing!=3.0.5,>=2.0.2 in /opt/conda/lib/python3.10/site-packages (from packaging->merlin-core>=23.4.0->nvtabular) (3.0.9)\r\n",
      "Requirement already satisfied: python-dateutil>=2.8.1 in /opt/conda/lib/python3.10/site-packages (from pandas<1.6.0dev0,>=1.2.0->merlin-core>=23.4.0->nvtabular) (2.8.2)\r\n",
      "Requirement already satisfied: pytz>=2020.1 in /opt/conda/lib/python3.10/site-packages (from pandas<1.6.0dev0,>=1.2.0->merlin-core>=23.4.0->nvtabular) (2023.3)\r\n",
      "Requirement already satisfied: absl-py<2.0.0,>=0.9 in /opt/conda/lib/python3.10/site-packages (from tensorflow-metadata>=1.2.0->merlin-core>=23.4.0->nvtabular) (1.4.0)\r\n",
      "Requirement already satisfied: googleapis-common-protos<2,>=1.52.0 in /opt/conda/lib/python3.10/site-packages (from tensorflow-metadata>=1.2.0->merlin-core>=23.4.0->nvtabular) (1.57.1)\r\n",
      "Requirement already satisfied: zipp>=0.5 in /opt/conda/lib/python3.10/site-packages (from importlib-metadata>=4.13.0->dask>=2022.11.1->merlin-core>=23.4.0->nvtabular) (3.15.0)\r\n",
      "Requirement already satisfied: MarkupSafe>=2.0 in /opt/conda/lib/python3.10/site-packages (from jinja2>=2.10.3->distributed>=2022.11.1->merlin-core>=23.4.0->nvtabular) (2.1.2)\r\n",
      "Requirement already satisfied: six>=1.5 in /opt/conda/lib/python3.10/site-packages (from python-dateutil>=2.8.1->pandas<1.6.0dev0,>=1.2.0->merlin-core>=23.4.0->nvtabular) (1.16.0)\r\n",
      "Collecting h2<5,>=3.1.0 (from grpclib->betterproto<2.0.0->merlin-core>=23.4.0->nvtabular)\r\n",
      "  Downloading h2-4.1.0-py3-none-any.whl (57 kB)\r\n",
      "\u001b[2K     \u001b[90m━━━━━━━━━━━━━━━━━━━━━━━━━━━━━━━━━━━━━━━━\u001b[0m \u001b[32m57.5/57.5 kB\u001b[0m \u001b[31m5.1 MB/s\u001b[0m eta \u001b[36m0:00:00\u001b[0m\r\n",
      "\u001b[?25hRequirement already satisfied: multidict in /opt/conda/lib/python3.10/site-packages (from grpclib->betterproto<2.0.0->merlin-core>=23.4.0->nvtabular) (6.0.4)\r\n",
      "Collecting hyperframe<7,>=6.0 (from h2<5,>=3.1.0->grpclib->betterproto<2.0.0->merlin-core>=23.4.0->nvtabular)\r\n",
      "  Downloading hyperframe-6.0.1-py3-none-any.whl (12 kB)\r\n",
      "Collecting hpack<5,>=4.0 (from h2<5,>=3.1.0->grpclib->betterproto<2.0.0->merlin-core>=23.4.0->nvtabular)\r\n",
      "  Downloading hpack-4.0.0-py3-none-any.whl (32 kB)\r\n",
      "Building wheels for collected packages: merlin-core, merlin-dataloader, betterproto, grpclib, stringcase\r\n",
      "  Building wheel for merlin-core (pyproject.toml) ... \u001b[?25l-\b \b\\\b \bdone\r\n",
      "\u001b[?25h  Created wheel for merlin-core: filename=merlin_core-23.5.0-py3-none-any.whl size=164350 sha256=9062b4320209dc32d3a117139e78013a17d82baebc179ba38e21a955fa9aca2e\r\n",
      "  Stored in directory: /root/.cache/pip/wheels/a4/47/d1/1a640cc10f1d1b91097b77e1141d8758985a9c75742c6f4da5\r\n",
      "  Building wheel for merlin-dataloader (pyproject.toml) ... \u001b[?25l-\b \b\\\b \bdone\r\n",
      "\u001b[?25h  Created wheel for merlin-dataloader: filename=merlin_dataloader-23.5.0-py3-none-any.whl size=35495 sha256=aeb30751acbc5120547539763d9713540032201ac517bf76b36285fa4121012a\r\n",
      "  Stored in directory: /root/.cache/pip/wheels/21/0e/99/8986b0848c6dc0a3647bf7bfbe371f3924f908e379a3285016\r\n",
      "  Building wheel for betterproto (pyproject.toml) ... \u001b[?25l-\b \bdone\r\n",
      "\u001b[?25h  Created wheel for betterproto: filename=betterproto-1.2.5-py3-none-any.whl size=21998 sha256=289e060258a4cf4982dee3adf6d776789b922da6f49620ceb1ef4e25d4b2e34a\r\n",
      "  Stored in directory: /root/.cache/pip/wheels/d3/8b/bf/097193de631f010236664202ef3c05c62636abc9d2b172b458\r\n",
      "  Building wheel for grpclib (pyproject.toml) ... \u001b[?25l-\b \b\\\b \bdone\r\n",
      "\u001b[?25h  Created wheel for grpclib: filename=grpclib-0.4.4-py3-none-any.whl size=77136 sha256=17a645904bb96bf4db5e7f06dc0bd1a2639818cb28e183ac346f51e5f8336bcc\r\n",
      "  Stored in directory: /root/.cache/pip/wheels/95/07/ba/405912c12296351b78e9c5bc83ec6be38e20b553876d58d987\r\n",
      "  Building wheel for stringcase (setup.py) ... \u001b[?25l-\b \b\\\b \b|\b \bdone\r\n",
      "\u001b[?25h  Created wheel for stringcase: filename=stringcase-1.2.0-py3-none-any.whl size=3588 sha256=0c99db974ed17cd6565531f5ccc4330bf916a26fa1728a4455d4953a1ec3f83f\r\n",
      "  Stored in directory: /root/.cache/pip/wheels/31/ba/22/1a2d952a9ce8aa86e42fda41e2c87fdaf20e238c88bf8df013\r\n",
      "Successfully built merlin-core merlin-dataloader betterproto grpclib stringcase\r\n",
      "Installing collected packages: stringcase, pynvml, hyperframe, hpack, click, tensorflow-metadata, h2, dask, grpclib, distributed, dask-cuda, betterproto, merlin-core, merlin-dataloader, nvtabular\r\n",
      "  Attempting uninstall: click\r\n",
      "    Found existing installation: click 7.1.2\r\n",
      "    Uninstalling click-7.1.2:\r\n",
      "      Successfully uninstalled click-7.1.2\r\n",
      "  Attempting uninstall: tensorflow-metadata\r\n",
      "    Found existing installation: tensorflow-metadata 0.14.0\r\n",
      "    Uninstalling tensorflow-metadata-0.14.0:\r\n",
      "      Successfully uninstalled tensorflow-metadata-0.14.0\r\n",
      "  Attempting uninstall: dask\r\n",
      "    Found existing installation: dask 2023.5.0\r\n",
      "    Uninstalling dask-2023.5.0:\r\n",
      "      Successfully uninstalled dask-2023.5.0\r\n",
      "  Attempting uninstall: distributed\r\n",
      "    Found existing installation: distributed 2023.5.0\r\n",
      "    Uninstalling distributed-2023.5.0:\r\n",
      "      Successfully uninstalled distributed-2023.5.0\r\n",
      "\u001b[31mERROR: pip's dependency resolver does not currently take into account all the packages that are installed. This behaviour is the source of the following dependency conflicts.\r\n",
      "aicrowd-cli 0.1.15 requires click<8,>=7.1.2, but you have click 8.1.3 which is incompatible.\r\n",
      "kfp 1.8.21 requires google-api-python-client<2,>=1.7.8, but you have google-api-python-client 2.86.0 which is incompatible.\r\n",
      "momepy 0.6.0 requires shapely>=2, but you have shapely 1.8.5.post1 which is incompatible.\r\n",
      "tensorflow-transform 0.14.0 requires tensorflow-metadata<0.15,>=0.14, but you have tensorflow-metadata 1.13.1 which is incompatible.\u001b[0m\u001b[31m\r\n",
      "\u001b[0mSuccessfully installed betterproto-1.2.5 click-8.1.3 dask-2023.3.2 dask-cuda-23.4.0 distributed-2023.3.2.1 grpclib-0.4.4 h2-4.1.0 hpack-4.0.0 hyperframe-6.0.1 merlin-core-23.5.0 merlin-dataloader-23.5.0 nvtabular-23.5.0 pynvml-11.4.1 stringcase-1.2.0 tensorflow-metadata-1.13.1\r\n",
      "\u001b[33mWARNING: Running pip as the 'root' user can result in broken permissions and conflicting behaviour with the system package manager. It is recommended to use a virtual environment instead: https://pip.pypa.io/warnings/venv\u001b[0m\u001b[33m\r\n",
      "\u001b[0m"
     ]
    }
   ],
   "source": [
    "!pip install nvtabular"
   ]
  },
  {
   "cell_type": "code",
   "execution_count": 25,
   "id": "551d1d3e",
   "metadata": {
    "execution": {
     "iopub.execute_input": "2023-06-06T04:16:52.783123Z",
     "iopub.status.busy": "2023-06-06T04:16:52.782703Z",
     "iopub.status.idle": "2023-06-06T04:17:07.883558Z",
     "shell.execute_reply": "2023-06-06T04:17:07.882375Z"
    },
    "papermill": {
     "duration": 15.253665,
     "end_time": "2023-06-06T04:17:07.886513",
     "exception": false,
     "start_time": "2023-06-06T04:16:52.632848",
     "status": "completed"
    },
    "tags": []
   },
   "outputs": [
    {
     "name": "stderr",
     "output_type": "stream",
     "text": [
      "/opt/conda/lib/python3.10/site-packages/tensorflow_io/python/ops/__init__.py:98: UserWarning: unable to load libtensorflow_io_plugins.so: unable to open file: libtensorflow_io_plugins.so, from paths: ['/opt/conda/lib/python3.10/site-packages/tensorflow_io/python/ops/libtensorflow_io_plugins.so']\n",
      "caused by: ['/opt/conda/lib/python3.10/site-packages/tensorflow_io/python/ops/libtensorflow_io_plugins.so: undefined symbol: _ZN3tsl6StatusC1EN10tensorflow5error4CodeESt17basic_string_viewIcSt11char_traitsIcEENS_14SourceLocationE']\n",
      "  warnings.warn(f\"unable to load libtensorflow_io_plugins.so: {e}\")\n",
      "/opt/conda/lib/python3.10/site-packages/tensorflow_io/python/ops/__init__.py:104: UserWarning: file system plugins are not loaded: unable to open file: libtensorflow_io.so, from paths: ['/opt/conda/lib/python3.10/site-packages/tensorflow_io/python/ops/libtensorflow_io.so']\n",
      "caused by: ['/opt/conda/lib/python3.10/site-packages/tensorflow_io/python/ops/libtensorflow_io.so: undefined symbol: _ZTVN10tensorflow13GcsFileSystemE']\n",
      "  warnings.warn(f\"file system plugins are not loaded: {e}\")\n",
      "/opt/conda/lib/python3.10/site-packages/merlin/dtypes/mappings/triton.py:53: UserWarning: Triton dtype mappings did not load successfully due to an error: No module named 'tritonclient'\n",
      "  warn(f\"Triton dtype mappings did not load successfully due to an error: {exc.msg}\")\n"
     ]
    }
   ],
   "source": [
    "import os\n",
    "import numpy as np \n",
    "import gc\n",
    "import shutil\n",
    "import glob\n",
    "import nvtabular as nvt"
   ]
  },
  {
   "cell_type": "code",
   "execution_count": 26,
   "id": "2d5718fe",
   "metadata": {
    "execution": {
     "iopub.execute_input": "2023-06-06T04:17:08.069263Z",
     "iopub.status.busy": "2023-06-06T04:17:08.068218Z",
     "iopub.status.idle": "2023-06-06T04:17:11.579054Z",
     "shell.execute_reply": "2023-06-06T04:17:11.577574Z"
    },
    "papermill": {
     "duration": 3.60584,
     "end_time": "2023-06-06T04:17:11.582026",
     "exception": false,
     "start_time": "2023-06-06T04:17:07.976186",
     "status": "completed"
    },
    "tags": []
   },
   "outputs": [
    {
     "name": "stderr",
     "output_type": "stream",
     "text": [
      "/tmp/ipykernel_20/1747550676.py:5: SettingWithCopyWarning: \n",
      "A value is trying to be set on a copy of a slice from a DataFrame\n",
      "\n",
      "See the caveats in the documentation: https://pandas.pydata.org/pandas-docs/stable/user_guide/indexing.html#returning-a-view-versus-a-copy\n",
      "  train_sessions_UK.rename(columns={'index':'session_id'}, inplace=True)\n"
     ]
    }
   ],
   "source": [
    "# Assuming this is your dataframe\n",
    "\n",
    "# Adding session_id based on index\n",
    "train_sessions_UK.reset_index(level=0, inplace=True)\n",
    "train_sessions_UK.rename(columns={'index':'session_id'}, inplace=True)\n",
    "# Split 'prev_items' into separate rows\n",
    "train_sessions_UK = train_sessions_UK.explode('prev_items')\n",
    "\n"
   ]
  },
  {
   "cell_type": "code",
   "execution_count": 27,
   "id": "dfd54a0d",
   "metadata": {
    "execution": {
     "iopub.execute_input": "2023-06-06T04:17:11.761193Z",
     "iopub.status.busy": "2023-06-06T04:17:11.760788Z",
     "iopub.status.idle": "2023-06-06T04:17:11.942460Z",
     "shell.execute_reply": "2023-06-06T04:17:11.941381Z"
    },
    "papermill": {
     "duration": 0.27425,
     "end_time": "2023-06-06T04:17:11.945163",
     "exception": false,
     "start_time": "2023-06-06T04:17:11.670913",
     "status": "completed"
    },
    "tags": []
   },
   "outputs": [
    {
     "name": "stderr",
     "output_type": "stream",
     "text": [
      "/tmp/ipykernel_20/1710534608.py:5: SettingWithCopyWarning: \n",
      "A value is trying to be set on a copy of a slice from a DataFrame\n",
      "\n",
      "See the caveats in the documentation: https://pandas.pydata.org/pandas-docs/stable/user_guide/indexing.html#returning-a-view-versus-a-copy\n",
      "  test_sessions_UK.rename(columns={'index':'session_id'}, inplace=True)\n"
     ]
    }
   ],
   "source": [
    "# Assuming this is your dataframe\n",
    "\n",
    "# Adding session_id based on index\n",
    "test_sessions_UK.reset_index(level=0, inplace=True)\n",
    "test_sessions_UK.rename(columns={'index':'session_id'}, inplace=True)\n",
    "# Split 'prev_items' into separate rows\n",
    "test_sessions_UK = test_sessions_UK.explode('prev_items')"
   ]
  },
  {
   "cell_type": "code",
   "execution_count": 28,
   "id": "c0bab9e5",
   "metadata": {
    "execution": {
     "iopub.execute_input": "2023-06-06T04:17:12.125302Z",
     "iopub.status.busy": "2023-06-06T04:17:12.124889Z",
     "iopub.status.idle": "2023-06-06T04:17:12.136711Z",
     "shell.execute_reply": "2023-06-06T04:17:12.135558Z"
    },
    "papermill": {
     "duration": 0.104481,
     "end_time": "2023-06-06T04:17:12.138958",
     "exception": false,
     "start_time": "2023-06-06T04:17:12.034477",
     "status": "completed"
    },
    "tags": []
   },
   "outputs": [
    {
     "data": {
      "text/html": [
       "<div>\n",
       "<style scoped>\n",
       "    .dataframe tbody tr th:only-of-type {\n",
       "        vertical-align: middle;\n",
       "    }\n",
       "\n",
       "    .dataframe tbody tr th {\n",
       "        vertical-align: top;\n",
       "    }\n",
       "\n",
       "    .dataframe thead th {\n",
       "        text-align: right;\n",
       "    }\n",
       "</style>\n",
       "<table border=\"1\" class=\"dataframe\">\n",
       "  <thead>\n",
       "    <tr style=\"text-align: right;\">\n",
       "      <th></th>\n",
       "      <th>session_id</th>\n",
       "      <th>prev_items</th>\n",
       "      <th>next_item</th>\n",
       "      <th>locale</th>\n",
       "    </tr>\n",
       "  </thead>\n",
       "  <tbody>\n",
       "    <tr>\n",
       "      <th>0</th>\n",
       "      <td>0</td>\n",
       "      <td>B09W9FND7K</td>\n",
       "      <td>B09M7GY217</td>\n",
       "      <td>DE</td>\n",
       "    </tr>\n",
       "    <tr>\n",
       "      <th>0</th>\n",
       "      <td>0</td>\n",
       "      <td>B09JSPLN1M</td>\n",
       "      <td>B09M7GY217</td>\n",
       "      <td>DE</td>\n",
       "    </tr>\n",
       "    <tr>\n",
       "      <th>0</th>\n",
       "      <td>0</td>\n",
       "      <td>B09M7GY217</td>\n",
       "      <td>B09M7GY217</td>\n",
       "      <td>DE</td>\n",
       "    </tr>\n",
       "    <tr>\n",
       "      <th>1</th>\n",
       "      <td>1</td>\n",
       "      <td>B076THCGSG</td>\n",
       "      <td>B001B4THSA</td>\n",
       "      <td>DE</td>\n",
       "    </tr>\n",
       "    <tr>\n",
       "      <th>1</th>\n",
       "      <td>1</td>\n",
       "      <td>B007MO8IME</td>\n",
       "      <td>B001B4THSA</td>\n",
       "      <td>DE</td>\n",
       "    </tr>\n",
       "  </tbody>\n",
       "</table>\n",
       "</div>"
      ],
      "text/plain": [
       "   session_id  prev_items   next_item locale\n",
       "0           0  B09W9FND7K  B09M7GY217     DE\n",
       "0           0  B09JSPLN1M  B09M7GY217     DE\n",
       "0           0  B09M7GY217  B09M7GY217     DE\n",
       "1           1  B076THCGSG  B001B4THSA     DE\n",
       "1           1  B007MO8IME  B001B4THSA     DE"
      ]
     },
     "execution_count": 28,
     "metadata": {},
     "output_type": "execute_result"
    }
   ],
   "source": [
    "train_sessions_UK.head()"
   ]
  },
  {
   "cell_type": "code",
   "execution_count": 29,
   "id": "fa7698c3",
   "metadata": {
    "execution": {
     "iopub.execute_input": "2023-06-06T04:17:12.321410Z",
     "iopub.status.busy": "2023-06-06T04:17:12.320593Z",
     "iopub.status.idle": "2023-06-06T04:17:12.361408Z",
     "shell.execute_reply": "2023-06-06T04:17:12.360319Z"
    },
    "papermill": {
     "duration": 0.134519,
     "end_time": "2023-06-06T04:17:12.364131",
     "exception": false,
     "start_time": "2023-06-06T04:17:12.229612",
     "status": "completed"
    },
    "tags": []
   },
   "outputs": [],
   "source": [
    "train_sessions_UK['session_id'] = train_sessions_UK['session_id']+1000000"
   ]
  },
  {
   "cell_type": "code",
   "execution_count": 30,
   "id": "9659f15f",
   "metadata": {
    "execution": {
     "iopub.execute_input": "2023-06-06T04:17:12.546754Z",
     "iopub.status.busy": "2023-06-06T04:17:12.546350Z",
     "iopub.status.idle": "2023-06-06T04:17:12.557777Z",
     "shell.execute_reply": "2023-06-06T04:17:12.556712Z"
    },
    "papermill": {
     "duration": 0.105456,
     "end_time": "2023-06-06T04:17:12.560097",
     "exception": false,
     "start_time": "2023-06-06T04:17:12.454641",
     "status": "completed"
    },
    "tags": []
   },
   "outputs": [
    {
     "data": {
      "text/html": [
       "<div>\n",
       "<style scoped>\n",
       "    .dataframe tbody tr th:only-of-type {\n",
       "        vertical-align: middle;\n",
       "    }\n",
       "\n",
       "    .dataframe tbody tr th {\n",
       "        vertical-align: top;\n",
       "    }\n",
       "\n",
       "    .dataframe thead th {\n",
       "        text-align: right;\n",
       "    }\n",
       "</style>\n",
       "<table border=\"1\" class=\"dataframe\">\n",
       "  <thead>\n",
       "    <tr style=\"text-align: right;\">\n",
       "      <th></th>\n",
       "      <th>session_id</th>\n",
       "      <th>prev_items</th>\n",
       "      <th>locale</th>\n",
       "    </tr>\n",
       "  </thead>\n",
       "  <tbody>\n",
       "    <tr>\n",
       "      <th>0</th>\n",
       "      <td>0</td>\n",
       "      <td>B087VLP2RT</td>\n",
       "      <td>DE</td>\n",
       "    </tr>\n",
       "    <tr>\n",
       "      <th>0</th>\n",
       "      <td>0</td>\n",
       "      <td>B09BRQSHYH</td>\n",
       "      <td>DE</td>\n",
       "    </tr>\n",
       "    <tr>\n",
       "      <th>0</th>\n",
       "      <td>0</td>\n",
       "      <td>B099KW4ZLV</td>\n",
       "      <td>DE</td>\n",
       "    </tr>\n",
       "    <tr>\n",
       "      <th>1</th>\n",
       "      <td>1</td>\n",
       "      <td>B08XW4W667</td>\n",
       "      <td>DE</td>\n",
       "    </tr>\n",
       "    <tr>\n",
       "      <th>1</th>\n",
       "      <td>1</td>\n",
       "      <td>B096VMCJYF</td>\n",
       "      <td>DE</td>\n",
       "    </tr>\n",
       "  </tbody>\n",
       "</table>\n",
       "</div>"
      ],
      "text/plain": [
       "   session_id  prev_items locale\n",
       "0           0  B087VLP2RT     DE\n",
       "0           0  B09BRQSHYH     DE\n",
       "0           0  B099KW4ZLV     DE\n",
       "1           1  B08XW4W667     DE\n",
       "1           1  B096VMCJYF     DE"
      ]
     },
     "execution_count": 30,
     "metadata": {},
     "output_type": "execute_result"
    }
   ],
   "source": [
    "test_sessions_UK.head()"
   ]
  },
  {
   "cell_type": "code",
   "execution_count": 31,
   "id": "31d9c31c",
   "metadata": {
    "execution": {
     "iopub.execute_input": "2023-06-06T04:17:12.743217Z",
     "iopub.status.busy": "2023-06-06T04:17:12.742808Z",
     "iopub.status.idle": "2023-06-06T04:17:23.735731Z",
     "shell.execute_reply": "2023-06-06T04:17:23.734575Z"
    },
    "papermill": {
     "duration": 11.088912,
     "end_time": "2023-06-06T04:17:23.738581",
     "exception": false,
     "start_time": "2023-06-06T04:17:12.649669",
     "status": "completed"
    },
    "tags": []
   },
   "outputs": [],
   "source": [
    "# Merging with 'products' dataframe to get the product details and dropping 'id' and 'locale' columns\n",
    "session_attribute_train = pd.merge(train_sessions_UK, products_UK, left_on='prev_items', right_on='id', how='left').drop(['id', 'locale_x','locale_y'], axis=1)\n",
    "\n",
    "\n"
   ]
  },
  {
   "cell_type": "code",
   "execution_count": 32,
   "id": "1e9a9544",
   "metadata": {
    "execution": {
     "iopub.execute_input": "2023-06-06T04:17:23.916031Z",
     "iopub.status.busy": "2023-06-06T04:17:23.915648Z",
     "iopub.status.idle": "2023-06-06T04:17:24.753400Z",
     "shell.execute_reply": "2023-06-06T04:17:24.752515Z"
    },
    "papermill": {
     "duration": 0.929395,
     "end_time": "2023-06-06T04:17:24.756013",
     "exception": false,
     "start_time": "2023-06-06T04:17:23.826618",
     "status": "completed"
    },
    "tags": []
   },
   "outputs": [],
   "source": [
    "# Merging with 'products' dataframe to get the product details and dropping 'id' and 'locale' columns\n",
    "session_attribute_test = pd.merge(test_sessions_UK, products_UK, left_on='prev_items', right_on='id', how='left').drop(['id', 'locale_x','locale_y'], axis=1)\n",
    "\n",
    "\n"
   ]
  },
  {
   "cell_type": "code",
   "execution_count": 33,
   "id": "be9696d8",
   "metadata": {
    "execution": {
     "iopub.execute_input": "2023-06-06T04:17:24.936935Z",
     "iopub.status.busy": "2023-06-06T04:17:24.936500Z",
     "iopub.status.idle": "2023-06-06T04:17:24.954892Z",
     "shell.execute_reply": "2023-06-06T04:17:24.953894Z"
    },
    "papermill": {
     "duration": 0.112001,
     "end_time": "2023-06-06T04:17:24.957245",
     "exception": false,
     "start_time": "2023-06-06T04:17:24.845244",
     "status": "completed"
    },
    "tags": []
   },
   "outputs": [
    {
     "data": {
      "text/html": [
       "<div>\n",
       "<style scoped>\n",
       "    .dataframe tbody tr th:only-of-type {\n",
       "        vertical-align: middle;\n",
       "    }\n",
       "\n",
       "    .dataframe tbody tr th {\n",
       "        vertical-align: top;\n",
       "    }\n",
       "\n",
       "    .dataframe thead th {\n",
       "        text-align: right;\n",
       "    }\n",
       "</style>\n",
       "<table border=\"1\" class=\"dataframe\">\n",
       "  <thead>\n",
       "    <tr style=\"text-align: right;\">\n",
       "      <th></th>\n",
       "      <th>session_id</th>\n",
       "      <th>prev_items</th>\n",
       "      <th>next_item</th>\n",
       "      <th>title</th>\n",
       "      <th>price</th>\n",
       "      <th>brand</th>\n",
       "      <th>color</th>\n",
       "      <th>size</th>\n",
       "      <th>model</th>\n",
       "      <th>material</th>\n",
       "      <th>author</th>\n",
       "      <th>desc</th>\n",
       "    </tr>\n",
       "  </thead>\n",
       "  <tbody>\n",
       "    <tr>\n",
       "      <th>0</th>\n",
       "      <td>1000000</td>\n",
       "      <td>B09W9FND7K</td>\n",
       "      <td>B09M7GY217</td>\n",
       "      <td>OREiN LED Einbaustrahler 230V Dimmbar &amp; IP65 L...</td>\n",
       "      <td>39.99</td>\n",
       "      <td>OREiN</td>\n",
       "      <td>6*ip65 (3000k,dimmbar)</td>\n",
       "      <td>Lochgröße Φ68-72mm</td>\n",
       "      <td>NaN</td>\n",
       "      <td>塑料</td>\n",
       "      <td>NaN</td>\n",
       "      <td>【Angenehmes Licht】Dieser Einbaustrahler LED Fl...</td>\n",
       "    </tr>\n",
       "    <tr>\n",
       "      <th>1</th>\n",
       "      <td>1000000</td>\n",
       "      <td>B09JSPLN1M</td>\n",
       "      <td>B09M7GY217</td>\n",
       "      <td>OREiN LED Spot LED Einbaustrahler 230V IP65 LE...</td>\n",
       "      <td>36.99</td>\n",
       "      <td>OREiN</td>\n",
       "      <td>6*ip65(3000k)</td>\n",
       "      <td>Lochgröße Φ68-72mm</td>\n",
       "      <td>NaN</td>\n",
       "      <td>Kunststoff</td>\n",
       "      <td>NaN</td>\n",
       "      <td>【Angenehmes Licht】Dieser Einbaustrahler LED Fl...</td>\n",
       "    </tr>\n",
       "    <tr>\n",
       "      <th>2</th>\n",
       "      <td>1000000</td>\n",
       "      <td>B09M7GY217</td>\n",
       "      <td>B09M7GY217</td>\n",
       "      <td>Samsung Galaxy Buds2, Kabellose Kopfhörer, Wir...</td>\n",
       "      <td>109.99</td>\n",
       "      <td>Samsung</td>\n",
       "      <td>White</td>\n",
       "      <td>NaN</td>\n",
       "      <td>Samsung Galaxy Buds2</td>\n",
       "      <td>Silikon</td>\n",
       "      <td>NaN</td>\n",
       "      <td>4 Farben zur Auswahl – Graphite. White. Olive....</td>\n",
       "    </tr>\n",
       "    <tr>\n",
       "      <th>3</th>\n",
       "      <td>1000001</td>\n",
       "      <td>B076THCGSG</td>\n",
       "      <td>B001B4THSA</td>\n",
       "      <td>VIETSCHI Profi DIN Plus 12,5L weiß - doppeldec...</td>\n",
       "      <td>39.80</td>\n",
       "      <td>Vietschi</td>\n",
       "      <td>NaN</td>\n",
       "      <td>12.5 l (1er Pack)</td>\n",
       "      <td>NaN</td>\n",
       "      <td>NaN</td>\n",
       "      <td>NaN</td>\n",
       "      <td>✅ Einfache Verarbeitung - Egal ob Streichen, R...</td>\n",
       "    </tr>\n",
       "    <tr>\n",
       "      <th>4</th>\n",
       "      <td>1000001</td>\n",
       "      <td>B007MO8IME</td>\n",
       "      <td>B001B4THSA</td>\n",
       "      <td>Caparol Capa DIN 12,500 L Wandfarben</td>\n",
       "      <td>40.27</td>\n",
       "      <td>Caparol</td>\n",
       "      <td>Weiss</td>\n",
       "      <td>12.5 l (1er Pack)</td>\n",
       "      <td>11283000</td>\n",
       "      <td>Dispersionsfarbe</td>\n",
       "      <td>NaN</td>\n",
       "      <td>Caparol</td>\n",
       "    </tr>\n",
       "  </tbody>\n",
       "</table>\n",
       "</div>"
      ],
      "text/plain": [
       "   session_id  prev_items   next_item  \\\n",
       "0     1000000  B09W9FND7K  B09M7GY217   \n",
       "1     1000000  B09JSPLN1M  B09M7GY217   \n",
       "2     1000000  B09M7GY217  B09M7GY217   \n",
       "3     1000001  B076THCGSG  B001B4THSA   \n",
       "4     1000001  B007MO8IME  B001B4THSA   \n",
       "\n",
       "                                               title   price     brand  \\\n",
       "0  OREiN LED Einbaustrahler 230V Dimmbar & IP65 L...   39.99     OREiN   \n",
       "1  OREiN LED Spot LED Einbaustrahler 230V IP65 LE...   36.99     OREiN   \n",
       "2  Samsung Galaxy Buds2, Kabellose Kopfhörer, Wir...  109.99   Samsung   \n",
       "3  VIETSCHI Profi DIN Plus 12,5L weiß - doppeldec...   39.80  Vietschi   \n",
       "4               Caparol Capa DIN 12,500 L Wandfarben   40.27   Caparol   \n",
       "\n",
       "                    color                size                 model  \\\n",
       "0  6*ip65 (3000k,dimmbar)  Lochgröße Φ68-72mm                   NaN   \n",
       "1           6*ip65(3000k)  Lochgröße Φ68-72mm                   NaN   \n",
       "2                   White                 NaN  Samsung Galaxy Buds2   \n",
       "3                     NaN   12.5 l (1er Pack)                   NaN   \n",
       "4                   Weiss   12.5 l (1er Pack)              11283000   \n",
       "\n",
       "           material author                                               desc  \n",
       "0                塑料    NaN  【Angenehmes Licht】Dieser Einbaustrahler LED Fl...  \n",
       "1        Kunststoff    NaN  【Angenehmes Licht】Dieser Einbaustrahler LED Fl...  \n",
       "2           Silikon    NaN  4 Farben zur Auswahl – Graphite. White. Olive....  \n",
       "3               NaN    NaN  ✅ Einfache Verarbeitung - Egal ob Streichen, R...  \n",
       "4  Dispersionsfarbe    NaN                                            Caparol  "
      ]
     },
     "execution_count": 33,
     "metadata": {},
     "output_type": "execute_result"
    }
   ],
   "source": [
    "session_attribute_train.head(5)"
   ]
  },
  {
   "cell_type": "code",
   "execution_count": 34,
   "id": "c11723e4",
   "metadata": {
    "execution": {
     "iopub.execute_input": "2023-06-06T04:17:25.138046Z",
     "iopub.status.busy": "2023-06-06T04:17:25.137660Z",
     "iopub.status.idle": "2023-06-06T04:17:25.152807Z",
     "shell.execute_reply": "2023-06-06T04:17:25.151758Z"
    },
    "papermill": {
     "duration": 0.109599,
     "end_time": "2023-06-06T04:17:25.155114",
     "exception": false,
     "start_time": "2023-06-06T04:17:25.045515",
     "status": "completed"
    },
    "tags": []
   },
   "outputs": [
    {
     "data": {
      "text/html": [
       "<div>\n",
       "<style scoped>\n",
       "    .dataframe tbody tr th:only-of-type {\n",
       "        vertical-align: middle;\n",
       "    }\n",
       "\n",
       "    .dataframe tbody tr th {\n",
       "        vertical-align: top;\n",
       "    }\n",
       "\n",
       "    .dataframe thead th {\n",
       "        text-align: right;\n",
       "    }\n",
       "</style>\n",
       "<table border=\"1\" class=\"dataframe\">\n",
       "  <thead>\n",
       "    <tr style=\"text-align: right;\">\n",
       "      <th></th>\n",
       "      <th>session_id</th>\n",
       "      <th>prev_items</th>\n",
       "      <th>title</th>\n",
       "      <th>price</th>\n",
       "      <th>brand</th>\n",
       "      <th>color</th>\n",
       "      <th>size</th>\n",
       "      <th>model</th>\n",
       "      <th>material</th>\n",
       "      <th>author</th>\n",
       "      <th>desc</th>\n",
       "    </tr>\n",
       "  </thead>\n",
       "  <tbody>\n",
       "    <tr>\n",
       "      <th>0</th>\n",
       "      <td>0</td>\n",
       "      <td>B087VLP2RT</td>\n",
       "      <td>Xbox Wireless Controller Robot White</td>\n",
       "      <td>57.99</td>\n",
       "      <td>Microsoft</td>\n",
       "      <td>Robot White</td>\n",
       "      <td>NaN</td>\n",
       "      <td>QAS-00002</td>\n",
       "      <td>NaN</td>\n",
       "      <td>NaN</td>\n",
       "      <td>An der 3,5mm-Stereo-Headsetbuchse kannst du ko...</td>\n",
       "    </tr>\n",
       "    <tr>\n",
       "      <th>1</th>\n",
       "      <td>0</td>\n",
       "      <td>B09BRQSHYH</td>\n",
       "      <td>Xbox Wireless Controller Aqua Shift + Xbox Pla...</td>\n",
       "      <td>40000000.07</td>\n",
       "      <td>Microsoft</td>\n",
       "      <td>Aqua Shift</td>\n",
       "      <td>NaN</td>\n",
       "      <td>QAU-00027</td>\n",
       "      <td>NaN</td>\n",
       "      <td>NaN</td>\n",
       "      <td>NaN</td>\n",
       "    </tr>\n",
       "    <tr>\n",
       "      <th>2</th>\n",
       "      <td>0</td>\n",
       "      <td>B099KW4ZLV</td>\n",
       "      <td>Xbox Wireless Controller Aqua Shift</td>\n",
       "      <td>107.83</td>\n",
       "      <td>Microsoft</td>\n",
       "      <td>Aqua Shift</td>\n",
       "      <td>NaN</td>\n",
       "      <td>QAU-00027</td>\n",
       "      <td>NaN</td>\n",
       "      <td>NaN</td>\n",
       "      <td>An der 3,5mm-Stereo-Headsetbuchse kannst du ko...</td>\n",
       "    </tr>\n",
       "    <tr>\n",
       "      <th>3</th>\n",
       "      <td>1</td>\n",
       "      <td>B08XW4W667</td>\n",
       "      <td>KREUL 23050 - Mucki Fingerfarbe für Glückskind...</td>\n",
       "      <td>9.79</td>\n",
       "      <td>Kreul</td>\n",
       "      <td>Gelb, Pink, Blau, Grün, Orange und Silber</td>\n",
       "      <td>50 ml (6er Pack)</td>\n",
       "      <td>10128657</td>\n",
       "      <td>NaN</td>\n",
       "      <td>NaN</td>\n",
       "      <td>Cremig-pastose Konsistenz für die optimale Anw...</td>\n",
       "    </tr>\n",
       "    <tr>\n",
       "      <th>4</th>\n",
       "      <td>1</td>\n",
       "      <td>B096VMCJYF</td>\n",
       "      <td>Marabu 0303000050800 - KiDS Fingerfarben-Set m...</td>\n",
       "      <td>6.40</td>\n",
       "      <td>Marabu</td>\n",
       "      <td>Mehrfarbig</td>\n",
       "      <td>35 ml (6er Pack)</td>\n",
       "      <td>0303000050800</td>\n",
       "      <td>unbekannt</td>\n",
       "      <td>NaN</td>\n",
       "      <td>Cremige, leicht verstreichbare Fingermalfarbe ...</td>\n",
       "    </tr>\n",
       "  </tbody>\n",
       "</table>\n",
       "</div>"
      ],
      "text/plain": [
       "   session_id  prev_items                                              title  \\\n",
       "0           0  B087VLP2RT               Xbox Wireless Controller Robot White   \n",
       "1           0  B09BRQSHYH  Xbox Wireless Controller Aqua Shift + Xbox Pla...   \n",
       "2           0  B099KW4ZLV                Xbox Wireless Controller Aqua Shift   \n",
       "3           1  B08XW4W667  KREUL 23050 - Mucki Fingerfarbe für Glückskind...   \n",
       "4           1  B096VMCJYF  Marabu 0303000050800 - KiDS Fingerfarben-Set m...   \n",
       "\n",
       "         price      brand                                      color  \\\n",
       "0        57.99  Microsoft                                Robot White   \n",
       "1  40000000.07  Microsoft                                 Aqua Shift   \n",
       "2       107.83  Microsoft                                 Aqua Shift   \n",
       "3         9.79      Kreul  Gelb, Pink, Blau, Grün, Orange und Silber   \n",
       "4         6.40     Marabu                                 Mehrfarbig   \n",
       "\n",
       "               size          model   material author  \\\n",
       "0               NaN      QAS-00002        NaN    NaN   \n",
       "1               NaN      QAU-00027        NaN    NaN   \n",
       "2               NaN      QAU-00027        NaN    NaN   \n",
       "3  50 ml (6er Pack)       10128657        NaN    NaN   \n",
       "4  35 ml (6er Pack)  0303000050800  unbekannt    NaN   \n",
       "\n",
       "                                                desc  \n",
       "0  An der 3,5mm-Stereo-Headsetbuchse kannst du ko...  \n",
       "1                                                NaN  \n",
       "2  An der 3,5mm-Stereo-Headsetbuchse kannst du ko...  \n",
       "3  Cremig-pastose Konsistenz für die optimale Anw...  \n",
       "4  Cremige, leicht verstreichbare Fingermalfarbe ...  "
      ]
     },
     "execution_count": 34,
     "metadata": {},
     "output_type": "execute_result"
    }
   ],
   "source": [
    "session_attribute_test.head(5)"
   ]
  },
  {
   "cell_type": "code",
   "execution_count": 35,
   "id": "3b934611",
   "metadata": {
    "execution": {
     "iopub.execute_input": "2023-06-06T04:17:25.334674Z",
     "iopub.status.busy": "2023-06-06T04:17:25.334304Z",
     "iopub.status.idle": "2023-06-06T04:17:26.378157Z",
     "shell.execute_reply": "2023-06-06T04:17:26.377063Z"
    },
    "papermill": {
     "duration": 1.137647,
     "end_time": "2023-06-06T04:17:26.380942",
     "exception": false,
     "start_time": "2023-06-06T04:17:25.243295",
     "status": "completed"
    },
    "tags": []
   },
   "outputs": [],
   "source": [
    "raw_df1 = session_attribute_train.drop('next_item',axis = 1)"
   ]
  },
  {
   "cell_type": "code",
   "execution_count": 36,
   "id": "215e9942",
   "metadata": {
    "execution": {
     "iopub.execute_input": "2023-06-06T04:17:26.560432Z",
     "iopub.status.busy": "2023-06-06T04:17:26.559472Z",
     "iopub.status.idle": "2023-06-06T04:17:26.564156Z",
     "shell.execute_reply": "2023-06-06T04:17:26.563226Z"
    },
    "papermill": {
     "duration": 0.096967,
     "end_time": "2023-06-06T04:17:26.566368",
     "exception": false,
     "start_time": "2023-06-06T04:17:26.469401",
     "status": "completed"
    },
    "tags": []
   },
   "outputs": [],
   "source": [
    "# session_attribute_test = session_attribute_test.drop('event_time_dt-first',axis = 1)"
   ]
  },
  {
   "cell_type": "code",
   "execution_count": 37,
   "id": "d5d2eaed",
   "metadata": {
    "execution": {
     "iopub.execute_input": "2023-06-06T04:17:26.745744Z",
     "iopub.status.busy": "2023-06-06T04:17:26.744956Z",
     "iopub.status.idle": "2023-06-06T04:17:26.749487Z",
     "shell.execute_reply": "2023-06-06T04:17:26.748762Z"
    },
    "papermill": {
     "duration": 0.09557,
     "end_time": "2023-06-06T04:17:26.751587",
     "exception": false,
     "start_time": "2023-06-06T04:17:26.656017",
     "status": "completed"
    },
    "tags": []
   },
   "outputs": [],
   "source": [
    "# session_attribute_test['event_time_dt-first'] = 2"
   ]
  },
  {
   "cell_type": "code",
   "execution_count": 38,
   "id": "aecdbe9d",
   "metadata": {
    "execution": {
     "iopub.execute_input": "2023-06-06T04:17:26.930426Z",
     "iopub.status.busy": "2023-06-06T04:17:26.929688Z",
     "iopub.status.idle": "2023-06-06T04:17:26.934080Z",
     "shell.execute_reply": "2023-06-06T04:17:26.933368Z"
    },
    "papermill": {
     "duration": 0.095977,
     "end_time": "2023-06-06T04:17:26.936168",
     "exception": false,
     "start_time": "2023-06-06T04:17:26.840191",
     "status": "completed"
    },
    "tags": []
   },
   "outputs": [],
   "source": [
    "# raw_df1['event_time_dt-first'] = 1"
   ]
  },
  {
   "cell_type": "code",
   "execution_count": null,
   "id": "76f7ca5d",
   "metadata": {
    "papermill": {
     "duration": 0.087946,
     "end_time": "2023-06-06T04:17:27.112918",
     "exception": false,
     "start_time": "2023-06-06T04:17:27.024972",
     "status": "completed"
    },
    "tags": []
   },
   "outputs": [],
   "source": []
  },
  {
   "cell_type": "code",
   "execution_count": 39,
   "id": "92d2be04",
   "metadata": {
    "execution": {
     "iopub.execute_input": "2023-06-06T04:17:27.298416Z",
     "iopub.status.busy": "2023-06-06T04:17:27.297597Z",
     "iopub.status.idle": "2023-06-06T04:17:27.310138Z",
     "shell.execute_reply": "2023-06-06T04:17:27.309066Z"
    },
    "papermill": {
     "duration": 0.107201,
     "end_time": "2023-06-06T04:17:27.312242",
     "exception": false,
     "start_time": "2023-06-06T04:17:27.205041",
     "status": "completed"
    },
    "tags": []
   },
   "outputs": [
    {
     "data": {
      "text/plain": [
       "1000000"
      ]
     },
     "execution_count": 39,
     "metadata": {},
     "output_type": "execute_result"
    }
   ],
   "source": [
    "np.min(raw_df1.session_id)"
   ]
  },
  {
   "cell_type": "code",
   "execution_count": 40,
   "id": "6937e65d",
   "metadata": {
    "execution": {
     "iopub.execute_input": "2023-06-06T04:17:27.492515Z",
     "iopub.status.busy": "2023-06-06T04:17:27.491801Z",
     "iopub.status.idle": "2023-06-06T04:17:27.498541Z",
     "shell.execute_reply": "2023-06-06T04:17:27.497801Z"
    },
    "papermill": {
     "duration": 0.100115,
     "end_time": "2023-06-06T04:17:27.500525",
     "exception": false,
     "start_time": "2023-06-06T04:17:27.400410",
     "status": "completed"
    },
    "tags": []
   },
   "outputs": [
    {
     "data": {
      "text/plain": [
       "104567"
      ]
     },
     "execution_count": 40,
     "metadata": {},
     "output_type": "execute_result"
    }
   ],
   "source": [
    "np.max(session_attribute_test['session_id'])"
   ]
  },
  {
   "cell_type": "code",
   "execution_count": 41,
   "id": "ecd624a3",
   "metadata": {
    "execution": {
     "iopub.execute_input": "2023-06-06T04:17:27.741158Z",
     "iopub.status.busy": "2023-06-06T04:17:27.740423Z",
     "iopub.status.idle": "2023-06-06T04:17:27.746188Z",
     "shell.execute_reply": "2023-06-06T04:17:27.745286Z"
    },
    "papermill": {
     "duration": 0.156264,
     "end_time": "2023-06-06T04:17:27.748257",
     "exception": false,
     "start_time": "2023-06-06T04:17:27.591993",
     "status": "completed"
    },
    "tags": []
   },
   "outputs": [
    {
     "data": {
      "text/plain": [
       "(447533, 11)"
      ]
     },
     "execution_count": 41,
     "metadata": {},
     "output_type": "execute_result"
    }
   ],
   "source": [
    "session_attribute_test.shape"
   ]
  },
  {
   "cell_type": "code",
   "execution_count": 42,
   "id": "c90649fd",
   "metadata": {
    "execution": {
     "iopub.execute_input": "2023-06-06T04:17:27.928261Z",
     "iopub.status.busy": "2023-06-06T04:17:27.927500Z",
     "iopub.status.idle": "2023-06-06T04:17:29.211060Z",
     "shell.execute_reply": "2023-06-06T04:17:29.209883Z"
    },
    "papermill": {
     "duration": 1.376622,
     "end_time": "2023-06-06T04:17:29.213874",
     "exception": false,
     "start_time": "2023-06-06T04:17:27.837252",
     "status": "completed"
    },
    "tags": []
   },
   "outputs": [],
   "source": [
    "join_data = pd.concat([raw_df1, session_attribute_test])"
   ]
  },
  {
   "cell_type": "code",
   "execution_count": 43,
   "id": "07942b1e",
   "metadata": {
    "execution": {
     "iopub.execute_input": "2023-06-06T04:17:29.400184Z",
     "iopub.status.busy": "2023-06-06T04:17:29.399641Z",
     "iopub.status.idle": "2023-06-06T04:17:33.140136Z",
     "shell.execute_reply": "2023-06-06T04:17:33.139388Z"
    },
    "papermill": {
     "duration": 3.835756,
     "end_time": "2023-06-06T04:17:33.142180",
     "exception": false,
     "start_time": "2023-06-06T04:17:29.306424",
     "status": "completed"
    },
    "tags": []
   },
   "outputs": [
    {
     "data": {
      "text/html": [
       "<div>\n",
       "<style scoped>\n",
       "    .dataframe tbody tr th:only-of-type {\n",
       "        vertical-align: middle;\n",
       "    }\n",
       "\n",
       "    .dataframe tbody tr th {\n",
       "        vertical-align: top;\n",
       "    }\n",
       "\n",
       "    .dataframe thead th {\n",
       "        text-align: right;\n",
       "    }\n",
       "</style>\n",
       "<table border=\"1\" class=\"dataframe\">\n",
       "  <thead>\n",
       "    <tr style=\"text-align: right;\">\n",
       "      <th></th>\n",
       "      <th>session_id</th>\n",
       "      <th>prev_items</th>\n",
       "      <th>title</th>\n",
       "      <th>price</th>\n",
       "      <th>brand</th>\n",
       "      <th>color</th>\n",
       "      <th>size</th>\n",
       "      <th>model</th>\n",
       "      <th>material</th>\n",
       "      <th>author</th>\n",
       "      <th>desc</th>\n",
       "    </tr>\n",
       "  </thead>\n",
       "  <tbody>\n",
       "    <tr>\n",
       "      <th>4434707</th>\n",
       "      <td>1828786</td>\n",
       "      <td>B0B2PQLWD9</td>\n",
       "      <td>Philips Hue Tap Dial switch Drehschalter, weiß...</td>\n",
       "      <td>42.99</td>\n",
       "      <td>Philips</td>\n",
       "      <td>Weiß</td>\n",
       "      <td>NaN</td>\n",
       "      <td>929003500101</td>\n",
       "      <td>Kunststoff</td>\n",
       "      <td>NaN</td>\n",
       "      <td>Flexibel einsetzbar: Stellen Sie Lichtszenen i...</td>\n",
       "    </tr>\n",
       "    <tr>\n",
       "      <th>3502856</th>\n",
       "      <td>1654447</td>\n",
       "      <td>B01NALRBE5</td>\n",
       "      <td>deleyCON 1,5m SAT Antennenkabel HDTV Satellite...</td>\n",
       "      <td>9.99</td>\n",
       "      <td>deleyCON</td>\n",
       "      <td>Schwarz</td>\n",
       "      <td>1.5 M</td>\n",
       "      <td>MK1813</td>\n",
       "      <td>NaN</td>\n",
       "      <td>NaN</td>\n",
       "      <td>Anschluss: F-Stecker zu F-Stecker (Koaxial) //...</td>\n",
       "    </tr>\n",
       "    <tr>\n",
       "      <th>1344168</th>\n",
       "      <td>1251082</td>\n",
       "      <td>B09BHQ54PG</td>\n",
       "      <td>Lichterkette Batterie 2 m, 12 Stück 20 Led Lic...</td>\n",
       "      <td>16.99</td>\n",
       "      <td>HELESIN</td>\n",
       "      <td>Mehrfarbig Led Lichterkette</td>\n",
       "      <td>12 pack</td>\n",
       "      <td>NaN</td>\n",
       "      <td>NaN</td>\n",
       "      <td>NaN</td>\n",
       "      <td>【Breite Anwendung】 Schaffen Sie eine romantisc...</td>\n",
       "    </tr>\n",
       "    <tr>\n",
       "      <th>4789201</th>\n",
       "      <td>1895081</td>\n",
       "      <td>B09C62L43D</td>\n",
       "      <td>Philips Hue Wandschalter Modul, Doppelpack, er...</td>\n",
       "      <td>57.84</td>\n",
       "      <td>Philips Hue</td>\n",
       "      <td>Weiß</td>\n",
       "      <td>2-er Pack</td>\n",
       "      <td>929003017102</td>\n",
       "      <td>Kunststoff</td>\n",
       "      <td>NaN</td>\n",
       "      <td>Einfache Integration in Ihr Hue System: Der Wa...</td>\n",
       "    </tr>\n",
       "    <tr>\n",
       "      <th>1724094</th>\n",
       "      <td>1322346</td>\n",
       "      <td>B09V4BH8B2</td>\n",
       "      <td>Sidorenko Schreibtischunterlage PU Leder 80x40...</td>\n",
       "      <td>15.99</td>\n",
       "      <td>Sidorenko</td>\n",
       "      <td>Schwarz</td>\n",
       "      <td>80x40 cm</td>\n",
       "      <td>NaN</td>\n",
       "      <td>Kunstleder</td>\n",
       "      <td>NaN</td>\n",
       "      <td>✅ ANGENEHMES ARBEITEN - Die hochwertige Schrei...</td>\n",
       "    </tr>\n",
       "  </tbody>\n",
       "</table>\n",
       "</div>"
      ],
      "text/plain": [
       "         session_id  prev_items  \\\n",
       "4434707     1828786  B0B2PQLWD9   \n",
       "3502856     1654447  B01NALRBE5   \n",
       "1344168     1251082  B09BHQ54PG   \n",
       "4789201     1895081  B09C62L43D   \n",
       "1724094     1322346  B09V4BH8B2   \n",
       "\n",
       "                                                     title  price  \\\n",
       "4434707  Philips Hue Tap Dial switch Drehschalter, weiß...  42.99   \n",
       "3502856  deleyCON 1,5m SAT Antennenkabel HDTV Satellite...   9.99   \n",
       "1344168  Lichterkette Batterie 2 m, 12 Stück 20 Led Lic...  16.99   \n",
       "4789201  Philips Hue Wandschalter Modul, Doppelpack, er...  57.84   \n",
       "1724094  Sidorenko Schreibtischunterlage PU Leder 80x40...  15.99   \n",
       "\n",
       "               brand                        color       size         model  \\\n",
       "4434707      Philips                         Weiß        NaN  929003500101   \n",
       "3502856     deleyCON                      Schwarz      1.5 M        MK1813   \n",
       "1344168      HELESIN  Mehrfarbig Led Lichterkette    12 pack           NaN   \n",
       "4789201  Philips Hue                         Weiß  2-er Pack  929003017102   \n",
       "1724094    Sidorenko                      Schwarz   80x40 cm           NaN   \n",
       "\n",
       "           material author                                               desc  \n",
       "4434707  Kunststoff    NaN  Flexibel einsetzbar: Stellen Sie Lichtszenen i...  \n",
       "3502856         NaN    NaN  Anschluss: F-Stecker zu F-Stecker (Koaxial) //...  \n",
       "1344168         NaN    NaN  【Breite Anwendung】 Schaffen Sie eine romantisc...  \n",
       "4789201  Kunststoff    NaN  Einfache Integration in Ihr Hue System: Der Wa...  \n",
       "1724094  Kunstleder    NaN  ✅ ANGENEHMES ARBEITEN - Die hochwertige Schrei...  "
      ]
     },
     "execution_count": 43,
     "metadata": {},
     "output_type": "execute_result"
    }
   ],
   "source": [
    "join_data.sample(5)"
   ]
  },
  {
   "cell_type": "code",
   "execution_count": 44,
   "id": "44561384",
   "metadata": {
    "execution": {
     "iopub.execute_input": "2023-06-06T04:17:33.347716Z",
     "iopub.status.busy": "2023-06-06T04:17:33.347009Z",
     "iopub.status.idle": "2023-06-06T04:17:33.351517Z",
     "shell.execute_reply": "2023-06-06T04:17:33.350445Z"
    },
    "papermill": {
     "duration": 0.101311,
     "end_time": "2023-06-06T04:17:33.353948",
     "exception": false,
     "start_time": "2023-06-06T04:17:33.252637",
     "status": "completed"
    },
    "tags": []
   },
   "outputs": [],
   "source": [
    "raw_df = join_data"
   ]
  },
  {
   "cell_type": "code",
   "execution_count": 45,
   "id": "4c0fb081",
   "metadata": {
    "execution": {
     "iopub.execute_input": "2023-06-06T04:17:33.538290Z",
     "iopub.status.busy": "2023-06-06T04:17:33.537881Z",
     "iopub.status.idle": "2023-06-06T04:17:33.542832Z",
     "shell.execute_reply": "2023-06-06T04:17:33.541746Z"
    },
    "papermill": {
     "duration": 0.099345,
     "end_time": "2023-06-06T04:17:33.545000",
     "exception": false,
     "start_time": "2023-06-06T04:17:33.445655",
     "status": "completed"
    },
    "tags": []
   },
   "outputs": [],
   "source": [
    "# raw_df = raw_df1[0:1000]"
   ]
  },
  {
   "cell_type": "code",
   "execution_count": null,
   "id": "10677132",
   "metadata": {
    "papermill": {
     "duration": 0.090392,
     "end_time": "2023-06-06T04:17:33.726176",
     "exception": false,
     "start_time": "2023-06-06T04:17:33.635784",
     "status": "completed"
    },
    "tags": []
   },
   "outputs": [],
   "source": []
  },
  {
   "cell_type": "code",
   "execution_count": 46,
   "id": "20cf5f97",
   "metadata": {
    "execution": {
     "iopub.execute_input": "2023-06-06T04:17:33.909794Z",
     "iopub.status.busy": "2023-06-06T04:17:33.909364Z",
     "iopub.status.idle": "2023-06-06T04:17:33.927907Z",
     "shell.execute_reply": "2023-06-06T04:17:33.926726Z"
    },
    "papermill": {
     "duration": 0.112789,
     "end_time": "2023-06-06T04:17:33.930035",
     "exception": false,
     "start_time": "2023-06-06T04:17:33.817246",
     "status": "completed"
    },
    "tags": []
   },
   "outputs": [
    {
     "data": {
      "text/html": [
       "<div>\n",
       "<style scoped>\n",
       "    .dataframe tbody tr th:only-of-type {\n",
       "        vertical-align: middle;\n",
       "    }\n",
       "\n",
       "    .dataframe tbody tr th {\n",
       "        vertical-align: top;\n",
       "    }\n",
       "\n",
       "    .dataframe thead th {\n",
       "        text-align: right;\n",
       "    }\n",
       "</style>\n",
       "<table border=\"1\" class=\"dataframe\">\n",
       "  <thead>\n",
       "    <tr style=\"text-align: right;\">\n",
       "      <th></th>\n",
       "      <th>session_id</th>\n",
       "      <th>prev_items</th>\n",
       "      <th>title</th>\n",
       "      <th>price</th>\n",
       "      <th>brand</th>\n",
       "      <th>color</th>\n",
       "      <th>size</th>\n",
       "      <th>model</th>\n",
       "      <th>material</th>\n",
       "      <th>author</th>\n",
       "      <th>desc</th>\n",
       "    </tr>\n",
       "  </thead>\n",
       "  <tbody>\n",
       "    <tr>\n",
       "      <th>0</th>\n",
       "      <td>1000000</td>\n",
       "      <td>B09W9FND7K</td>\n",
       "      <td>OREiN LED Einbaustrahler 230V Dimmbar &amp; IP65 L...</td>\n",
       "      <td>39.99</td>\n",
       "      <td>OREiN</td>\n",
       "      <td>6*ip65 (3000k,dimmbar)</td>\n",
       "      <td>Lochgröße Φ68-72mm</td>\n",
       "      <td>NaN</td>\n",
       "      <td>塑料</td>\n",
       "      <td>NaN</td>\n",
       "      <td>【Angenehmes Licht】Dieser Einbaustrahler LED Fl...</td>\n",
       "    </tr>\n",
       "    <tr>\n",
       "      <th>1</th>\n",
       "      <td>1000000</td>\n",
       "      <td>B09JSPLN1M</td>\n",
       "      <td>OREiN LED Spot LED Einbaustrahler 230V IP65 LE...</td>\n",
       "      <td>36.99</td>\n",
       "      <td>OREiN</td>\n",
       "      <td>6*ip65(3000k)</td>\n",
       "      <td>Lochgröße Φ68-72mm</td>\n",
       "      <td>NaN</td>\n",
       "      <td>Kunststoff</td>\n",
       "      <td>NaN</td>\n",
       "      <td>【Angenehmes Licht】Dieser Einbaustrahler LED Fl...</td>\n",
       "    </tr>\n",
       "    <tr>\n",
       "      <th>2</th>\n",
       "      <td>1000000</td>\n",
       "      <td>B09M7GY217</td>\n",
       "      <td>Samsung Galaxy Buds2, Kabellose Kopfhörer, Wir...</td>\n",
       "      <td>109.99</td>\n",
       "      <td>Samsung</td>\n",
       "      <td>White</td>\n",
       "      <td>NaN</td>\n",
       "      <td>Samsung Galaxy Buds2</td>\n",
       "      <td>Silikon</td>\n",
       "      <td>NaN</td>\n",
       "      <td>4 Farben zur Auswahl – Graphite. White. Olive....</td>\n",
       "    </tr>\n",
       "    <tr>\n",
       "      <th>3</th>\n",
       "      <td>1000001</td>\n",
       "      <td>B076THCGSG</td>\n",
       "      <td>VIETSCHI Profi DIN Plus 12,5L weiß - doppeldec...</td>\n",
       "      <td>39.80</td>\n",
       "      <td>Vietschi</td>\n",
       "      <td>NaN</td>\n",
       "      <td>12.5 l (1er Pack)</td>\n",
       "      <td>NaN</td>\n",
       "      <td>NaN</td>\n",
       "      <td>NaN</td>\n",
       "      <td>✅ Einfache Verarbeitung - Egal ob Streichen, R...</td>\n",
       "    </tr>\n",
       "    <tr>\n",
       "      <th>4</th>\n",
       "      <td>1000001</td>\n",
       "      <td>B007MO8IME</td>\n",
       "      <td>Caparol Capa DIN 12,500 L Wandfarben</td>\n",
       "      <td>40.27</td>\n",
       "      <td>Caparol</td>\n",
       "      <td>Weiss</td>\n",
       "      <td>12.5 l (1er Pack)</td>\n",
       "      <td>11283000</td>\n",
       "      <td>Dispersionsfarbe</td>\n",
       "      <td>NaN</td>\n",
       "      <td>Caparol</td>\n",
       "    </tr>\n",
       "  </tbody>\n",
       "</table>\n",
       "</div>"
      ],
      "text/plain": [
       "   session_id  prev_items                                              title  \\\n",
       "0     1000000  B09W9FND7K  OREiN LED Einbaustrahler 230V Dimmbar & IP65 L...   \n",
       "1     1000000  B09JSPLN1M  OREiN LED Spot LED Einbaustrahler 230V IP65 LE...   \n",
       "2     1000000  B09M7GY217  Samsung Galaxy Buds2, Kabellose Kopfhörer, Wir...   \n",
       "3     1000001  B076THCGSG  VIETSCHI Profi DIN Plus 12,5L weiß - doppeldec...   \n",
       "4     1000001  B007MO8IME               Caparol Capa DIN 12,500 L Wandfarben   \n",
       "\n",
       "    price     brand                   color                size  \\\n",
       "0   39.99     OREiN  6*ip65 (3000k,dimmbar)  Lochgröße Φ68-72mm   \n",
       "1   36.99     OREiN           6*ip65(3000k)  Lochgröße Φ68-72mm   \n",
       "2  109.99   Samsung                   White                 NaN   \n",
       "3   39.80  Vietschi                     NaN   12.5 l (1er Pack)   \n",
       "4   40.27   Caparol                   Weiss   12.5 l (1er Pack)   \n",
       "\n",
       "                  model          material author  \\\n",
       "0                   NaN                塑料    NaN   \n",
       "1                   NaN        Kunststoff    NaN   \n",
       "2  Samsung Galaxy Buds2           Silikon    NaN   \n",
       "3                   NaN               NaN    NaN   \n",
       "4              11283000  Dispersionsfarbe    NaN   \n",
       "\n",
       "                                                desc  \n",
       "0  【Angenehmes Licht】Dieser Einbaustrahler LED Fl...  \n",
       "1  【Angenehmes Licht】Dieser Einbaustrahler LED Fl...  \n",
       "2  4 Farben zur Auswahl – Graphite. White. Olive....  \n",
       "3  ✅ Einfache Verarbeitung - Egal ob Streichen, R...  \n",
       "4                                            Caparol  "
      ]
     },
     "execution_count": 46,
     "metadata": {},
     "output_type": "execute_result"
    }
   ],
   "source": [
    "raw_df.head()"
   ]
  },
  {
   "cell_type": "code",
   "execution_count": 47,
   "id": "cae18409",
   "metadata": {
    "execution": {
     "iopub.execute_input": "2023-06-06T04:17:34.115576Z",
     "iopub.status.busy": "2023-06-06T04:17:34.115163Z",
     "iopub.status.idle": "2023-06-06T04:18:33.520590Z",
     "shell.execute_reply": "2023-06-06T04:18:33.519524Z"
    },
    "papermill": {
     "duration": 59.501557,
     "end_time": "2023-06-06T04:18:33.523284",
     "exception": false,
     "start_time": "2023-06-06T04:17:34.021727",
     "status": "completed"
    },
    "tags": []
   },
   "outputs": [
    {
     "name": "stderr",
     "output_type": "stream",
     "text": [
      "/opt/conda/lib/python3.10/site-packages/merlin/io/dataset.py:264: UserWarning: Initializing an NVTabular Dataset in CPU mode.This is an experimental feature with extremely limited support!\n",
      "  warnings.warn(\n",
      "/opt/conda/lib/python3.10/site-packages/merlin/io/dataset.py:264: UserWarning: Initializing an NVTabular Dataset in CPU mode.This is an experimental feature with extremely limited support!\n",
      "  warnings.warn(\n",
      "/opt/conda/lib/python3.10/site-packages/merlin/io/dataset.py:264: UserWarning: Initializing an NVTabular Dataset in CPU mode.This is an experimental feature with extremely limited support!\n",
      "  warnings.warn(\n"
     ]
    }
   ],
   "source": [
    "cols = list(raw_df.columns)\n",
    "cols.remove('session_id')\n",
    "cols\n",
    "\n",
    "# load data \n",
    "df_event = nvt.Dataset(raw_df) \n",
    "\n",
    "# categorify user_session \n",
    "cat_feats = ['session_id'] >> nvt.ops.Categorify()\n",
    "\n",
    "workflow = nvt.Workflow(cols + cat_feats)\n",
    "workflow.fit(df_event)\n",
    "df = workflow.transform(df_event).to_ddf().compute()"
   ]
  },
  {
   "cell_type": "code",
   "execution_count": 48,
   "id": "cddccb91",
   "metadata": {
    "execution": {
     "iopub.execute_input": "2023-06-06T04:18:33.710531Z",
     "iopub.status.busy": "2023-06-06T04:18:33.709501Z",
     "iopub.status.idle": "2023-06-06T04:18:33.714212Z",
     "shell.execute_reply": "2023-06-06T04:18:33.713345Z"
    },
    "papermill": {
     "duration": 0.100574,
     "end_time": "2023-06-06T04:18:33.716244",
     "exception": false,
     "start_time": "2023-06-06T04:18:33.615670",
     "status": "completed"
    },
    "tags": []
   },
   "outputs": [],
   "source": [
    "# # check out the columns with nulls\n",
    "# raw_df.isnull().any()"
   ]
  },
  {
   "cell_type": "code",
   "execution_count": 49,
   "id": "deca413d",
   "metadata": {
    "execution": {
     "iopub.execute_input": "2023-06-06T04:18:33.902309Z",
     "iopub.status.busy": "2023-06-06T04:18:33.901450Z",
     "iopub.status.idle": "2023-06-06T04:18:33.907513Z",
     "shell.execute_reply": "2023-06-06T04:18:33.906611Z"
    },
    "papermill": {
     "duration": 0.101905,
     "end_time": "2023-06-06T04:18:33.909686",
     "exception": false,
     "start_time": "2023-06-06T04:18:33.807781",
     "status": "completed"
    },
    "tags": []
   },
   "outputs": [],
   "source": [
    "# categorify features \n",
    "item_id = ['prev_items'] >> nvt.ops.TagAsItemID()\n",
    "cat_feats = item_id + ['title','price','brand','color','size','model','material','author','desc'] >> nvt.ops.Categorify(start_index=1)"
   ]
  },
  {
   "cell_type": "code",
   "execution_count": null,
   "id": "91ca2194",
   "metadata": {
    "papermill": {
     "duration": 0.091827,
     "end_time": "2023-06-06T04:18:34.092964",
     "exception": false,
     "start_time": "2023-06-06T04:18:34.001137",
     "status": "completed"
    },
    "tags": []
   },
   "outputs": [],
   "source": []
  },
  {
   "cell_type": "code",
   "execution_count": null,
   "id": "8e7e9f03",
   "metadata": {
    "papermill": {
     "duration": 0.092516,
     "end_time": "2023-06-06T04:18:34.276994",
     "exception": false,
     "start_time": "2023-06-06T04:18:34.184478",
     "status": "completed"
    },
    "tags": []
   },
   "outputs": [],
   "source": []
  },
  {
   "cell_type": "code",
   "execution_count": 50,
   "id": "43d5fe42",
   "metadata": {
    "execution": {
     "iopub.execute_input": "2023-06-06T04:18:34.463419Z",
     "iopub.status.busy": "2023-06-06T04:18:34.462691Z",
     "iopub.status.idle": "2023-06-06T04:18:34.479293Z",
     "shell.execute_reply": "2023-06-06T04:18:34.478413Z"
    },
    "papermill": {
     "duration": 0.113283,
     "end_time": "2023-06-06T04:18:34.481762",
     "exception": false,
     "start_time": "2023-06-06T04:18:34.368479",
     "status": "completed"
    },
    "tags": []
   },
   "outputs": [
    {
     "data": {
      "text/html": [
       "<div>\n",
       "<style scoped>\n",
       "    .dataframe tbody tr th:only-of-type {\n",
       "        vertical-align: middle;\n",
       "    }\n",
       "\n",
       "    .dataframe tbody tr th {\n",
       "        vertical-align: top;\n",
       "    }\n",
       "\n",
       "    .dataframe thead th {\n",
       "        text-align: right;\n",
       "    }\n",
       "</style>\n",
       "<table border=\"1\" class=\"dataframe\">\n",
       "  <thead>\n",
       "    <tr style=\"text-align: right;\">\n",
       "      <th></th>\n",
       "      <th>session_id</th>\n",
       "      <th>prev_items</th>\n",
       "      <th>title</th>\n",
       "      <th>price</th>\n",
       "      <th>brand</th>\n",
       "      <th>color</th>\n",
       "      <th>size</th>\n",
       "      <th>model</th>\n",
       "      <th>material</th>\n",
       "      <th>author</th>\n",
       "      <th>desc</th>\n",
       "    </tr>\n",
       "  </thead>\n",
       "  <tbody>\n",
       "    <tr>\n",
       "      <th>0</th>\n",
       "      <td>958284</td>\n",
       "      <td>B09W9FND7K</td>\n",
       "      <td>OREiN LED Einbaustrahler 230V Dimmbar &amp; IP65 L...</td>\n",
       "      <td>39.99</td>\n",
       "      <td>OREiN</td>\n",
       "      <td>6*ip65 (3000k,dimmbar)</td>\n",
       "      <td>Lochgröße Φ68-72mm</td>\n",
       "      <td>NaN</td>\n",
       "      <td>塑料</td>\n",
       "      <td>NaN</td>\n",
       "      <td>【Angenehmes Licht】Dieser Einbaustrahler LED Fl...</td>\n",
       "    </tr>\n",
       "    <tr>\n",
       "      <th>1</th>\n",
       "      <td>958284</td>\n",
       "      <td>B09JSPLN1M</td>\n",
       "      <td>OREiN LED Spot LED Einbaustrahler 230V IP65 LE...</td>\n",
       "      <td>36.99</td>\n",
       "      <td>OREiN</td>\n",
       "      <td>6*ip65(3000k)</td>\n",
       "      <td>Lochgröße Φ68-72mm</td>\n",
       "      <td>NaN</td>\n",
       "      <td>Kunststoff</td>\n",
       "      <td>NaN</td>\n",
       "      <td>【Angenehmes Licht】Dieser Einbaustrahler LED Fl...</td>\n",
       "    </tr>\n",
       "    <tr>\n",
       "      <th>2</th>\n",
       "      <td>958284</td>\n",
       "      <td>B09M7GY217</td>\n",
       "      <td>Samsung Galaxy Buds2, Kabellose Kopfhörer, Wir...</td>\n",
       "      <td>109.99</td>\n",
       "      <td>Samsung</td>\n",
       "      <td>White</td>\n",
       "      <td>NaN</td>\n",
       "      <td>Samsung Galaxy Buds2</td>\n",
       "      <td>Silikon</td>\n",
       "      <td>NaN</td>\n",
       "      <td>4 Farben zur Auswahl – Graphite. White. Olive....</td>\n",
       "    </tr>\n",
       "    <tr>\n",
       "      <th>3</th>\n",
       "      <td>424482</td>\n",
       "      <td>B076THCGSG</td>\n",
       "      <td>VIETSCHI Profi DIN Plus 12,5L weiß - doppeldec...</td>\n",
       "      <td>39.80</td>\n",
       "      <td>Vietschi</td>\n",
       "      <td>NaN</td>\n",
       "      <td>12.5 l (1er Pack)</td>\n",
       "      <td>NaN</td>\n",
       "      <td>NaN</td>\n",
       "      <td>NaN</td>\n",
       "      <td>✅ Einfache Verarbeitung - Egal ob Streichen, R...</td>\n",
       "    </tr>\n",
       "    <tr>\n",
       "      <th>4</th>\n",
       "      <td>424482</td>\n",
       "      <td>B007MO8IME</td>\n",
       "      <td>Caparol Capa DIN 12,500 L Wandfarben</td>\n",
       "      <td>40.27</td>\n",
       "      <td>Caparol</td>\n",
       "      <td>Weiss</td>\n",
       "      <td>12.5 l (1er Pack)</td>\n",
       "      <td>11283000</td>\n",
       "      <td>Dispersionsfarbe</td>\n",
       "      <td>NaN</td>\n",
       "      <td>Caparol</td>\n",
       "    </tr>\n",
       "  </tbody>\n",
       "</table>\n",
       "</div>"
      ],
      "text/plain": [
       "   session_id  prev_items                                              title  \\\n",
       "0      958284  B09W9FND7K  OREiN LED Einbaustrahler 230V Dimmbar & IP65 L...   \n",
       "1      958284  B09JSPLN1M  OREiN LED Spot LED Einbaustrahler 230V IP65 LE...   \n",
       "2      958284  B09M7GY217  Samsung Galaxy Buds2, Kabellose Kopfhörer, Wir...   \n",
       "3      424482  B076THCGSG  VIETSCHI Profi DIN Plus 12,5L weiß - doppeldec...   \n",
       "4      424482  B007MO8IME               Caparol Capa DIN 12,500 L Wandfarben   \n",
       "\n",
       "    price     brand                   color                size  \\\n",
       "0   39.99     OREiN  6*ip65 (3000k,dimmbar)  Lochgröße Φ68-72mm   \n",
       "1   36.99     OREiN           6*ip65(3000k)  Lochgröße Φ68-72mm   \n",
       "2  109.99   Samsung                   White                 NaN   \n",
       "3   39.80  Vietschi                     NaN   12.5 l (1er Pack)   \n",
       "4   40.27   Caparol                   Weiss   12.5 l (1er Pack)   \n",
       "\n",
       "                  model          material author  \\\n",
       "0                   NaN                塑料    NaN   \n",
       "1                   NaN        Kunststoff    NaN   \n",
       "2  Samsung Galaxy Buds2           Silikon    NaN   \n",
       "3                   NaN               NaN    NaN   \n",
       "4              11283000  Dispersionsfarbe    NaN   \n",
       "\n",
       "                                                desc  \n",
       "0  【Angenehmes Licht】Dieser Einbaustrahler LED Fl...  \n",
       "1  【Angenehmes Licht】Dieser Einbaustrahler LED Fl...  \n",
       "2  4 Farben zur Auswahl – Graphite. White. Olive....  \n",
       "3  ✅ Einfache Verarbeitung - Egal ob Streichen, R...  \n",
       "4                                            Caparol  "
      ]
     },
     "execution_count": 50,
     "metadata": {},
     "output_type": "execute_result"
    }
   ],
   "source": [
    "df.head()"
   ]
  },
  {
   "cell_type": "code",
   "execution_count": 51,
   "id": "43a98dad",
   "metadata": {
    "execution": {
     "iopub.execute_input": "2023-06-06T04:18:34.669509Z",
     "iopub.status.busy": "2023-06-06T04:18:34.668521Z",
     "iopub.status.idle": "2023-06-06T04:18:34.686328Z",
     "shell.execute_reply": "2023-06-06T04:18:34.685184Z"
    },
    "papermill": {
     "duration": 0.114045,
     "end_time": "2023-06-06T04:18:34.688957",
     "exception": false,
     "start_time": "2023-06-06T04:18:34.574912",
     "status": "completed"
    },
    "tags": []
   },
   "outputs": [
    {
     "data": {
      "text/html": [
       "<div>\n",
       "<style scoped>\n",
       "    .dataframe tbody tr th:only-of-type {\n",
       "        vertical-align: middle;\n",
       "    }\n",
       "\n",
       "    .dataframe tbody tr th {\n",
       "        vertical-align: top;\n",
       "    }\n",
       "\n",
       "    .dataframe thead th {\n",
       "        text-align: right;\n",
       "    }\n",
       "</style>\n",
       "<table border=\"1\" class=\"dataframe\">\n",
       "  <thead>\n",
       "    <tr style=\"text-align: right;\">\n",
       "      <th></th>\n",
       "      <th>session_id</th>\n",
       "      <th>prev_items</th>\n",
       "      <th>title</th>\n",
       "      <th>price</th>\n",
       "      <th>brand</th>\n",
       "      <th>color</th>\n",
       "      <th>size</th>\n",
       "      <th>model</th>\n",
       "      <th>material</th>\n",
       "      <th>author</th>\n",
       "      <th>desc</th>\n",
       "    </tr>\n",
       "  </thead>\n",
       "  <tbody>\n",
       "    <tr>\n",
       "      <th>0</th>\n",
       "      <td>1000000</td>\n",
       "      <td>B09W9FND7K</td>\n",
       "      <td>OREiN LED Einbaustrahler 230V Dimmbar &amp; IP65 L...</td>\n",
       "      <td>39.99</td>\n",
       "      <td>OREiN</td>\n",
       "      <td>6*ip65 (3000k,dimmbar)</td>\n",
       "      <td>Lochgröße Φ68-72mm</td>\n",
       "      <td>NaN</td>\n",
       "      <td>塑料</td>\n",
       "      <td>NaN</td>\n",
       "      <td>【Angenehmes Licht】Dieser Einbaustrahler LED Fl...</td>\n",
       "    </tr>\n",
       "    <tr>\n",
       "      <th>1</th>\n",
       "      <td>1000000</td>\n",
       "      <td>B09JSPLN1M</td>\n",
       "      <td>OREiN LED Spot LED Einbaustrahler 230V IP65 LE...</td>\n",
       "      <td>36.99</td>\n",
       "      <td>OREiN</td>\n",
       "      <td>6*ip65(3000k)</td>\n",
       "      <td>Lochgröße Φ68-72mm</td>\n",
       "      <td>NaN</td>\n",
       "      <td>Kunststoff</td>\n",
       "      <td>NaN</td>\n",
       "      <td>【Angenehmes Licht】Dieser Einbaustrahler LED Fl...</td>\n",
       "    </tr>\n",
       "    <tr>\n",
       "      <th>2</th>\n",
       "      <td>1000000</td>\n",
       "      <td>B09M7GY217</td>\n",
       "      <td>Samsung Galaxy Buds2, Kabellose Kopfhörer, Wir...</td>\n",
       "      <td>109.99</td>\n",
       "      <td>Samsung</td>\n",
       "      <td>White</td>\n",
       "      <td>NaN</td>\n",
       "      <td>Samsung Galaxy Buds2</td>\n",
       "      <td>Silikon</td>\n",
       "      <td>NaN</td>\n",
       "      <td>4 Farben zur Auswahl – Graphite. White. Olive....</td>\n",
       "    </tr>\n",
       "    <tr>\n",
       "      <th>3</th>\n",
       "      <td>1000001</td>\n",
       "      <td>B076THCGSG</td>\n",
       "      <td>VIETSCHI Profi DIN Plus 12,5L weiß - doppeldec...</td>\n",
       "      <td>39.80</td>\n",
       "      <td>Vietschi</td>\n",
       "      <td>NaN</td>\n",
       "      <td>12.5 l (1er Pack)</td>\n",
       "      <td>NaN</td>\n",
       "      <td>NaN</td>\n",
       "      <td>NaN</td>\n",
       "      <td>✅ Einfache Verarbeitung - Egal ob Streichen, R...</td>\n",
       "    </tr>\n",
       "    <tr>\n",
       "      <th>4</th>\n",
       "      <td>1000001</td>\n",
       "      <td>B007MO8IME</td>\n",
       "      <td>Caparol Capa DIN 12,500 L Wandfarben</td>\n",
       "      <td>40.27</td>\n",
       "      <td>Caparol</td>\n",
       "      <td>Weiss</td>\n",
       "      <td>12.5 l (1er Pack)</td>\n",
       "      <td>11283000</td>\n",
       "      <td>Dispersionsfarbe</td>\n",
       "      <td>NaN</td>\n",
       "      <td>Caparol</td>\n",
       "    </tr>\n",
       "  </tbody>\n",
       "</table>\n",
       "</div>"
      ],
      "text/plain": [
       "   session_id  prev_items                                              title  \\\n",
       "0     1000000  B09W9FND7K  OREiN LED Einbaustrahler 230V Dimmbar & IP65 L...   \n",
       "1     1000000  B09JSPLN1M  OREiN LED Spot LED Einbaustrahler 230V IP65 LE...   \n",
       "2     1000000  B09M7GY217  Samsung Galaxy Buds2, Kabellose Kopfhörer, Wir...   \n",
       "3     1000001  B076THCGSG  VIETSCHI Profi DIN Plus 12,5L weiß - doppeldec...   \n",
       "4     1000001  B007MO8IME               Caparol Capa DIN 12,500 L Wandfarben   \n",
       "\n",
       "    price     brand                   color                size  \\\n",
       "0   39.99     OREiN  6*ip65 (3000k,dimmbar)  Lochgröße Φ68-72mm   \n",
       "1   36.99     OREiN           6*ip65(3000k)  Lochgröße Φ68-72mm   \n",
       "2  109.99   Samsung                   White                 NaN   \n",
       "3   39.80  Vietschi                     NaN   12.5 l (1er Pack)   \n",
       "4   40.27   Caparol                   Weiss   12.5 l (1er Pack)   \n",
       "\n",
       "                  model          material author  \\\n",
       "0                   NaN                塑料    NaN   \n",
       "1                   NaN        Kunststoff    NaN   \n",
       "2  Samsung Galaxy Buds2           Silikon    NaN   \n",
       "3                   NaN               NaN    NaN   \n",
       "4              11283000  Dispersionsfarbe    NaN   \n",
       "\n",
       "                                                desc  \n",
       "0  【Angenehmes Licht】Dieser Einbaustrahler LED Fl...  \n",
       "1  【Angenehmes Licht】Dieser Einbaustrahler LED Fl...  \n",
       "2  4 Farben zur Auswahl – Graphite. White. Olive....  \n",
       "3  ✅ Einfache Verarbeitung - Egal ob Streichen, R...  \n",
       "4                                            Caparol  "
      ]
     },
     "execution_count": 51,
     "metadata": {},
     "output_type": "execute_result"
    }
   ],
   "source": [
    "raw_df.head()"
   ]
  },
  {
   "cell_type": "code",
   "execution_count": 52,
   "id": "fbe5969b",
   "metadata": {
    "execution": {
     "iopub.execute_input": "2023-06-06T04:18:34.876557Z",
     "iopub.status.busy": "2023-06-06T04:18:34.876127Z",
     "iopub.status.idle": "2023-06-06T04:18:34.881679Z",
     "shell.execute_reply": "2023-06-06T04:18:34.880863Z"
    },
    "papermill": {
     "duration": 0.101908,
     "end_time": "2023-06-06T04:18:34.883866",
     "exception": false,
     "start_time": "2023-06-06T04:18:34.781958",
     "status": "completed"
    },
    "tags": []
   },
   "outputs": [],
   "source": [
    "# Smoothing price long-tailed distribution and applying standardization\n",
    "price_log = ['price'] >> nvt.ops.LogOp() >> nvt.ops.Normalize(out_dtype=np.float32) >> nvt.ops.Rename(name='price_log_norm')"
   ]
  },
  {
   "cell_type": "code",
   "execution_count": 53,
   "id": "f1be9a57",
   "metadata": {
    "execution": {
     "iopub.execute_input": "2023-06-06T04:18:35.071646Z",
     "iopub.status.busy": "2023-06-06T04:18:35.070950Z",
     "iopub.status.idle": "2023-06-06T04:18:35.079366Z",
     "shell.execute_reply": "2023-06-06T04:18:35.078096Z"
    },
    "papermill": {
     "duration": 0.105627,
     "end_time": "2023-06-06T04:18:35.081857",
     "exception": false,
     "start_time": "2023-06-06T04:18:34.976230",
     "status": "completed"
    },
    "tags": []
   },
   "outputs": [],
   "source": [
    "from merlin.dag import ColumnSelector\n",
    "from merlin.schema import Schema, Tags\n",
    "# Relative price to the average price for the category_id\n",
    "def relative_price_to_avg_categ(col, gdf):\n",
    "    epsilon = 1e-5\n",
    "    col = ((gdf['price'] - col) / (col + epsilon)) * (col > 0).astype(int)\n",
    "    return col\n",
    "    \n",
    "avg_category_id_pr = ['brand'] >> nvt.ops.JoinGroupby(cont_cols =['price'], stats=[\"mean\"]) >> nvt.ops.Rename(name='avg_category_id_price')\n",
    "relative_price_to_avg_category = (\n",
    "    avg_category_id_pr >> \n",
    "    nvt.ops.LambdaOp(relative_price_to_avg_categ, dependency=['price']) >> \n",
    "    nvt.ops.Rename(name=\"relative_price_to_avg_categ_id\") >>\n",
    "    nvt.ops.AddMetadata(tags=[Tags.CONTINUOUS])\n",
    ")"
   ]
  },
  {
   "cell_type": "code",
   "execution_count": 54,
   "id": "4c8e5804",
   "metadata": {
    "execution": {
     "iopub.execute_input": "2023-06-06T04:18:35.270971Z",
     "iopub.status.busy": "2023-06-06T04:18:35.270267Z",
     "iopub.status.idle": "2023-06-06T04:18:35.274558Z",
     "shell.execute_reply": "2023-06-06T04:18:35.273782Z"
    },
    "papermill": {
     "duration": 0.102357,
     "end_time": "2023-06-06T04:18:35.276941",
     "exception": false,
     "start_time": "2023-06-06T04:18:35.174584",
     "status": "completed"
    },
    "tags": []
   },
   "outputs": [],
   "source": [
    "groupby_feats = ['session_id'] + cat_feats + price_log + relative_price_to_avg_category"
   ]
  },
  {
   "cell_type": "code",
   "execution_count": 55,
   "id": "849755ab",
   "metadata": {
    "execution": {
     "iopub.execute_input": "2023-06-06T04:18:35.465123Z",
     "iopub.status.busy": "2023-06-06T04:18:35.464425Z",
     "iopub.status.idle": "2023-06-06T04:18:35.470151Z",
     "shell.execute_reply": "2023-06-06T04:18:35.469209Z"
    },
    "papermill": {
     "duration": 0.102884,
     "end_time": "2023-06-06T04:18:35.472392",
     "exception": false,
     "start_time": "2023-06-06T04:18:35.369508",
     "status": "completed"
    },
    "tags": []
   },
   "outputs": [
    {
     "data": {
      "text/plain": [
       "<Node + output>"
      ]
     },
     "execution_count": 55,
     "metadata": {},
     "output_type": "execute_result"
    }
   ],
   "source": [
    "groupby_feats"
   ]
  },
  {
   "cell_type": "code",
   "execution_count": 56,
   "id": "22beac42",
   "metadata": {
    "execution": {
     "iopub.execute_input": "2023-06-06T04:18:35.660636Z",
     "iopub.status.busy": "2023-06-06T04:18:35.659933Z",
     "iopub.status.idle": "2023-06-06T04:18:35.663965Z",
     "shell.execute_reply": "2023-06-06T04:18:35.663119Z"
    },
    "papermill": {
     "duration": 0.100867,
     "end_time": "2023-06-06T04:18:35.666224",
     "exception": false,
     "start_time": "2023-06-06T04:18:35.565357",
     "status": "completed"
    },
    "tags": []
   },
   "outputs": [],
   "source": [
    "# from nvtabular.ops import LambdaOp\n",
    "# # Define LambdaOp to change data type\n",
    "# change_dtype = nvt.ops.LambdaOp(lambda col: col.astype('int64'), 'prev_items', 'prev_items')"
   ]
  },
  {
   "cell_type": "code",
   "execution_count": null,
   "id": "e725145f",
   "metadata": {
    "papermill": {
     "duration": 0.092092,
     "end_time": "2023-06-06T04:18:35.851181",
     "exception": false,
     "start_time": "2023-06-06T04:18:35.759089",
     "status": "completed"
    },
    "tags": []
   },
   "outputs": [],
   "source": []
  },
  {
   "cell_type": "code",
   "execution_count": 57,
   "id": "8a1cf2a6",
   "metadata": {
    "execution": {
     "iopub.execute_input": "2023-06-06T04:18:36.039620Z",
     "iopub.status.busy": "2023-06-06T04:18:36.038949Z",
     "iopub.status.idle": "2023-06-06T04:18:36.045608Z",
     "shell.execute_reply": "2023-06-06T04:18:36.044619Z"
    },
    "papermill": {
     "duration": 0.103974,
     "end_time": "2023-06-06T04:18:36.048381",
     "exception": false,
     "start_time": "2023-06-06T04:18:35.944407",
     "status": "completed"
    },
    "tags": []
   },
   "outputs": [],
   "source": [
    "price_log + relative_price_to_avg_category\n",
    "\n",
    "# Define Groupby Workflow\n",
    "groupby_features = groupby_feats >> nvt.ops.Groupby(\n",
    "    groupby_cols=[\"session_id\"], \n",
    "    aggs={\n",
    "        'prev_items': [\"list\", \"count\"],\n",
    "        'title': [\"list\"], \n",
    "        'price_log_norm': [\"list\"],\n",
    "        'relative_price_to_avg_categ_id': [\"list\"],\n",
    "        'brand': [\"list\"], \n",
    "        'color': [\"list\"], \n",
    "        'size': [\"list\"],\n",
    "        'model': [\"list\"],\n",
    "        'material': [\"list\"],\n",
    "        'author': [\"list\"],\n",
    "        'desc': [\"list\"]\n",
    "        },\n",
    "    name_sep=\"-\")\n",
    "\n"
   ]
  },
  {
   "cell_type": "code",
   "execution_count": 58,
   "id": "97e06a2a",
   "metadata": {
    "execution": {
     "iopub.execute_input": "2023-06-06T04:18:36.237149Z",
     "iopub.status.busy": "2023-06-06T04:18:36.236463Z",
     "iopub.status.idle": "2023-06-06T04:18:36.241350Z",
     "shell.execute_reply": "2023-06-06T04:18:36.240093Z"
    },
    "papermill": {
     "duration": 0.102472,
     "end_time": "2023-06-06T04:18:36.243690",
     "exception": false,
     "start_time": "2023-06-06T04:18:36.141218",
     "status": "completed"
    },
    "tags": []
   },
   "outputs": [],
   "source": [
    "# import nvtabular as nvt\n",
    "# from nvtabular.ops import LambdaOp\n",
    "\n",
    "# # Define the lambda function to change the data type\n",
    "# change_dtype = LambdaOp(lambda col: col.astype('int64'), 'prev_items-list_seq', 'prev_items-list_seq')\n"
   ]
  },
  {
   "cell_type": "code",
   "execution_count": 59,
   "id": "2c9c187c",
   "metadata": {
    "execution": {
     "iopub.execute_input": "2023-06-06T04:18:36.432663Z",
     "iopub.status.busy": "2023-06-06T04:18:36.432270Z",
     "iopub.status.idle": "2023-06-06T04:18:36.438417Z",
     "shell.execute_reply": "2023-06-06T04:18:36.437672Z"
    },
    "papermill": {
     "duration": 0.103142,
     "end_time": "2023-06-06T04:18:36.441084",
     "exception": false,
     "start_time": "2023-06-06T04:18:36.337942",
     "status": "completed"
    },
    "tags": []
   },
   "outputs": [
    {
     "data": {
      "text/plain": [
       "<Node Groupby output>"
      ]
     },
     "execution_count": 59,
     "metadata": {},
     "output_type": "execute_result"
    }
   ],
   "source": [
    "groupby_features"
   ]
  },
  {
   "cell_type": "code",
   "execution_count": null,
   "id": "eb170b84",
   "metadata": {
    "papermill": {
     "duration": 0.092863,
     "end_time": "2023-06-06T04:18:36.628422",
     "exception": false,
     "start_time": "2023-06-06T04:18:36.535559",
     "status": "completed"
    },
    "tags": []
   },
   "outputs": [],
   "source": []
  },
  {
   "cell_type": "code",
   "execution_count": 60,
   "id": "11ecba9a",
   "metadata": {
    "execution": {
     "iopub.execute_input": "2023-06-06T04:18:36.816622Z",
     "iopub.status.busy": "2023-06-06T04:18:36.815870Z",
     "iopub.status.idle": "2023-06-06T04:18:36.820812Z",
     "shell.execute_reply": "2023-06-06T04:18:36.820027Z"
    },
    "papermill": {
     "duration": 0.101894,
     "end_time": "2023-06-06T04:18:36.823230",
     "exception": false,
     "start_time": "2023-06-06T04:18:36.721336",
     "status": "completed"
    },
    "tags": []
   },
   "outputs": [],
   "source": [
    "groupby_features_list = groupby_features[\n",
    "    'prev_items-list',\n",
    "    'title-list',\n",
    "    'price_log_norm-list',\n",
    "    'relative_price_to_avg_categ_id-list',\n",
    "    'brand-list',\n",
    "    'color-list',\n",
    "    'size-list',\n",
    "    'model-list',\n",
    "    'material-list',\n",
    "    'author-list',\n",
    "    'desc-list'\n",
    "]"
   ]
  },
  {
   "cell_type": "code",
   "execution_count": 61,
   "id": "0020b14a",
   "metadata": {
    "execution": {
     "iopub.execute_input": "2023-06-06T04:18:37.011061Z",
     "iopub.status.busy": "2023-06-06T04:18:37.010619Z",
     "iopub.status.idle": "2023-06-06T04:18:37.014773Z",
     "shell.execute_reply": "2023-06-06T04:18:37.014018Z"
    },
    "papermill": {
     "duration": 0.100691,
     "end_time": "2023-06-06T04:18:37.016717",
     "exception": false,
     "start_time": "2023-06-06T04:18:36.916026",
     "status": "completed"
    },
    "tags": []
   },
   "outputs": [],
   "source": [
    "SESSIONS_MAX_LENGTH = 10\n",
    "MINIMUM_SESSION_LENGTH = 2"
   ]
  },
  {
   "cell_type": "code",
   "execution_count": 62,
   "id": "a40dc069",
   "metadata": {
    "execution": {
     "iopub.execute_input": "2023-06-06T04:18:37.207543Z",
     "iopub.status.busy": "2023-06-06T04:18:37.206805Z",
     "iopub.status.idle": "2023-06-06T04:18:37.211564Z",
     "shell.execute_reply": "2023-06-06T04:18:37.210770Z"
    },
    "papermill": {
     "duration": 0.103761,
     "end_time": "2023-06-06T04:18:37.213646",
     "exception": false,
     "start_time": "2023-06-06T04:18:37.109885",
     "status": "completed"
    },
    "tags": []
   },
   "outputs": [],
   "source": [
    "groupby_features_trim = groupby_features_list >> nvt.ops.ListSlice(-SESSIONS_MAX_LENGTH)"
   ]
  },
  {
   "cell_type": "code",
   "execution_count": 63,
   "id": "932ef5ab",
   "metadata": {
    "execution": {
     "iopub.execute_input": "2023-06-06T04:18:37.401622Z",
     "iopub.status.busy": "2023-06-06T04:18:37.400859Z",
     "iopub.status.idle": "2023-06-06T04:18:37.405776Z",
     "shell.execute_reply": "2023-06-06T04:18:37.405002Z"
    },
    "papermill": {
     "duration": 0.101009,
     "end_time": "2023-06-06T04:18:37.407979",
     "exception": false,
     "start_time": "2023-06-06T04:18:37.306970",
     "status": "completed"
    },
    "tags": []
   },
   "outputs": [],
   "source": [
    "# # calculate session day index based on 'timestamp-first' column\n",
    "# day_index = ((groupby_features['event_time_dt-first'])  >> \n",
    "#              nvt.ops.LambdaOp(lambda col: (col - col.min()) +1) >>\n",
    "#              nvt.ops.Rename(f = lambda col: \"day_index\") >>\n",
    "#              nvt.ops.AddMetadata(tags=[Tags.CATEGORICAL])\n",
    "#             )"
   ]
  },
  {
   "cell_type": "code",
   "execution_count": 64,
   "id": "9c4530b2",
   "metadata": {
    "execution": {
     "iopub.execute_input": "2023-06-06T04:18:37.597404Z",
     "iopub.status.busy": "2023-06-06T04:18:37.596643Z",
     "iopub.status.idle": "2023-06-06T04:18:37.603179Z",
     "shell.execute_reply": "2023-06-06T04:18:37.602003Z"
    },
    "papermill": {
     "duration": 0.102804,
     "end_time": "2023-06-06T04:18:37.605421",
     "exception": false,
     "start_time": "2023-06-06T04:18:37.502617",
     "status": "completed"
    },
    "tags": []
   },
   "outputs": [],
   "source": [
    "sess_id = groupby_features['session_id'] >> nvt.ops.AddMetadata(tags=[Tags.CATEGORICAL])\n",
    "selected_features = sess_id + groupby_features['prev_items-count'] + groupby_features_trim"
   ]
  },
  {
   "cell_type": "code",
   "execution_count": 65,
   "id": "88d9860a",
   "metadata": {
    "execution": {
     "iopub.execute_input": "2023-06-06T04:18:37.791842Z",
     "iopub.status.busy": "2023-06-06T04:18:37.790948Z",
     "iopub.status.idle": "2023-06-06T04:18:37.796000Z",
     "shell.execute_reply": "2023-06-06T04:18:37.795168Z"
    },
    "papermill": {
     "duration": 0.100288,
     "end_time": "2023-06-06T04:18:37.798122",
     "exception": false,
     "start_time": "2023-06-06T04:18:37.697834",
     "status": "completed"
    },
    "tags": []
   },
   "outputs": [],
   "source": [
    "filtered_sessions = selected_features >> nvt.ops.Filter(f=lambda df: df[\"prev_items-count\"] >= MINIMUM_SESSION_LENGTH)"
   ]
  },
  {
   "cell_type": "code",
   "execution_count": 66,
   "id": "8f369b00",
   "metadata": {
    "execution": {
     "iopub.execute_input": "2023-06-06T04:18:37.984224Z",
     "iopub.status.busy": "2023-06-06T04:18:37.983800Z",
     "iopub.status.idle": "2023-06-06T04:18:37.988984Z",
     "shell.execute_reply": "2023-06-06T04:18:37.987783Z"
    },
    "papermill": {
     "duration": 0.101501,
     "end_time": "2023-06-06T04:18:37.991729",
     "exception": false,
     "start_time": "2023-06-06T04:18:37.890228",
     "status": "completed"
    },
    "tags": []
   },
   "outputs": [
    {
     "name": "stdout",
     "output_type": "stream",
     "text": [
      "<Node Filter output>\n"
     ]
    }
   ],
   "source": [
    "print(filtered_sessions)"
   ]
  },
  {
   "cell_type": "code",
   "execution_count": 67,
   "id": "abcf992d",
   "metadata": {
    "execution": {
     "iopub.execute_input": "2023-06-06T04:18:38.179412Z",
     "iopub.status.busy": "2023-06-06T04:18:38.179030Z",
     "iopub.status.idle": "2023-06-06T04:18:38.193510Z",
     "shell.execute_reply": "2023-06-06T04:18:38.192484Z"
    },
    "papermill": {
     "duration": 0.111583,
     "end_time": "2023-06-06T04:18:38.195596",
     "exception": false,
     "start_time": "2023-06-06T04:18:38.084013",
     "status": "completed"
    },
    "tags": []
   },
   "outputs": [
    {
     "data": {
      "text/html": [
       "<div>\n",
       "<style scoped>\n",
       "    .dataframe tbody tr th:only-of-type {\n",
       "        vertical-align: middle;\n",
       "    }\n",
       "\n",
       "    .dataframe tbody tr th {\n",
       "        vertical-align: top;\n",
       "    }\n",
       "\n",
       "    .dataframe thead th {\n",
       "        text-align: right;\n",
       "    }\n",
       "</style>\n",
       "<table border=\"1\" class=\"dataframe\">\n",
       "  <thead>\n",
       "    <tr style=\"text-align: right;\">\n",
       "      <th></th>\n",
       "      <th>name</th>\n",
       "      <th>tags</th>\n",
       "      <th>dtype</th>\n",
       "      <th>is_list</th>\n",
       "      <th>is_ragged</th>\n",
       "    </tr>\n",
       "  </thead>\n",
       "  <tbody>\n",
       "    <tr>\n",
       "      <th>0</th>\n",
       "      <td>session_id</td>\n",
       "      <td>()</td>\n",
       "      <td>DType(name='int64', element_type=&lt;ElementType....</td>\n",
       "      <td>False</td>\n",
       "      <td>False</td>\n",
       "    </tr>\n",
       "    <tr>\n",
       "      <th>1</th>\n",
       "      <td>prev_items</td>\n",
       "      <td>()</td>\n",
       "      <td>DType(name='object', element_type=&lt;ElementType...</td>\n",
       "      <td>False</td>\n",
       "      <td>False</td>\n",
       "    </tr>\n",
       "    <tr>\n",
       "      <th>2</th>\n",
       "      <td>title</td>\n",
       "      <td>()</td>\n",
       "      <td>DType(name='object', element_type=&lt;ElementType...</td>\n",
       "      <td>False</td>\n",
       "      <td>False</td>\n",
       "    </tr>\n",
       "    <tr>\n",
       "      <th>3</th>\n",
       "      <td>price</td>\n",
       "      <td>()</td>\n",
       "      <td>DType(name='float64', element_type=&lt;ElementTyp...</td>\n",
       "      <td>False</td>\n",
       "      <td>False</td>\n",
       "    </tr>\n",
       "    <tr>\n",
       "      <th>4</th>\n",
       "      <td>brand</td>\n",
       "      <td>()</td>\n",
       "      <td>DType(name='object', element_type=&lt;ElementType...</td>\n",
       "      <td>False</td>\n",
       "      <td>False</td>\n",
       "    </tr>\n",
       "    <tr>\n",
       "      <th>5</th>\n",
       "      <td>color</td>\n",
       "      <td>()</td>\n",
       "      <td>DType(name='object', element_type=&lt;ElementType...</td>\n",
       "      <td>False</td>\n",
       "      <td>False</td>\n",
       "    </tr>\n",
       "    <tr>\n",
       "      <th>6</th>\n",
       "      <td>size</td>\n",
       "      <td>()</td>\n",
       "      <td>DType(name='object', element_type=&lt;ElementType...</td>\n",
       "      <td>False</td>\n",
       "      <td>False</td>\n",
       "    </tr>\n",
       "    <tr>\n",
       "      <th>7</th>\n",
       "      <td>model</td>\n",
       "      <td>()</td>\n",
       "      <td>DType(name='object', element_type=&lt;ElementType...</td>\n",
       "      <td>False</td>\n",
       "      <td>False</td>\n",
       "    </tr>\n",
       "    <tr>\n",
       "      <th>8</th>\n",
       "      <td>material</td>\n",
       "      <td>()</td>\n",
       "      <td>DType(name='object', element_type=&lt;ElementType...</td>\n",
       "      <td>False</td>\n",
       "      <td>False</td>\n",
       "    </tr>\n",
       "    <tr>\n",
       "      <th>9</th>\n",
       "      <td>author</td>\n",
       "      <td>()</td>\n",
       "      <td>DType(name='object', element_type=&lt;ElementType...</td>\n",
       "      <td>False</td>\n",
       "      <td>False</td>\n",
       "    </tr>\n",
       "    <tr>\n",
       "      <th>10</th>\n",
       "      <td>desc</td>\n",
       "      <td>()</td>\n",
       "      <td>DType(name='object', element_type=&lt;ElementType...</td>\n",
       "      <td>False</td>\n",
       "      <td>False</td>\n",
       "    </tr>\n",
       "  </tbody>\n",
       "</table>\n",
       "</div>"
      ],
      "text/plain": [
       "[{'name': 'session_id', 'tags': set(), 'properties': {}, 'dtype': DType(name='int64', element_type=<ElementType.Int: 'int'>, element_size=64, element_unit=None, signed=True, shape=Shape(dims=(Dimension(min=0, max=None),))), 'is_list': False, 'is_ragged': False}, {'name': 'prev_items', 'tags': set(), 'properties': {}, 'dtype': DType(name='object', element_type=<ElementType.Object: 'object'>, element_size=None, element_unit=None, signed=None, shape=Shape(dims=(Dimension(min=0, max=None),))), 'is_list': False, 'is_ragged': False}, {'name': 'title', 'tags': set(), 'properties': {}, 'dtype': DType(name='object', element_type=<ElementType.Object: 'object'>, element_size=None, element_unit=None, signed=None, shape=Shape(dims=(Dimension(min=0, max=None),))), 'is_list': False, 'is_ragged': False}, {'name': 'price', 'tags': set(), 'properties': {}, 'dtype': DType(name='float64', element_type=<ElementType.Float: 'float'>, element_size=64, element_unit=None, signed=True, shape=Shape(dims=(Dimension(min=0, max=None),))), 'is_list': False, 'is_ragged': False}, {'name': 'brand', 'tags': set(), 'properties': {}, 'dtype': DType(name='object', element_type=<ElementType.Object: 'object'>, element_size=None, element_unit=None, signed=None, shape=Shape(dims=(Dimension(min=0, max=None),))), 'is_list': False, 'is_ragged': False}, {'name': 'color', 'tags': set(), 'properties': {}, 'dtype': DType(name='object', element_type=<ElementType.Object: 'object'>, element_size=None, element_unit=None, signed=None, shape=Shape(dims=(Dimension(min=0, max=None),))), 'is_list': False, 'is_ragged': False}, {'name': 'size', 'tags': set(), 'properties': {}, 'dtype': DType(name='object', element_type=<ElementType.Object: 'object'>, element_size=None, element_unit=None, signed=None, shape=Shape(dims=(Dimension(min=0, max=None),))), 'is_list': False, 'is_ragged': False}, {'name': 'model', 'tags': set(), 'properties': {}, 'dtype': DType(name='object', element_type=<ElementType.Object: 'object'>, element_size=None, element_unit=None, signed=None, shape=Shape(dims=(Dimension(min=0, max=None),))), 'is_list': False, 'is_ragged': False}, {'name': 'material', 'tags': set(), 'properties': {}, 'dtype': DType(name='object', element_type=<ElementType.Object: 'object'>, element_size=None, element_unit=None, signed=None, shape=Shape(dims=(Dimension(min=0, max=None),))), 'is_list': False, 'is_ragged': False}, {'name': 'author', 'tags': set(), 'properties': {}, 'dtype': DType(name='object', element_type=<ElementType.Object: 'object'>, element_size=None, element_unit=None, signed=None, shape=Shape(dims=(Dimension(min=0, max=None),))), 'is_list': False, 'is_ragged': False}, {'name': 'desc', 'tags': set(), 'properties': {}, 'dtype': DType(name='object', element_type=<ElementType.Object: 'object'>, element_size=None, element_unit=None, signed=None, shape=Shape(dims=(Dimension(min=0, max=None),))), 'is_list': False, 'is_ragged': False}]"
      ]
     },
     "execution_count": 67,
     "metadata": {},
     "output_type": "execute_result"
    }
   ],
   "source": [
    "workflow.input_schema"
   ]
  },
  {
   "cell_type": "code",
   "execution_count": null,
   "id": "24c58632",
   "metadata": {
    "papermill": {
     "duration": 0.093008,
     "end_time": "2023-06-06T04:18:38.382001",
     "exception": false,
     "start_time": "2023-06-06T04:18:38.288993",
     "status": "completed"
    },
    "tags": []
   },
   "outputs": [],
   "source": []
  },
  {
   "cell_type": "code",
   "execution_count": 68,
   "id": "a7b1c47a",
   "metadata": {
    "execution": {
     "iopub.execute_input": "2023-06-06T04:18:38.572518Z",
     "iopub.status.busy": "2023-06-06T04:18:38.571883Z",
     "iopub.status.idle": "2023-06-06T04:18:53.040424Z",
     "shell.execute_reply": "2023-06-06T04:18:53.039281Z"
    },
    "papermill": {
     "duration": 14.565869,
     "end_time": "2023-06-06T04:18:53.043070",
     "exception": false,
     "start_time": "2023-06-06T04:18:38.477201",
     "status": "completed"
    },
    "tags": []
   },
   "outputs": [
    {
     "name": "stderr",
     "output_type": "stream",
     "text": [
      "/opt/conda/lib/python3.10/site-packages/merlin/io/dataset.py:264: UserWarning: Initializing an NVTabular Dataset in CPU mode.This is an experimental feature with extremely limited support!\n",
      "  warnings.warn(\n"
     ]
    }
   ],
   "source": [
    "workflow = nvt.Workflow(filtered_sessions)\n",
    "dataset = nvt.Dataset(df)\n",
    "# Learn features statistics necessary of the preprocessing workflow\n",
    "# The following will generate schema.pbtxt file in the provided folder and export the parquet files.\n"
   ]
  },
  {
   "cell_type": "code",
   "execution_count": 69,
   "id": "1382fe8f",
   "metadata": {
    "execution": {
     "iopub.execute_input": "2023-06-06T04:18:53.227852Z",
     "iopub.status.busy": "2023-06-06T04:18:53.227227Z",
     "iopub.status.idle": "2023-06-06T05:14:30.432607Z",
     "shell.execute_reply": "2023-06-06T05:14:30.431214Z"
    },
    "papermill": {
     "duration": 3337.300393,
     "end_time": "2023-06-06T05:14:30.435740",
     "exception": false,
     "start_time": "2023-06-06T04:18:53.135347",
     "status": "completed"
    },
    "tags": []
   },
   "outputs": [
    {
     "name": "stderr",
     "output_type": "stream",
     "text": [
      "/opt/conda/lib/python3.10/site-packages/merlin/io/dataset.py:264: UserWarning: Initializing an NVTabular Dataset in CPU mode.This is an experimental feature with extremely limited support!\n",
      "  warnings.warn(\n",
      "/opt/conda/lib/python3.10/site-packages/merlin/io/dataset.py:264: UserWarning: Initializing an NVTabular Dataset in CPU mode.This is an experimental feature with extremely limited support!\n",
      "  warnings.warn(\n"
     ]
    }
   ],
   "source": [
    "workflow.fit_transform(dataset).to_parquet(os.path.join('/kaggle/working/', \"processed_nvt\"))"
   ]
  },
  {
   "cell_type": "code",
   "execution_count": 70,
   "id": "71ce52d6",
   "metadata": {
    "execution": {
     "iopub.execute_input": "2023-06-06T05:14:30.640258Z",
     "iopub.status.busy": "2023-06-06T05:14:30.639461Z",
     "iopub.status.idle": "2023-06-06T05:14:30.667442Z",
     "shell.execute_reply": "2023-06-06T05:14:30.666366Z"
    },
    "papermill": {
     "duration": 0.131128,
     "end_time": "2023-06-06T05:14:30.670092",
     "exception": false,
     "start_time": "2023-06-06T05:14:30.538964",
     "status": "completed"
    },
    "tags": []
   },
   "outputs": [
    {
     "data": {
      "text/html": [
       "<div>\n",
       "<style scoped>\n",
       "    .dataframe tbody tr th:only-of-type {\n",
       "        vertical-align: middle;\n",
       "    }\n",
       "\n",
       "    .dataframe tbody tr th {\n",
       "        vertical-align: top;\n",
       "    }\n",
       "\n",
       "    .dataframe thead th {\n",
       "        text-align: right;\n",
       "    }\n",
       "</style>\n",
       "<table border=\"1\" class=\"dataframe\">\n",
       "  <thead>\n",
       "    <tr style=\"text-align: right;\">\n",
       "      <th></th>\n",
       "      <th>name</th>\n",
       "      <th>tags</th>\n",
       "      <th>dtype</th>\n",
       "      <th>is_list</th>\n",
       "      <th>is_ragged</th>\n",
       "      <th>properties.num_buckets</th>\n",
       "      <th>properties.freq_threshold</th>\n",
       "      <th>properties.max_size</th>\n",
       "      <th>properties.start_index</th>\n",
       "      <th>properties.cat_path</th>\n",
       "      <th>properties.domain.min</th>\n",
       "      <th>properties.domain.max</th>\n",
       "      <th>properties.domain.name</th>\n",
       "      <th>properties.embedding_sizes.cardinality</th>\n",
       "      <th>properties.embedding_sizes.dimension</th>\n",
       "      <th>properties.value_count.min</th>\n",
       "      <th>properties.value_count.max</th>\n",
       "    </tr>\n",
       "  </thead>\n",
       "  <tbody>\n",
       "    <tr>\n",
       "      <th>0</th>\n",
       "      <td>session_id</td>\n",
       "      <td>(Tags.CATEGORICAL)</td>\n",
       "      <td>DType(name='int64', element_type=&lt;ElementType....</td>\n",
       "      <td>False</td>\n",
       "      <td>False</td>\n",
       "      <td>NaN</td>\n",
       "      <td>NaN</td>\n",
       "      <td>NaN</td>\n",
       "      <td>NaN</td>\n",
       "      <td>NaN</td>\n",
       "      <td>NaN</td>\n",
       "      <td>NaN</td>\n",
       "      <td>NaN</td>\n",
       "      <td>NaN</td>\n",
       "      <td>NaN</td>\n",
       "      <td>NaN</td>\n",
       "      <td>NaN</td>\n",
       "    </tr>\n",
       "    <tr>\n",
       "      <th>1</th>\n",
       "      <td>prev_items-count</td>\n",
       "      <td>(Tags.ID, Tags.ITEM, Tags.CATEGORICAL)</td>\n",
       "      <td>DType(name='int32', element_type=&lt;ElementType....</td>\n",
       "      <td>False</td>\n",
       "      <td>False</td>\n",
       "      <td>NaN</td>\n",
       "      <td>0.0</td>\n",
       "      <td>0.0</td>\n",
       "      <td>1.0</td>\n",
       "      <td>.//categories/unique.prev_items.parquet</td>\n",
       "      <td>0.0</td>\n",
       "      <td>517473.0</td>\n",
       "      <td>prev_items</td>\n",
       "      <td>517474.0</td>\n",
       "      <td>512.0</td>\n",
       "      <td>NaN</td>\n",
       "      <td>NaN</td>\n",
       "    </tr>\n",
       "    <tr>\n",
       "      <th>2</th>\n",
       "      <td>prev_items-list</td>\n",
       "      <td>(Tags.ID, Tags.LIST, Tags.ITEM, Tags.CATEGORICAL)</td>\n",
       "      <td>DType(name='int64', element_type=&lt;ElementType....</td>\n",
       "      <td>True</td>\n",
       "      <td>True</td>\n",
       "      <td>NaN</td>\n",
       "      <td>0.0</td>\n",
       "      <td>0.0</td>\n",
       "      <td>1.0</td>\n",
       "      <td>.//categories/unique.prev_items.parquet</td>\n",
       "      <td>0.0</td>\n",
       "      <td>517473.0</td>\n",
       "      <td>prev_items</td>\n",
       "      <td>517474.0</td>\n",
       "      <td>512.0</td>\n",
       "      <td>0.0</td>\n",
       "      <td>10.0</td>\n",
       "    </tr>\n",
       "    <tr>\n",
       "      <th>3</th>\n",
       "      <td>title-list</td>\n",
       "      <td>(Tags.LIST, Tags.CATEGORICAL)</td>\n",
       "      <td>DType(name='int64', element_type=&lt;ElementType....</td>\n",
       "      <td>True</td>\n",
       "      <td>True</td>\n",
       "      <td>NaN</td>\n",
       "      <td>0.0</td>\n",
       "      <td>0.0</td>\n",
       "      <td>1.0</td>\n",
       "      <td>.//categories/unique.title.parquet</td>\n",
       "      <td>0.0</td>\n",
       "      <td>494819.0</td>\n",
       "      <td>title</td>\n",
       "      <td>494820.0</td>\n",
       "      <td>512.0</td>\n",
       "      <td>0.0</td>\n",
       "      <td>10.0</td>\n",
       "    </tr>\n",
       "    <tr>\n",
       "      <th>4</th>\n",
       "      <td>price_log_norm-list</td>\n",
       "      <td>(Tags.LIST, Tags.CONTINUOUS)</td>\n",
       "      <td>DType(name='float32', element_type=&lt;ElementTyp...</td>\n",
       "      <td>True</td>\n",
       "      <td>True</td>\n",
       "      <td>NaN</td>\n",
       "      <td>NaN</td>\n",
       "      <td>NaN</td>\n",
       "      <td>NaN</td>\n",
       "      <td>NaN</td>\n",
       "      <td>NaN</td>\n",
       "      <td>NaN</td>\n",
       "      <td>NaN</td>\n",
       "      <td>NaN</td>\n",
       "      <td>NaN</td>\n",
       "      <td>0.0</td>\n",
       "      <td>10.0</td>\n",
       "    </tr>\n",
       "    <tr>\n",
       "      <th>5</th>\n",
       "      <td>relative_price_to_avg_categ_id-list</td>\n",
       "      <td>(Tags.LIST, Tags.CONTINUOUS)</td>\n",
       "      <td>DType(name='float64', element_type=&lt;ElementTyp...</td>\n",
       "      <td>True</td>\n",
       "      <td>True</td>\n",
       "      <td>NaN</td>\n",
       "      <td>NaN</td>\n",
       "      <td>NaN</td>\n",
       "      <td>NaN</td>\n",
       "      <td>NaN</td>\n",
       "      <td>NaN</td>\n",
       "      <td>NaN</td>\n",
       "      <td>NaN</td>\n",
       "      <td>NaN</td>\n",
       "      <td>NaN</td>\n",
       "      <td>0.0</td>\n",
       "      <td>10.0</td>\n",
       "    </tr>\n",
       "    <tr>\n",
       "      <th>6</th>\n",
       "      <td>brand-list</td>\n",
       "      <td>(Tags.LIST, Tags.CATEGORICAL)</td>\n",
       "      <td>DType(name='int64', element_type=&lt;ElementType....</td>\n",
       "      <td>True</td>\n",
       "      <td>True</td>\n",
       "      <td>NaN</td>\n",
       "      <td>0.0</td>\n",
       "      <td>0.0</td>\n",
       "      <td>1.0</td>\n",
       "      <td>.//categories/unique.brand.parquet</td>\n",
       "      <td>0.0</td>\n",
       "      <td>72003.0</td>\n",
       "      <td>brand</td>\n",
       "      <td>72004.0</td>\n",
       "      <td>512.0</td>\n",
       "      <td>0.0</td>\n",
       "      <td>10.0</td>\n",
       "    </tr>\n",
       "    <tr>\n",
       "      <th>7</th>\n",
       "      <td>color-list</td>\n",
       "      <td>(Tags.LIST, Tags.CATEGORICAL)</td>\n",
       "      <td>DType(name='int64', element_type=&lt;ElementType....</td>\n",
       "      <td>True</td>\n",
       "      <td>True</td>\n",
       "      <td>NaN</td>\n",
       "      <td>0.0</td>\n",
       "      <td>0.0</td>\n",
       "      <td>1.0</td>\n",
       "      <td>.//categories/unique.color.parquet</td>\n",
       "      <td>0.0</td>\n",
       "      <td>81566.0</td>\n",
       "      <td>color</td>\n",
       "      <td>81567.0</td>\n",
       "      <td>512.0</td>\n",
       "      <td>0.0</td>\n",
       "      <td>10.0</td>\n",
       "    </tr>\n",
       "    <tr>\n",
       "      <th>8</th>\n",
       "      <td>size-list</td>\n",
       "      <td>(Tags.LIST, Tags.CATEGORICAL)</td>\n",
       "      <td>DType(name='int64', element_type=&lt;ElementType....</td>\n",
       "      <td>True</td>\n",
       "      <td>True</td>\n",
       "      <td>NaN</td>\n",
       "      <td>0.0</td>\n",
       "      <td>0.0</td>\n",
       "      <td>1.0</td>\n",
       "      <td>.//categories/unique.size.parquet</td>\n",
       "      <td>0.0</td>\n",
       "      <td>85966.0</td>\n",
       "      <td>size</td>\n",
       "      <td>85967.0</td>\n",
       "      <td>512.0</td>\n",
       "      <td>0.0</td>\n",
       "      <td>10.0</td>\n",
       "    </tr>\n",
       "    <tr>\n",
       "      <th>9</th>\n",
       "      <td>model-list</td>\n",
       "      <td>(Tags.LIST, Tags.CATEGORICAL)</td>\n",
       "      <td>DType(name='int64', element_type=&lt;ElementType....</td>\n",
       "      <td>True</td>\n",
       "      <td>True</td>\n",
       "      <td>NaN</td>\n",
       "      <td>0.0</td>\n",
       "      <td>0.0</td>\n",
       "      <td>1.0</td>\n",
       "      <td>.//categories/unique.model.parquet</td>\n",
       "      <td>0.0</td>\n",
       "      <td>207011.0</td>\n",
       "      <td>model</td>\n",
       "      <td>207012.0</td>\n",
       "      <td>512.0</td>\n",
       "      <td>0.0</td>\n",
       "      <td>10.0</td>\n",
       "    </tr>\n",
       "    <tr>\n",
       "      <th>10</th>\n",
       "      <td>material-list</td>\n",
       "      <td>(Tags.LIST, Tags.CATEGORICAL)</td>\n",
       "      <td>DType(name='int64', element_type=&lt;ElementType....</td>\n",
       "      <td>True</td>\n",
       "      <td>True</td>\n",
       "      <td>NaN</td>\n",
       "      <td>0.0</td>\n",
       "      <td>0.0</td>\n",
       "      <td>1.0</td>\n",
       "      <td>.//categories/unique.material.parquet</td>\n",
       "      <td>0.0</td>\n",
       "      <td>15884.0</td>\n",
       "      <td>material</td>\n",
       "      <td>15885.0</td>\n",
       "      <td>360.0</td>\n",
       "      <td>0.0</td>\n",
       "      <td>10.0</td>\n",
       "    </tr>\n",
       "    <tr>\n",
       "      <th>11</th>\n",
       "      <td>author-list</td>\n",
       "      <td>(Tags.LIST, Tags.CATEGORICAL)</td>\n",
       "      <td>DType(name='int64', element_type=&lt;ElementType....</td>\n",
       "      <td>True</td>\n",
       "      <td>True</td>\n",
       "      <td>NaN</td>\n",
       "      <td>0.0</td>\n",
       "      <td>0.0</td>\n",
       "      <td>1.0</td>\n",
       "      <td>.//categories/unique.author.parquet</td>\n",
       "      <td>0.0</td>\n",
       "      <td>10543.0</td>\n",
       "      <td>author</td>\n",
       "      <td>10544.0</td>\n",
       "      <td>286.0</td>\n",
       "      <td>0.0</td>\n",
       "      <td>10.0</td>\n",
       "    </tr>\n",
       "    <tr>\n",
       "      <th>12</th>\n",
       "      <td>desc-list</td>\n",
       "      <td>(Tags.LIST, Tags.CATEGORICAL)</td>\n",
       "      <td>DType(name='int64', element_type=&lt;ElementType....</td>\n",
       "      <td>True</td>\n",
       "      <td>True</td>\n",
       "      <td>NaN</td>\n",
       "      <td>0.0</td>\n",
       "      <td>0.0</td>\n",
       "      <td>1.0</td>\n",
       "      <td>.//categories/unique.desc.parquet</td>\n",
       "      <td>0.0</td>\n",
       "      <td>303350.0</td>\n",
       "      <td>desc</td>\n",
       "      <td>303351.0</td>\n",
       "      <td>512.0</td>\n",
       "      <td>0.0</td>\n",
       "      <td>10.0</td>\n",
       "    </tr>\n",
       "  </tbody>\n",
       "</table>\n",
       "</div>"
      ],
      "text/plain": [
       "[{'name': 'session_id', 'tags': {<Tags.CATEGORICAL: 'categorical'>}, 'properties': {}, 'dtype': DType(name='int64', element_type=<ElementType.Int: 'int'>, element_size=64, element_unit=None, signed=True, shape=Shape(dims=(Dimension(min=0, max=None),))), 'is_list': False, 'is_ragged': False}, {'name': 'prev_items-count', 'tags': {<Tags.ID: 'id'>, <Tags.ITEM: 'item'>, <Tags.CATEGORICAL: 'categorical'>}, 'properties': {'num_buckets': None, 'freq_threshold': 0, 'max_size': 0, 'start_index': 1, 'cat_path': './/categories/unique.prev_items.parquet', 'domain': {'min': 0, 'max': 517473, 'name': 'prev_items'}, 'embedding_sizes': {'cardinality': 517474, 'dimension': 512}}, 'dtype': DType(name='int32', element_type=<ElementType.Int: 'int'>, element_size=32, element_unit=None, signed=True, shape=Shape(dims=(Dimension(min=0, max=None),))), 'is_list': False, 'is_ragged': False}, {'name': 'prev_items-list', 'tags': {<Tags.ID: 'id'>, <Tags.LIST: 'list'>, <Tags.ITEM: 'item'>, <Tags.CATEGORICAL: 'categorical'>}, 'properties': {'num_buckets': None, 'freq_threshold': 0, 'max_size': 0, 'start_index': 1, 'cat_path': './/categories/unique.prev_items.parquet', 'domain': {'min': 0, 'max': 517473, 'name': 'prev_items'}, 'embedding_sizes': {'cardinality': 517474, 'dimension': 512}, 'value_count': {'min': 0, 'max': 10}}, 'dtype': DType(name='int64', element_type=<ElementType.Int: 'int'>, element_size=64, element_unit=None, signed=True, shape=Shape(dims=(Dimension(min=0, max=None), Dimension(min=0, max=10)))), 'is_list': True, 'is_ragged': True}, {'name': 'title-list', 'tags': {<Tags.LIST: 'list'>, <Tags.CATEGORICAL: 'categorical'>}, 'properties': {'num_buckets': None, 'freq_threshold': 0, 'max_size': 0, 'start_index': 1, 'cat_path': './/categories/unique.title.parquet', 'domain': {'min': 0, 'max': 494819, 'name': 'title'}, 'embedding_sizes': {'cardinality': 494820, 'dimension': 512}, 'value_count': {'min': 0, 'max': 10}}, 'dtype': DType(name='int64', element_type=<ElementType.Int: 'int'>, element_size=64, element_unit=None, signed=True, shape=Shape(dims=(Dimension(min=0, max=None), Dimension(min=0, max=10)))), 'is_list': True, 'is_ragged': True}, {'name': 'price_log_norm-list', 'tags': {<Tags.LIST: 'list'>, <Tags.CONTINUOUS: 'continuous'>}, 'properties': {'value_count': {'min': 0, 'max': 10}}, 'dtype': DType(name='float32', element_type=<ElementType.Float: 'float'>, element_size=32, element_unit=None, signed=True, shape=Shape(dims=(Dimension(min=0, max=None), Dimension(min=0, max=10)))), 'is_list': True, 'is_ragged': True}, {'name': 'relative_price_to_avg_categ_id-list', 'tags': {<Tags.LIST: 'list'>, <Tags.CONTINUOUS: 'continuous'>}, 'properties': {'value_count': {'min': 0, 'max': 10}}, 'dtype': DType(name='float64', element_type=<ElementType.Float: 'float'>, element_size=64, element_unit=None, signed=True, shape=Shape(dims=(Dimension(min=0, max=None), Dimension(min=0, max=10)))), 'is_list': True, 'is_ragged': True}, {'name': 'brand-list', 'tags': {<Tags.LIST: 'list'>, <Tags.CATEGORICAL: 'categorical'>}, 'properties': {'num_buckets': None, 'freq_threshold': 0, 'max_size': 0, 'start_index': 1, 'cat_path': './/categories/unique.brand.parquet', 'domain': {'min': 0, 'max': 72003, 'name': 'brand'}, 'embedding_sizes': {'cardinality': 72004, 'dimension': 512}, 'value_count': {'min': 0, 'max': 10}}, 'dtype': DType(name='int64', element_type=<ElementType.Int: 'int'>, element_size=64, element_unit=None, signed=True, shape=Shape(dims=(Dimension(min=0, max=None), Dimension(min=0, max=10)))), 'is_list': True, 'is_ragged': True}, {'name': 'color-list', 'tags': {<Tags.LIST: 'list'>, <Tags.CATEGORICAL: 'categorical'>}, 'properties': {'num_buckets': None, 'freq_threshold': 0, 'max_size': 0, 'start_index': 1, 'cat_path': './/categories/unique.color.parquet', 'domain': {'min': 0, 'max': 81566, 'name': 'color'}, 'embedding_sizes': {'cardinality': 81567, 'dimension': 512}, 'value_count': {'min': 0, 'max': 10}}, 'dtype': DType(name='int64', element_type=<ElementType.Int: 'int'>, element_size=64, element_unit=None, signed=True, shape=Shape(dims=(Dimension(min=0, max=None), Dimension(min=0, max=10)))), 'is_list': True, 'is_ragged': True}, {'name': 'size-list', 'tags': {<Tags.LIST: 'list'>, <Tags.CATEGORICAL: 'categorical'>}, 'properties': {'num_buckets': None, 'freq_threshold': 0, 'max_size': 0, 'start_index': 1, 'cat_path': './/categories/unique.size.parquet', 'domain': {'min': 0, 'max': 85966, 'name': 'size'}, 'embedding_sizes': {'cardinality': 85967, 'dimension': 512}, 'value_count': {'min': 0, 'max': 10}}, 'dtype': DType(name='int64', element_type=<ElementType.Int: 'int'>, element_size=64, element_unit=None, signed=True, shape=Shape(dims=(Dimension(min=0, max=None), Dimension(min=0, max=10)))), 'is_list': True, 'is_ragged': True}, {'name': 'model-list', 'tags': {<Tags.LIST: 'list'>, <Tags.CATEGORICAL: 'categorical'>}, 'properties': {'num_buckets': None, 'freq_threshold': 0, 'max_size': 0, 'start_index': 1, 'cat_path': './/categories/unique.model.parquet', 'domain': {'min': 0, 'max': 207011, 'name': 'model'}, 'embedding_sizes': {'cardinality': 207012, 'dimension': 512}, 'value_count': {'min': 0, 'max': 10}}, 'dtype': DType(name='int64', element_type=<ElementType.Int: 'int'>, element_size=64, element_unit=None, signed=True, shape=Shape(dims=(Dimension(min=0, max=None), Dimension(min=0, max=10)))), 'is_list': True, 'is_ragged': True}, {'name': 'material-list', 'tags': {<Tags.LIST: 'list'>, <Tags.CATEGORICAL: 'categorical'>}, 'properties': {'num_buckets': None, 'freq_threshold': 0, 'max_size': 0, 'start_index': 1, 'cat_path': './/categories/unique.material.parquet', 'domain': {'min': 0, 'max': 15884, 'name': 'material'}, 'embedding_sizes': {'cardinality': 15885, 'dimension': 360}, 'value_count': {'min': 0, 'max': 10}}, 'dtype': DType(name='int64', element_type=<ElementType.Int: 'int'>, element_size=64, element_unit=None, signed=True, shape=Shape(dims=(Dimension(min=0, max=None), Dimension(min=0, max=10)))), 'is_list': True, 'is_ragged': True}, {'name': 'author-list', 'tags': {<Tags.LIST: 'list'>, <Tags.CATEGORICAL: 'categorical'>}, 'properties': {'num_buckets': None, 'freq_threshold': 0, 'max_size': 0, 'start_index': 1, 'cat_path': './/categories/unique.author.parquet', 'domain': {'min': 0, 'max': 10543, 'name': 'author'}, 'embedding_sizes': {'cardinality': 10544, 'dimension': 286}, 'value_count': {'min': 0, 'max': 10}}, 'dtype': DType(name='int64', element_type=<ElementType.Int: 'int'>, element_size=64, element_unit=None, signed=True, shape=Shape(dims=(Dimension(min=0, max=None), Dimension(min=0, max=10)))), 'is_list': True, 'is_ragged': True}, {'name': 'desc-list', 'tags': {<Tags.LIST: 'list'>, <Tags.CATEGORICAL: 'categorical'>}, 'properties': {'num_buckets': None, 'freq_threshold': 0, 'max_size': 0, 'start_index': 1, 'cat_path': './/categories/unique.desc.parquet', 'domain': {'min': 0, 'max': 303350, 'name': 'desc'}, 'embedding_sizes': {'cardinality': 303351, 'dimension': 512}, 'value_count': {'min': 0, 'max': 10}}, 'dtype': DType(name='int64', element_type=<ElementType.Int: 'int'>, element_size=64, element_unit=None, signed=True, shape=Shape(dims=(Dimension(min=0, max=None), Dimension(min=0, max=10)))), 'is_list': True, 'is_ragged': True}]"
      ]
     },
     "execution_count": 70,
     "metadata": {},
     "output_type": "execute_result"
    }
   ],
   "source": [
    "workflow.output_schema"
   ]
  },
  {
   "cell_type": "code",
   "execution_count": null,
   "id": "61548da1",
   "metadata": {
    "papermill": {
     "duration": 0.094508,
     "end_time": "2023-06-06T05:14:30.861275",
     "exception": false,
     "start_time": "2023-06-06T05:14:30.766767",
     "status": "completed"
    },
    "tags": []
   },
   "outputs": [],
   "source": []
  },
  {
   "cell_type": "code",
   "execution_count": 71,
   "id": "290e9fe0",
   "metadata": {
    "execution": {
     "iopub.execute_input": "2023-06-06T05:14:31.050716Z",
     "iopub.status.busy": "2023-06-06T05:14:31.049975Z",
     "iopub.status.idle": "2023-06-06T05:14:31.054187Z",
     "shell.execute_reply": "2023-06-06T05:14:31.053365Z"
    },
    "papermill": {
     "duration": 0.101659,
     "end_time": "2023-06-06T05:14:31.056252",
     "exception": false,
     "start_time": "2023-06-06T05:14:30.954593",
     "status": "completed"
    },
    "tags": []
   },
   "outputs": [],
   "source": [
    "INPUT_DATA_DIR = '/kaggle/working/'"
   ]
  },
  {
   "cell_type": "code",
   "execution_count": 72,
   "id": "3e241d5f",
   "metadata": {
    "execution": {
     "iopub.execute_input": "2023-06-06T05:14:31.245500Z",
     "iopub.status.busy": "2023-06-06T05:14:31.245069Z",
     "iopub.status.idle": "2023-06-06T05:14:39.641439Z",
     "shell.execute_reply": "2023-06-06T05:14:39.640609Z"
    },
    "papermill": {
     "duration": 8.494009,
     "end_time": "2023-06-06T05:14:39.644067",
     "exception": false,
     "start_time": "2023-06-06T05:14:31.150058",
     "status": "completed"
    },
    "tags": []
   },
   "outputs": [],
   "source": [
    "# read in the processed train dataset\n",
    "sessions_gdf = pd.read_parquet(os.path.join(INPUT_DATA_DIR, \"processed_nvt/part_0.parquet\"))"
   ]
  },
  {
   "cell_type": "code",
   "execution_count": 73,
   "id": "5f7162b0",
   "metadata": {
    "execution": {
     "iopub.execute_input": "2023-06-06T05:14:39.830659Z",
     "iopub.status.busy": "2023-06-06T05:14:39.829702Z",
     "iopub.status.idle": "2023-06-06T05:14:39.847668Z",
     "shell.execute_reply": "2023-06-06T05:14:39.845669Z"
    },
    "papermill": {
     "duration": 0.114376,
     "end_time": "2023-06-06T05:14:39.850063",
     "exception": false,
     "start_time": "2023-06-06T05:14:39.735687",
     "status": "completed"
    },
    "tags": []
   },
   "outputs": [
    {
     "name": "stdout",
     "output_type": "stream",
     "text": [
      "   session_id  prev_items-count  \\\n",
      "0           1               157   \n",
      "1           2               130   \n",
      "\n",
      "                                     prev_items-list  \\\n",
      "0  [192167, 229325, 229344, 192130, 229361, 22934...   \n",
      "1  [19925, 105095, 225624, 152134, 193989, 464629...   \n",
      "\n",
      "                                          title-list  \\\n",
      "0  [183114, 228358, 228299, 183036, 228287, 22826...   \n",
      "1  [20800, 107486, 227654, 157211, 195946, 443700...   \n",
      "\n",
      "                                 price_log_norm-list  \\\n",
      "0  [-0.03476342186331749, -0.06477032601833344, -...   \n",
      "1  [-0.15433914959430695, -0.15832844376564026, -...   \n",
      "\n",
      "                 relative_price_to_avg_categ_id-list  \\\n",
      "0  [-0.1540341383588659, -0.22870012042532817, -0...   \n",
      "1  [0.10750393690019852, 0.09382523113994498, 0.0...   \n",
      "\n",
      "                                          brand-list  \\\n",
      "0  [555, 555, 555, 555, 555, 555, 555, 555, 555, ...   \n",
      "1  [3721, 3721, 3721, 9313, 32706, 32706, 55403, ...   \n",
      "\n",
      "                       color-list  \\\n",
      "0  [2, 2, 2, 2, 2, 2, 2, 2, 2, 2]   \n",
      "1  [6, 6, 6, 6, 1, 1, 2, 1, 2, 2]   \n",
      "\n",
      "                                           size-list  \\\n",
      "0  [41294, 43617, 43673, 41315, 41475, 43233, 432...   \n",
      "1  [1, 1, 1, 1, 38960, 73044, 56370, 38667, 41388...   \n",
      "\n",
      "                                 model-list  \\\n",
      "0  [28, 28, 28, 28, 28, 28, 28, 28, 28, 28]   \n",
      "1      [993, 993, 993, 1, 1, 1, 1, 3, 1, 1]   \n",
      "\n",
      "                               material-list                     author-list  \\\n",
      "0  [1, 17, 17, 17, 166, 166, 17, 17, 17, 17]  [1, 1, 1, 1, 1, 1, 1, 1, 1, 1]   \n",
      "1      [23, 23, 23, 21, 2, 21, 17, 5, 5, 23]  [1, 1, 1, 1, 1, 1, 1, 1, 1, 1]   \n",
      "\n",
      "                                           desc-list  \n",
      "0   [148, 148, 148, 148, 148, 148, 148, 148, 1, 148]  \n",
      "1  [2310, 2310, 2310, 1221, 116865, 116865, 19859...  \n"
     ]
    }
   ],
   "source": [
    "print(sessions_gdf.head(2))"
   ]
  },
  {
   "cell_type": "code",
   "execution_count": 74,
   "id": "789d5de3",
   "metadata": {
    "execution": {
     "iopub.execute_input": "2023-06-06T05:14:40.036333Z",
     "iopub.status.busy": "2023-06-06T05:14:40.035917Z",
     "iopub.status.idle": "2023-06-06T05:14:40.304895Z",
     "shell.execute_reply": "2023-06-06T05:14:40.303831Z"
    },
    "papermill": {
     "duration": 0.364524,
     "end_time": "2023-06-06T05:14:40.307642",
     "exception": false,
     "start_time": "2023-06-06T05:14:39.943118",
     "status": "completed"
    },
    "tags": []
   },
   "outputs": [],
   "source": [
    "session_ids = pd.read_parquet('/kaggle/working/categories/unique.session_id.parquet')\n",
    "item_ids = pd.read_parquet('/kaggle/working/categories/unique.prev_items.parquet')"
   ]
  },
  {
   "cell_type": "code",
   "execution_count": 75,
   "id": "27212842",
   "metadata": {
    "execution": {
     "iopub.execute_input": "2023-06-06T05:14:40.494778Z",
     "iopub.status.busy": "2023-06-06T05:14:40.494413Z",
     "iopub.status.idle": "2023-06-06T05:14:40.546009Z",
     "shell.execute_reply": "2023-06-06T05:14:40.544897Z"
    },
    "papermill": {
     "duration": 0.147993,
     "end_time": "2023-06-06T05:14:40.548586",
     "exception": false,
     "start_time": "2023-06-06T05:14:40.400593",
     "status": "completed"
    },
    "tags": []
   },
   "outputs": [],
   "source": [
    "# First, make sure the index of `session_ids` is integer type, this ensures the matching works correctly\n",
    "session_ids.index = session_ids.index.astype(int)\n",
    "\n",
    "# Then map `session_id` in `sessions_df` to index in `session_ids`\n",
    "sessions_gdf['session_org'] = sessions_gdf['session_id'].map(session_ids['session_id'])\n"
   ]
  },
  {
   "cell_type": "code",
   "execution_count": 76,
   "id": "56620ac5",
   "metadata": {
    "execution": {
     "iopub.execute_input": "2023-06-06T05:14:40.737052Z",
     "iopub.status.busy": "2023-06-06T05:14:40.736425Z",
     "iopub.status.idle": "2023-06-06T05:14:40.786318Z",
     "shell.execute_reply": "2023-06-06T05:14:40.785165Z"
    },
    "papermill": {
     "duration": 0.14742,
     "end_time": "2023-06-06T05:14:40.789051",
     "exception": false,
     "start_time": "2023-06-06T05:14:40.641631",
     "status": "completed"
    },
    "tags": []
   },
   "outputs": [],
   "source": [
    "sessions_df_test = sessions_gdf[sessions_gdf['session_org'] < 999999]"
   ]
  },
  {
   "cell_type": "code",
   "execution_count": 77,
   "id": "bce22827",
   "metadata": {
    "execution": {
     "iopub.execute_input": "2023-06-06T05:14:41.043260Z",
     "iopub.status.busy": "2023-06-06T05:14:41.042868Z",
     "iopub.status.idle": "2023-06-06T05:14:41.458409Z",
     "shell.execute_reply": "2023-06-06T05:14:41.457385Z"
    },
    "papermill": {
     "duration": 0.513747,
     "end_time": "2023-06-06T05:14:41.460982",
     "exception": false,
     "start_time": "2023-06-06T05:14:40.947235",
     "status": "completed"
    },
    "tags": []
   },
   "outputs": [],
   "source": [
    "sessions_gdf = sessions_gdf.drop('session_org', axis=1)\n",
    "sessions_df_test = sessions_df_test.drop('session_org', axis=1)"
   ]
  },
  {
   "cell_type": "code",
   "execution_count": 78,
   "id": "d0c2baa2",
   "metadata": {
    "execution": {
     "iopub.execute_input": "2023-06-06T05:14:41.647916Z",
     "iopub.status.busy": "2023-06-06T05:14:41.647518Z",
     "iopub.status.idle": "2023-06-06T05:14:41.651685Z",
     "shell.execute_reply": "2023-06-06T05:14:41.650632Z"
    },
    "papermill": {
     "duration": 0.10004,
     "end_time": "2023-06-06T05:14:41.653803",
     "exception": false,
     "start_time": "2023-06-06T05:14:41.553763",
     "status": "completed"
    },
    "tags": []
   },
   "outputs": [],
   "source": [
    "# filtered_df_20 = sessions_gdf[sessions_gdf['prev_items-count'] >= 2]"
   ]
  },
  {
   "cell_type": "code",
   "execution_count": 79,
   "id": "ce32db8c",
   "metadata": {
    "execution": {
     "iopub.execute_input": "2023-06-06T05:14:41.841464Z",
     "iopub.status.busy": "2023-06-06T05:14:41.841083Z",
     "iopub.status.idle": "2023-06-06T05:14:41.845134Z",
     "shell.execute_reply": "2023-06-06T05:14:41.844081Z"
    },
    "papermill": {
     "duration": 0.100108,
     "end_time": "2023-06-06T05:14:41.847247",
     "exception": false,
     "start_time": "2023-06-06T05:14:41.747139",
     "status": "completed"
    },
    "tags": []
   },
   "outputs": [],
   "source": [
    "# filtered_df_20.to_parquet('/kaggle/working/processed_nvt/part_0_filtered_2.parquet')"
   ]
  },
  {
   "cell_type": "code",
   "execution_count": 80,
   "id": "e5d6d00f",
   "metadata": {
    "execution": {
     "iopub.execute_input": "2023-06-06T05:14:42.035644Z",
     "iopub.status.busy": "2023-06-06T05:14:42.035266Z",
     "iopub.status.idle": "2023-06-06T05:14:42.039117Z",
     "shell.execute_reply": "2023-06-06T05:14:42.038272Z"
    },
    "papermill": {
     "duration": 0.10108,
     "end_time": "2023-06-06T05:14:42.041034",
     "exception": false,
     "start_time": "2023-06-06T05:14:41.939954",
     "status": "completed"
    },
    "tags": []
   },
   "outputs": [],
   "source": [
    "# filtered_df_10 = sessions_gdf[sessions_gdf['prev_items-count'] >= 5]\n",
    "# filtered_df_10.to_parquet('/kaggle/working/processed_nvt/part_0_filtered_5.parquet')"
   ]
  },
  {
   "cell_type": "code",
   "execution_count": null,
   "id": "228e0532",
   "metadata": {
    "papermill": {
     "duration": 0.094608,
     "end_time": "2023-06-06T05:14:42.231033",
     "exception": false,
     "start_time": "2023-06-06T05:14:42.136425",
     "status": "completed"
    },
    "tags": []
   },
   "outputs": [],
   "source": []
  },
  {
   "cell_type": "code",
   "execution_count": 81,
   "id": "c0c95873",
   "metadata": {
    "execution": {
     "iopub.execute_input": "2023-06-06T05:14:42.421266Z",
     "iopub.status.busy": "2023-06-06T05:14:42.420308Z",
     "iopub.status.idle": "2023-06-06T05:14:43.202397Z",
     "shell.execute_reply": "2023-06-06T05:14:43.200890Z"
    },
    "papermill": {
     "duration": 0.880379,
     "end_time": "2023-06-06T05:14:43.205153",
     "exception": false,
     "start_time": "2023-06-06T05:14:42.324774",
     "status": "completed"
    },
    "tags": []
   },
   "outputs": [],
   "source": [
    "sessions_df_test.to_parquet('/kaggle/working/processed_nvt/test_0.parquet')"
   ]
  },
  {
   "cell_type": "code",
   "execution_count": 82,
   "id": "6de62a8d",
   "metadata": {
    "execution": {
     "iopub.execute_input": "2023-06-06T05:14:43.394519Z",
     "iopub.status.busy": "2023-06-06T05:14:43.393551Z",
     "iopub.status.idle": "2023-06-06T05:14:43.400809Z",
     "shell.execute_reply": "2023-06-06T05:14:43.399759Z"
    },
    "papermill": {
     "duration": 0.10337,
     "end_time": "2023-06-06T05:14:43.402990",
     "exception": false,
     "start_time": "2023-06-06T05:14:43.299620",
     "status": "completed"
    },
    "tags": []
   },
   "outputs": [
    {
     "data": {
      "text/plain": [
       "1215984"
      ]
     },
     "execution_count": 82,
     "metadata": {},
     "output_type": "execute_result"
    }
   ],
   "source": [
    "len(sessions_gdf)"
   ]
  },
  {
   "cell_type": "code",
   "execution_count": 83,
   "id": "842d0ebd",
   "metadata": {
    "execution": {
     "iopub.execute_input": "2023-06-06T05:14:43.595465Z",
     "iopub.status.busy": "2023-06-06T05:14:43.594796Z",
     "iopub.status.idle": "2023-06-06T05:14:43.599304Z",
     "shell.execute_reply": "2023-06-06T05:14:43.598385Z"
    },
    "papermill": {
     "duration": 0.103563,
     "end_time": "2023-06-06T05:14:43.601438",
     "exception": false,
     "start_time": "2023-06-06T05:14:43.497875",
     "status": "completed"
    },
    "tags": []
   },
   "outputs": [],
   "source": [
    "# pp"
   ]
  },
  {
   "cell_type": "code",
   "execution_count": 84,
   "id": "dc898377",
   "metadata": {
    "execution": {
     "iopub.execute_input": "2023-06-06T05:14:43.792645Z",
     "iopub.status.busy": "2023-06-06T05:14:43.791996Z",
     "iopub.status.idle": "2023-06-06T05:14:43.796576Z",
     "shell.execute_reply": "2023-06-06T05:14:43.795867Z"
    },
    "papermill": {
     "duration": 0.103265,
     "end_time": "2023-06-06T05:14:43.798617",
     "exception": false,
     "start_time": "2023-06-06T05:14:43.695352",
     "status": "completed"
    },
    "tags": []
   },
   "outputs": [],
   "source": [
    "# import numpy as np\n",
    "# import pandas as pd\n",
    "\n",
    "\n",
    "# # Generate an array of random integers between 1 and 4\n",
    "# random_numbers = np.random.randint(1, 4, sessions_gdf.shape[0])\n",
    "\n",
    "# # Add the array as a new column in the DataFrame\n",
    "# sessions_gdf['day_index'] = random_numbers\n",
    "# sessions_gdf.head()"
   ]
  },
  {
   "cell_type": "code",
   "execution_count": 85,
   "id": "2b605b2b",
   "metadata": {
    "execution": {
     "iopub.execute_input": "2023-06-06T05:14:43.990599Z",
     "iopub.status.busy": "2023-06-06T05:14:43.989947Z",
     "iopub.status.idle": "2023-06-06T05:14:43.994297Z",
     "shell.execute_reply": "2023-06-06T05:14:43.993557Z"
    },
    "papermill": {
     "duration": 0.103294,
     "end_time": "2023-06-06T05:14:43.996305",
     "exception": false,
     "start_time": "2023-06-06T05:14:43.893011",
     "status": "completed"
    },
    "tags": []
   },
   "outputs": [],
   "source": [
    "# !pip install transformers4rec"
   ]
  },
  {
   "cell_type": "code",
   "execution_count": 86,
   "id": "b82ba783",
   "metadata": {
    "execution": {
     "iopub.execute_input": "2023-06-06T05:14:44.191689Z",
     "iopub.status.busy": "2023-06-06T05:14:44.191313Z",
     "iopub.status.idle": "2023-06-06T05:14:44.195577Z",
     "shell.execute_reply": "2023-06-06T05:14:44.194792Z"
    },
    "papermill": {
     "duration": 0.1057,
     "end_time": "2023-06-06T05:14:44.197632",
     "exception": false,
     "start_time": "2023-06-06T05:14:44.091932",
     "status": "completed"
    },
    "tags": []
   },
   "outputs": [],
   "source": [
    "# PARTITION_COL = 'day_index'\n",
    "# from transformers4rec.utils.data_utils import save_time_based_splits\n",
    "# save_time_based_splits(data=nvt.Dataset(sessions_gdf),\n",
    "#                        output_dir= '/kaggle/working/final1/',\n",
    "#                        partition_col=PARTITION_COL,\n",
    "#                        timestamp_col='session_id',\n",
    "#                        test_size = 0.0,\n",
    "#                        val_size = 0.1,\n",
    "#                       )"
   ]
  },
  {
   "cell_type": "code",
   "execution_count": 87,
   "id": "d08595b6",
   "metadata": {
    "execution": {
     "iopub.execute_input": "2023-06-06T05:14:44.391225Z",
     "iopub.status.busy": "2023-06-06T05:14:44.390524Z",
     "iopub.status.idle": "2023-06-06T05:14:44.394469Z",
     "shell.execute_reply": "2023-06-06T05:14:44.393657Z"
    },
    "papermill": {
     "duration": 0.102541,
     "end_time": "2023-06-06T05:14:44.396544",
     "exception": false,
     "start_time": "2023-06-06T05:14:44.294003",
     "status": "completed"
    },
    "tags": []
   },
   "outputs": [],
   "source": [
    "# workflow_path = '/kaggle/working/workflow_etl')\n",
    "# workflow.save(workflow_path)"
   ]
  },
  {
   "cell_type": "code",
   "execution_count": null,
   "id": "67179738",
   "metadata": {
    "papermill": {
     "duration": 0.094602,
     "end_time": "2023-06-06T05:14:44.586787",
     "exception": false,
     "start_time": "2023-06-06T05:14:44.492185",
     "status": "completed"
    },
    "tags": []
   },
   "outputs": [],
   "source": []
  },
  {
   "cell_type": "markdown",
   "id": "ce072835",
   "metadata": {
    "papermill": {
     "duration": 0.094745,
     "end_time": "2023-06-06T05:14:44.775701",
     "exception": false,
     "start_time": "2023-06-06T05:14:44.680956",
     "status": "completed"
    },
    "tags": []
   },
   "source": [
    "# pamda\n"
   ]
  },
  {
   "cell_type": "code",
   "execution_count": 88,
   "id": "acca4e69",
   "metadata": {
    "execution": {
     "iopub.execute_input": "2023-06-06T05:14:44.973014Z",
     "iopub.status.busy": "2023-06-06T05:14:44.972171Z",
     "iopub.status.idle": "2023-06-06T05:14:44.977056Z",
     "shell.execute_reply": "2023-06-06T05:14:44.976187Z"
    },
    "papermill": {
     "duration": 0.10501,
     "end_time": "2023-06-06T05:14:44.979409",
     "exception": false,
     "start_time": "2023-06-06T05:14:44.874399",
     "status": "completed"
    },
    "tags": []
   },
   "outputs": [],
   "source": [
    "# ls"
   ]
  },
  {
   "cell_type": "code",
   "execution_count": 89,
   "id": "129d6d83",
   "metadata": {
    "execution": {
     "iopub.execute_input": "2023-06-06T05:14:45.175675Z",
     "iopub.status.busy": "2023-06-06T05:14:45.174179Z",
     "iopub.status.idle": "2023-06-06T05:14:45.180294Z",
     "shell.execute_reply": "2023-06-06T05:14:45.178881Z"
    },
    "papermill": {
     "duration": 0.108288,
     "end_time": "2023-06-06T05:14:45.183210",
     "exception": false,
     "start_time": "2023-06-06T05:14:45.074922",
     "status": "completed"
    },
    "tags": []
   },
   "outputs": [],
   "source": [
    "# cd processed_nvt/"
   ]
  },
  {
   "cell_type": "code",
   "execution_count": 90,
   "id": "774bc2f9",
   "metadata": {
    "execution": {
     "iopub.execute_input": "2023-06-06T05:14:45.392769Z",
     "iopub.status.busy": "2023-06-06T05:14:45.391572Z",
     "iopub.status.idle": "2023-06-06T05:14:45.396327Z",
     "shell.execute_reply": "2023-06-06T05:14:45.395382Z"
    },
    "papermill": {
     "duration": 0.104168,
     "end_time": "2023-06-06T05:14:45.398480",
     "exception": false,
     "start_time": "2023-06-06T05:14:45.294312",
     "status": "completed"
    },
    "tags": []
   },
   "outputs": [],
   "source": [
    "# train_sessions_UK.head(5)"
   ]
  },
  {
   "cell_type": "code",
   "execution_count": 91,
   "id": "22ab5515",
   "metadata": {
    "execution": {
     "iopub.execute_input": "2023-06-06T05:14:45.594297Z",
     "iopub.status.busy": "2023-06-06T05:14:45.593685Z",
     "iopub.status.idle": "2023-06-06T05:14:45.597488Z",
     "shell.execute_reply": "2023-06-06T05:14:45.596792Z"
    },
    "papermill": {
     "duration": 0.103409,
     "end_time": "2023-06-06T05:14:45.599560",
     "exception": false,
     "start_time": "2023-06-06T05:14:45.496151",
     "status": "completed"
    },
    "tags": []
   },
   "outputs": [],
   "source": [
    "# import sys\n",
    "# !cp /kaggle/input/rapids/rapids.0.17.0 /opt/conda/envs/rapids.tar.gz\n",
    "# !cd /opt/conda/envs/ && tar -xzvf rapids.tar.gz > /dev/null\n",
    "# sys.path = [\"/opt/conda/envs/rapids/lib/python3.7/site-packages\"] + sys.path\n",
    "# sys.path = [\"/opt/conda/envs/rapids/lib/python3.7\"] + sys.path\n",
    "# sys.path = [\"/opt/conda/envs/rapids/lib\"] + sys.path \n",
    "# !cp /opt/conda/envs/rapids/lib/libxgboost.so /opt/conda/lib/"
   ]
  },
  {
   "cell_type": "code",
   "execution_count": 92,
   "id": "e443f2b2",
   "metadata": {
    "execution": {
     "iopub.execute_input": "2023-06-06T05:14:45.795523Z",
     "iopub.status.busy": "2023-06-06T05:14:45.794919Z",
     "iopub.status.idle": "2023-06-06T05:14:45.799100Z",
     "shell.execute_reply": "2023-06-06T05:14:45.798130Z"
    },
    "papermill": {
     "duration": 0.10473,
     "end_time": "2023-06-06T05:14:45.801409",
     "exception": false,
     "start_time": "2023-06-06T05:14:45.696679",
     "status": "completed"
    },
    "tags": []
   },
   "outputs": [],
   "source": [
    "# # Check CUDA/cuDNN Version\n",
    "# !nvcc -V && which nvcc"
   ]
  },
  {
   "cell_type": "code",
   "execution_count": null,
   "id": "a55f6e36",
   "metadata": {
    "papermill": {
     "duration": 0.094992,
     "end_time": "2023-06-06T05:14:45.991982",
     "exception": false,
     "start_time": "2023-06-06T05:14:45.896990",
     "status": "completed"
    },
    "tags": []
   },
   "outputs": [],
   "source": []
  },
  {
   "cell_type": "code",
   "execution_count": 93,
   "id": "c652fbd6",
   "metadata": {
    "execution": {
     "iopub.execute_input": "2023-06-06T05:14:46.186592Z",
     "iopub.status.busy": "2023-06-06T05:14:46.185902Z",
     "iopub.status.idle": "2023-06-06T05:14:46.190075Z",
     "shell.execute_reply": "2023-06-06T05:14:46.189157Z"
    },
    "papermill": {
     "duration": 0.105124,
     "end_time": "2023-06-06T05:14:46.192320",
     "exception": false,
     "start_time": "2023-06-06T05:14:46.087196",
     "status": "completed"
    },
    "tags": []
   },
   "outputs": [],
   "source": [
    "# import cudf\n",
    "# from cudf.core import Series\n",
    "# import math"
   ]
  },
  {
   "cell_type": "code",
   "execution_count": 94,
   "id": "52f43d14",
   "metadata": {
    "execution": {
     "iopub.execute_input": "2023-06-06T05:14:46.385496Z",
     "iopub.status.busy": "2023-06-06T05:14:46.385110Z",
     "iopub.status.idle": "2023-06-06T05:14:46.389329Z",
     "shell.execute_reply": "2023-06-06T05:14:46.388217Z"
    },
    "papermill": {
     "duration": 0.104341,
     "end_time": "2023-06-06T05:14:46.391477",
     "exception": false,
     "start_time": "2023-06-06T05:14:46.287136",
     "status": "completed"
    },
    "tags": []
   },
   "outputs": [],
   "source": [
    "# import cudf\n",
    "# import os"
   ]
  },
  {
   "cell_type": "code",
   "execution_count": 95,
   "id": "0f1a390f",
   "metadata": {
    "execution": {
     "iopub.execute_input": "2023-06-06T05:14:46.585049Z",
     "iopub.status.busy": "2023-06-06T05:14:46.584633Z",
     "iopub.status.idle": "2023-06-06T05:14:46.589205Z",
     "shell.execute_reply": "2023-06-06T05:14:46.588132Z"
    },
    "papermill": {
     "duration": 0.104502,
     "end_time": "2023-06-06T05:14:46.591477",
     "exception": false,
     "start_time": "2023-06-06T05:14:46.486975",
     "status": "completed"
    },
    "tags": []
   },
   "outputs": [],
   "source": [
    "# # read in the processed train dataset\n",
    "# sessions_gdf = cudf.read_parquet('/kaggle/working/processed_nvt/part_0.parquet')"
   ]
  },
  {
   "cell_type": "code",
   "execution_count": 96,
   "id": "29248c3b",
   "metadata": {
    "execution": {
     "iopub.execute_input": "2023-06-06T05:14:46.784064Z",
     "iopub.status.busy": "2023-06-06T05:14:46.783672Z",
     "iopub.status.idle": "2023-06-06T05:14:46.788096Z",
     "shell.execute_reply": "2023-06-06T05:14:46.787041Z"
    },
    "papermill": {
     "duration": 0.103224,
     "end_time": "2023-06-06T05:14:46.790170",
     "exception": false,
     "start_time": "2023-06-06T05:14:46.686946",
     "status": "completed"
    },
    "tags": []
   },
   "outputs": [],
   "source": [
    "# # read in the processed train dataset\n",
    "# sessions_gdf = cudf.read_parquet(os.path.join(INPUT_DATA_DIR, \"processed_nvt/part_0.parquet\"))"
   ]
  },
  {
   "cell_type": "code",
   "execution_count": 97,
   "id": "bd939721",
   "metadata": {
    "execution": {
     "iopub.execute_input": "2023-06-06T05:14:46.984889Z",
     "iopub.status.busy": "2023-06-06T05:14:46.984439Z",
     "iopub.status.idle": "2023-06-06T05:14:46.989270Z",
     "shell.execute_reply": "2023-06-06T05:14:46.988090Z"
    },
    "papermill": {
     "duration": 0.105883,
     "end_time": "2023-06-06T05:14:46.991906",
     "exception": false,
     "start_time": "2023-06-06T05:14:46.886023",
     "status": "completed"
    },
    "tags": []
   },
   "outputs": [],
   "source": [
    "# print(sessions_gdf.head())"
   ]
  },
  {
   "cell_type": "code",
   "execution_count": 98,
   "id": "37cbe77f",
   "metadata": {
    "execution": {
     "iopub.execute_input": "2023-06-06T05:14:47.192106Z",
     "iopub.status.busy": "2023-06-06T05:14:47.191306Z",
     "iopub.status.idle": "2023-06-06T05:14:47.196056Z",
     "shell.execute_reply": "2023-06-06T05:14:47.195229Z"
    },
    "papermill": {
     "duration": 0.110395,
     "end_time": "2023-06-06T05:14:47.198311",
     "exception": false,
     "start_time": "2023-06-06T05:14:47.087916",
     "status": "completed"
    },
    "tags": []
   },
   "outputs": [],
   "source": [
    "# from IPython.display import FileLink\n",
    "# FileLink(r'/kaggle/working/processed_nvt/part_0.parquet')"
   ]
  },
  {
   "cell_type": "code",
   "execution_count": null,
   "id": "16736571",
   "metadata": {
    "papermill": {
     "duration": 0.096477,
     "end_time": "2023-06-06T05:14:47.390580",
     "exception": false,
     "start_time": "2023-06-06T05:14:47.294103",
     "status": "completed"
    },
    "tags": []
   },
   "outputs": [],
   "source": []
  },
  {
   "cell_type": "code",
   "execution_count": 99,
   "id": "21205d57",
   "metadata": {
    "execution": {
     "iopub.execute_input": "2023-06-06T05:14:47.587053Z",
     "iopub.status.busy": "2023-06-06T05:14:47.586263Z",
     "iopub.status.idle": "2023-06-06T05:14:47.590983Z",
     "shell.execute_reply": "2023-06-06T05:14:47.590176Z"
    },
    "papermill": {
     "duration": 0.104673,
     "end_time": "2023-06-06T05:14:47.593213",
     "exception": false,
     "start_time": "2023-06-06T05:14:47.488540",
     "status": "completed"
    },
    "tags": []
   },
   "outputs": [],
   "source": [
    "# cont_feats = groupby_features['et_dayofweek_sin-list', 'product_recency_days_log_norm-list'] >> nvt.ops.AddMetadata(tags=[Tags.CONTINUOUS])\n"
   ]
  },
  {
   "cell_type": "code",
   "execution_count": 100,
   "id": "81a24307",
   "metadata": {
    "execution": {
     "iopub.execute_input": "2023-06-06T05:14:47.787676Z",
     "iopub.status.busy": "2023-06-06T05:14:47.786901Z",
     "iopub.status.idle": "2023-06-06T05:14:47.791506Z",
     "shell.execute_reply": "2023-06-06T05:14:47.790744Z"
    },
    "papermill": {
     "duration": 0.104587,
     "end_time": "2023-06-06T05:14:47.793642",
     "exception": false,
     "start_time": "2023-06-06T05:14:47.689055",
     "status": "completed"
    },
    "tags": []
   },
   "outputs": [],
   "source": [
    "# cd working/"
   ]
  },
  {
   "cell_type": "code",
   "execution_count": 101,
   "id": "e594e637",
   "metadata": {
    "execution": {
     "iopub.execute_input": "2023-06-06T05:14:47.987295Z",
     "iopub.status.busy": "2023-06-06T05:14:47.986879Z",
     "iopub.status.idle": "2023-06-06T05:15:02.581066Z",
     "shell.execute_reply": "2023-06-06T05:15:02.579931Z"
    },
    "papermill": {
     "duration": 14.695224,
     "end_time": "2023-06-06T05:15:02.584733",
     "exception": false,
     "start_time": "2023-06-06T05:14:47.889509",
     "status": "completed"
    },
    "tags": []
   },
   "outputs": [
    {
     "name": "stdout",
     "output_type": "stream",
     "text": [
      "  adding: kaggle/working/categories/ (stored 0%)\r\n",
      "  adding: kaggle/working/categories/unique.model.parquet (deflated 46%)\r\n",
      "  adding: kaggle/working/categories/unique.size.parquet (deflated 51%)\r\n",
      "  adding: kaggle/working/categories/unique.author.parquet (deflated 49%)\r\n",
      "  adding: kaggle/working/categories/unique.prev_items.parquet (deflated 58%)\r\n",
      "  adding: kaggle/working/categories/unique.price.parquet (deflated 51%)\r\n",
      "  adding: kaggle/working/categories/unique.title.parquet (deflated 59%)\r\n",
      "  adding: kaggle/working/categories/unique.material.parquet (deflated 56%)\r\n",
      "  adding: kaggle/working/categories/unique.desc.parquet (deflated 59%)\r\n",
      "  adding: kaggle/working/categories/unique.color.parquet (deflated 52%)\r\n",
      "  adding: kaggle/working/categories/unique.brand.parquet (deflated 41%)\r\n",
      "  adding: kaggle/working/categories/unique.session_id.parquet (deflated 70%)\r\n",
      "  adding: kaggle/working/categories/cat_stats.brand.parquet (deflated 36%)\r\n"
     ]
    }
   ],
   "source": [
    "!zip -r categories_DE_full_new.zip /kaggle/working/categories"
   ]
  },
  {
   "cell_type": "code",
   "execution_count": 102,
   "id": "40d8b085",
   "metadata": {
    "execution": {
     "iopub.execute_input": "2023-06-06T05:15:02.785039Z",
     "iopub.status.busy": "2023-06-06T05:15:02.784531Z",
     "iopub.status.idle": "2023-06-06T05:15:28.087455Z",
     "shell.execute_reply": "2023-06-06T05:15:28.085666Z"
    },
    "papermill": {
     "duration": 25.406545,
     "end_time": "2023-06-06T05:15:28.090742",
     "exception": false,
     "start_time": "2023-06-06T05:15:02.684197",
     "status": "completed"
    },
    "tags": []
   },
   "outputs": [
    {
     "name": "stdout",
     "output_type": "stream",
     "text": [
      "  adding: kaggle/working/processed_nvt/ (stored 0%)\r\n",
      "  adding: kaggle/working/processed_nvt/.merlin/ (stored 0%)\r\n",
      "  adding: kaggle/working/processed_nvt/.merlin/schema.json (deflated 85%)\r\n",
      "  adding: kaggle/working/processed_nvt/_metadata.json (deflated 27%)\r\n",
      "  adding: kaggle/working/processed_nvt/part_0.parquet (deflated 47%)\r\n",
      "  adding: kaggle/working/processed_nvt/_metadata (deflated 75%)\r\n",
      "  adding: kaggle/working/processed_nvt/_file_list.txt (stored 0%)\r\n",
      "  adding: kaggle/working/processed_nvt/test_0.parquet (deflated 17%)\r\n",
      "  adding: kaggle/working/processed_nvt/schema.pbtxt (deflated 91%)\r\n"
     ]
    }
   ],
   "source": [
    "!zip -r processed_DE_full_new.zip /kaggle/working/processed_nvt"
   ]
  },
  {
   "cell_type": "code",
   "execution_count": 103,
   "id": "fbe50d91",
   "metadata": {
    "execution": {
     "iopub.execute_input": "2023-06-06T05:15:28.291869Z",
     "iopub.status.busy": "2023-06-06T05:15:28.291416Z",
     "iopub.status.idle": "2023-06-06T05:15:28.297104Z",
     "shell.execute_reply": "2023-06-06T05:15:28.295941Z"
    },
    "papermill": {
     "duration": 0.108693,
     "end_time": "2023-06-06T05:15:28.299667",
     "exception": false,
     "start_time": "2023-06-06T05:15:28.190974",
     "status": "completed"
    },
    "tags": []
   },
   "outputs": [],
   "source": [
    "# cd workflow_etl/"
   ]
  },
  {
   "cell_type": "code",
   "execution_count": 104,
   "id": "fc289a09",
   "metadata": {
    "execution": {
     "iopub.execute_input": "2023-06-06T05:15:28.496986Z",
     "iopub.status.busy": "2023-06-06T05:15:28.496551Z",
     "iopub.status.idle": "2023-06-06T05:15:28.501178Z",
     "shell.execute_reply": "2023-06-06T05:15:28.500190Z"
    },
    "papermill": {
     "duration": 0.105984,
     "end_time": "2023-06-06T05:15:28.503428",
     "exception": false,
     "start_time": "2023-06-06T05:15:28.397444",
     "status": "completed"
    },
    "tags": []
   },
   "outputs": [],
   "source": [
    "# cd categories/\n"
   ]
  },
  {
   "cell_type": "code",
   "execution_count": 105,
   "id": "1e4e2b8c",
   "metadata": {
    "execution": {
     "iopub.execute_input": "2023-06-06T05:15:28.702536Z",
     "iopub.status.busy": "2023-06-06T05:15:28.702143Z",
     "iopub.status.idle": "2023-06-06T05:15:28.706648Z",
     "shell.execute_reply": "2023-06-06T05:15:28.705599Z"
    },
    "papermill": {
     "duration": 0.106989,
     "end_time": "2023-06-06T05:15:28.709111",
     "exception": false,
     "start_time": "2023-06-06T05:15:28.602122",
     "status": "completed"
    },
    "tags": []
   },
   "outputs": [],
   "source": [
    "# # workflow_path = os.path.join('/kaggle/working/', 'workflow_etl')\n",
    "# workflow.save(workflow_path)"
   ]
  }
 ],
 "metadata": {
  "kernelspec": {
   "display_name": "Python 3",
   "language": "python",
   "name": "python3"
  },
  "language_info": {
   "codemirror_mode": {
    "name": "ipython",
    "version": 3
   },
   "file_extension": ".py",
   "mimetype": "text/x-python",
   "name": "python",
   "nbconvert_exporter": "python",
   "pygments_lexer": "ipython3",
   "version": "3.10.10"
  },
  "papermill": {
   "default_parameters": {},
   "duration": 3864.554023,
   "end_time": "2023-06-06T05:15:31.942336",
   "environment_variables": {},
   "exception": null,
   "input_path": "__notebook__.ipynb",
   "output_path": "__notebook__.ipynb",
   "parameters": {},
   "start_time": "2023-06-06T04:11:07.388313",
   "version": "2.4.0"
  }
 },
 "nbformat": 4,
 "nbformat_minor": 5
}
